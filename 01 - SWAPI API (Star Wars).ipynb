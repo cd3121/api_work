{
 "cells": [
  {
   "cell_type": "markdown",
   "metadata": {},
   "source": [
    "# SWAPI (Star Wars)\n",
    "\n",
    "Answer the following questions using the [Star Wars](https://swapi.co/). I've added three cells for each question but you're free to use more or less! Hold `Shift` and hit `Enter` to run a cell, and use the `+` on the top left to add a new cell to a notebook.\n",
    "\n",
    "If you spend some time reading the documentation your life will probably be a little bit easier!\n",
    "\n",
    "## 0) Import any libraries you might need\n",
    "\n",
    "- *Tip: We're going to be downloading things from the internet, so we probably need `requests`.*"
   ]
  },
  {
   "cell_type": "code",
   "execution_count": 46,
   "metadata": {},
   "outputs": [],
   "source": [
    "import requests\n",
    "response = requests.get ('https://api.darksky.net/forecast/d38a56fcc1631bba48f442124da83da2/37.8267,-122.4233')\n",
    "DarkSky = response.json()"
   ]
  },
  {
   "cell_type": "code",
   "execution_count": null,
   "metadata": {},
   "outputs": [],
   "source": []
  },
  {
   "cell_type": "code",
   "execution_count": null,
   "metadata": {},
   "outputs": [],
   "source": []
  },
  {
   "cell_type": "markdown",
   "metadata": {},
   "source": [
    "## 1) Make a request to the Star Wars API\n",
    "\n",
    "I've heard there's a new Star Wars film called **Solo**, but it isn't in SWAPI!\n",
    "\n",
    "The most recent film it contains has an ID of 7. Make a request for that film and look at the data."
   ]
  },
  {
   "cell_type": "code",
   "execution_count": 47,
   "metadata": {},
   "outputs": [
    {
     "data": {
      "text/plain": [
       "dict_keys(['count', 'next', 'previous', 'results'])"
      ]
     },
     "execution_count": 47,
     "metadata": {},
     "output_type": "execute_result"
    }
   ],
   "source": [
    "saga.keys()"
   ]
  },
  {
   "cell_type": "code",
   "execution_count": 48,
   "metadata": {},
   "outputs": [
    {
     "data": {
      "text/plain": [
       "[{'title': 'A New Hope',\n",
       "  'episode_id': 4,\n",
       "  'opening_crawl': \"It is a period of civil war.\\r\\nRebel spaceships, striking\\r\\nfrom a hidden base, have won\\r\\ntheir first victory against\\r\\nthe evil Galactic Empire.\\r\\n\\r\\nDuring the battle, Rebel\\r\\nspies managed to steal secret\\r\\nplans to the Empire's\\r\\nultimate weapon, the DEATH\\r\\nSTAR, an armored space\\r\\nstation with enough power\\r\\nto destroy an entire planet.\\r\\n\\r\\nPursued by the Empire's\\r\\nsinister agents, Princess\\r\\nLeia races home aboard her\\r\\nstarship, custodian of the\\r\\nstolen plans that can save her\\r\\npeople and restore\\r\\nfreedom to the galaxy....\",\n",
       "  'director': 'George Lucas',\n",
       "  'producer': 'Gary Kurtz, Rick McCallum',\n",
       "  'release_date': '1977-05-25',\n",
       "  'characters': ['https://swapi.co/api/people/1/',\n",
       "   'https://swapi.co/api/people/2/',\n",
       "   'https://swapi.co/api/people/3/',\n",
       "   'https://swapi.co/api/people/4/',\n",
       "   'https://swapi.co/api/people/5/',\n",
       "   'https://swapi.co/api/people/6/',\n",
       "   'https://swapi.co/api/people/7/',\n",
       "   'https://swapi.co/api/people/8/',\n",
       "   'https://swapi.co/api/people/9/',\n",
       "   'https://swapi.co/api/people/10/',\n",
       "   'https://swapi.co/api/people/12/',\n",
       "   'https://swapi.co/api/people/13/',\n",
       "   'https://swapi.co/api/people/14/',\n",
       "   'https://swapi.co/api/people/15/',\n",
       "   'https://swapi.co/api/people/16/',\n",
       "   'https://swapi.co/api/people/18/',\n",
       "   'https://swapi.co/api/people/19/',\n",
       "   'https://swapi.co/api/people/81/'],\n",
       "  'planets': ['https://swapi.co/api/planets/2/',\n",
       "   'https://swapi.co/api/planets/3/',\n",
       "   'https://swapi.co/api/planets/1/'],\n",
       "  'starships': ['https://swapi.co/api/starships/2/',\n",
       "   'https://swapi.co/api/starships/3/',\n",
       "   'https://swapi.co/api/starships/5/',\n",
       "   'https://swapi.co/api/starships/9/',\n",
       "   'https://swapi.co/api/starships/10/',\n",
       "   'https://swapi.co/api/starships/11/',\n",
       "   'https://swapi.co/api/starships/12/',\n",
       "   'https://swapi.co/api/starships/13/'],\n",
       "  'vehicles': ['https://swapi.co/api/vehicles/4/',\n",
       "   'https://swapi.co/api/vehicles/6/',\n",
       "   'https://swapi.co/api/vehicles/7/',\n",
       "   'https://swapi.co/api/vehicles/8/'],\n",
       "  'species': ['https://swapi.co/api/species/5/',\n",
       "   'https://swapi.co/api/species/3/',\n",
       "   'https://swapi.co/api/species/2/',\n",
       "   'https://swapi.co/api/species/1/',\n",
       "   'https://swapi.co/api/species/4/'],\n",
       "  'created': '2014-12-10T14:23:31.880000Z',\n",
       "  'edited': '2015-04-11T09:46:52.774897Z',\n",
       "  'url': 'https://swapi.co/api/films/1/'},\n",
       " {'title': 'Attack of the Clones',\n",
       "  'episode_id': 2,\n",
       "  'opening_crawl': 'There is unrest in the Galactic\\r\\nSenate. Several thousand solar\\r\\nsystems have declared their\\r\\nintentions to leave the Republic.\\r\\n\\r\\nThis separatist movement,\\r\\nunder the leadership of the\\r\\nmysterious Count Dooku, has\\r\\nmade it difficult for the limited\\r\\nnumber of Jedi Knights to maintain \\r\\npeace and order in the galaxy.\\r\\n\\r\\nSenator Amidala, the former\\r\\nQueen of Naboo, is returning\\r\\nto the Galactic Senate to vote\\r\\non the critical issue of creating\\r\\nan ARMY OF THE REPUBLIC\\r\\nto assist the overwhelmed\\r\\nJedi....',\n",
       "  'director': 'George Lucas',\n",
       "  'producer': 'Rick McCallum',\n",
       "  'release_date': '2002-05-16',\n",
       "  'characters': ['https://swapi.co/api/people/2/',\n",
       "   'https://swapi.co/api/people/3/',\n",
       "   'https://swapi.co/api/people/6/',\n",
       "   'https://swapi.co/api/people/7/',\n",
       "   'https://swapi.co/api/people/10/',\n",
       "   'https://swapi.co/api/people/11/',\n",
       "   'https://swapi.co/api/people/20/',\n",
       "   'https://swapi.co/api/people/21/',\n",
       "   'https://swapi.co/api/people/22/',\n",
       "   'https://swapi.co/api/people/33/',\n",
       "   'https://swapi.co/api/people/36/',\n",
       "   'https://swapi.co/api/people/40/',\n",
       "   'https://swapi.co/api/people/43/',\n",
       "   'https://swapi.co/api/people/46/',\n",
       "   'https://swapi.co/api/people/51/',\n",
       "   'https://swapi.co/api/people/52/',\n",
       "   'https://swapi.co/api/people/53/',\n",
       "   'https://swapi.co/api/people/58/',\n",
       "   'https://swapi.co/api/people/59/',\n",
       "   'https://swapi.co/api/people/60/',\n",
       "   'https://swapi.co/api/people/61/',\n",
       "   'https://swapi.co/api/people/62/',\n",
       "   'https://swapi.co/api/people/63/',\n",
       "   'https://swapi.co/api/people/64/',\n",
       "   'https://swapi.co/api/people/65/',\n",
       "   'https://swapi.co/api/people/66/',\n",
       "   'https://swapi.co/api/people/67/',\n",
       "   'https://swapi.co/api/people/68/',\n",
       "   'https://swapi.co/api/people/69/',\n",
       "   'https://swapi.co/api/people/70/',\n",
       "   'https://swapi.co/api/people/71/',\n",
       "   'https://swapi.co/api/people/72/',\n",
       "   'https://swapi.co/api/people/73/',\n",
       "   'https://swapi.co/api/people/74/',\n",
       "   'https://swapi.co/api/people/75/',\n",
       "   'https://swapi.co/api/people/76/',\n",
       "   'https://swapi.co/api/people/77/',\n",
       "   'https://swapi.co/api/people/78/',\n",
       "   'https://swapi.co/api/people/82/',\n",
       "   'https://swapi.co/api/people/35/'],\n",
       "  'planets': ['https://swapi.co/api/planets/8/',\n",
       "   'https://swapi.co/api/planets/9/',\n",
       "   'https://swapi.co/api/planets/10/',\n",
       "   'https://swapi.co/api/planets/11/',\n",
       "   'https://swapi.co/api/planets/1/'],\n",
       "  'starships': ['https://swapi.co/api/starships/21/',\n",
       "   'https://swapi.co/api/starships/39/',\n",
       "   'https://swapi.co/api/starships/43/',\n",
       "   'https://swapi.co/api/starships/47/',\n",
       "   'https://swapi.co/api/starships/48/',\n",
       "   'https://swapi.co/api/starships/49/',\n",
       "   'https://swapi.co/api/starships/32/',\n",
       "   'https://swapi.co/api/starships/52/',\n",
       "   'https://swapi.co/api/starships/58/'],\n",
       "  'vehicles': ['https://swapi.co/api/vehicles/4/',\n",
       "   'https://swapi.co/api/vehicles/44/',\n",
       "   'https://swapi.co/api/vehicles/45/',\n",
       "   'https://swapi.co/api/vehicles/46/',\n",
       "   'https://swapi.co/api/vehicles/50/',\n",
       "   'https://swapi.co/api/vehicles/51/',\n",
       "   'https://swapi.co/api/vehicles/53/',\n",
       "   'https://swapi.co/api/vehicles/54/',\n",
       "   'https://swapi.co/api/vehicles/55/',\n",
       "   'https://swapi.co/api/vehicles/56/',\n",
       "   'https://swapi.co/api/vehicles/57/'],\n",
       "  'species': ['https://swapi.co/api/species/32/',\n",
       "   'https://swapi.co/api/species/33/',\n",
       "   'https://swapi.co/api/species/2/',\n",
       "   'https://swapi.co/api/species/35/',\n",
       "   'https://swapi.co/api/species/6/',\n",
       "   'https://swapi.co/api/species/1/',\n",
       "   'https://swapi.co/api/species/12/',\n",
       "   'https://swapi.co/api/species/34/',\n",
       "   'https://swapi.co/api/species/13/',\n",
       "   'https://swapi.co/api/species/15/',\n",
       "   'https://swapi.co/api/species/28/',\n",
       "   'https://swapi.co/api/species/29/',\n",
       "   'https://swapi.co/api/species/30/',\n",
       "   'https://swapi.co/api/species/31/'],\n",
       "  'created': '2014-12-20T10:57:57.886000Z',\n",
       "  'edited': '2015-04-11T09:45:01.623982Z',\n",
       "  'url': 'https://swapi.co/api/films/5/'},\n",
       " {'title': 'The Phantom Menace',\n",
       "  'episode_id': 1,\n",
       "  'opening_crawl': 'Turmoil has engulfed the\\r\\nGalactic Republic. The taxation\\r\\nof trade routes to outlying star\\r\\nsystems is in dispute.\\r\\n\\r\\nHoping to resolve the matter\\r\\nwith a blockade of deadly\\r\\nbattleships, the greedy Trade\\r\\nFederation has stopped all\\r\\nshipping to the small planet\\r\\nof Naboo.\\r\\n\\r\\nWhile the Congress of the\\r\\nRepublic endlessly debates\\r\\nthis alarming chain of events,\\r\\nthe Supreme Chancellor has\\r\\nsecretly dispatched two Jedi\\r\\nKnights, the guardians of\\r\\npeace and justice in the\\r\\ngalaxy, to settle the conflict....',\n",
       "  'director': 'George Lucas',\n",
       "  'producer': 'Rick McCallum',\n",
       "  'release_date': '1999-05-19',\n",
       "  'characters': ['https://swapi.co/api/people/2/',\n",
       "   'https://swapi.co/api/people/3/',\n",
       "   'https://swapi.co/api/people/10/',\n",
       "   'https://swapi.co/api/people/11/',\n",
       "   'https://swapi.co/api/people/16/',\n",
       "   'https://swapi.co/api/people/20/',\n",
       "   'https://swapi.co/api/people/21/',\n",
       "   'https://swapi.co/api/people/32/',\n",
       "   'https://swapi.co/api/people/33/',\n",
       "   'https://swapi.co/api/people/34/',\n",
       "   'https://swapi.co/api/people/36/',\n",
       "   'https://swapi.co/api/people/37/',\n",
       "   'https://swapi.co/api/people/38/',\n",
       "   'https://swapi.co/api/people/39/',\n",
       "   'https://swapi.co/api/people/40/',\n",
       "   'https://swapi.co/api/people/41/',\n",
       "   'https://swapi.co/api/people/42/',\n",
       "   'https://swapi.co/api/people/43/',\n",
       "   'https://swapi.co/api/people/44/',\n",
       "   'https://swapi.co/api/people/46/',\n",
       "   'https://swapi.co/api/people/48/',\n",
       "   'https://swapi.co/api/people/49/',\n",
       "   'https://swapi.co/api/people/50/',\n",
       "   'https://swapi.co/api/people/51/',\n",
       "   'https://swapi.co/api/people/52/',\n",
       "   'https://swapi.co/api/people/53/',\n",
       "   'https://swapi.co/api/people/54/',\n",
       "   'https://swapi.co/api/people/55/',\n",
       "   'https://swapi.co/api/people/56/',\n",
       "   'https://swapi.co/api/people/57/',\n",
       "   'https://swapi.co/api/people/58/',\n",
       "   'https://swapi.co/api/people/59/',\n",
       "   'https://swapi.co/api/people/47/',\n",
       "   'https://swapi.co/api/people/35/'],\n",
       "  'planets': ['https://swapi.co/api/planets/8/',\n",
       "   'https://swapi.co/api/planets/9/',\n",
       "   'https://swapi.co/api/planets/1/'],\n",
       "  'starships': ['https://swapi.co/api/starships/40/',\n",
       "   'https://swapi.co/api/starships/41/',\n",
       "   'https://swapi.co/api/starships/31/',\n",
       "   'https://swapi.co/api/starships/32/',\n",
       "   'https://swapi.co/api/starships/39/'],\n",
       "  'vehicles': ['https://swapi.co/api/vehicles/33/',\n",
       "   'https://swapi.co/api/vehicles/34/',\n",
       "   'https://swapi.co/api/vehicles/35/',\n",
       "   'https://swapi.co/api/vehicles/36/',\n",
       "   'https://swapi.co/api/vehicles/37/',\n",
       "   'https://swapi.co/api/vehicles/38/',\n",
       "   'https://swapi.co/api/vehicles/42/'],\n",
       "  'species': ['https://swapi.co/api/species/1/',\n",
       "   'https://swapi.co/api/species/2/',\n",
       "   'https://swapi.co/api/species/6/',\n",
       "   'https://swapi.co/api/species/11/',\n",
       "   'https://swapi.co/api/species/12/',\n",
       "   'https://swapi.co/api/species/13/',\n",
       "   'https://swapi.co/api/species/14/',\n",
       "   'https://swapi.co/api/species/15/',\n",
       "   'https://swapi.co/api/species/16/',\n",
       "   'https://swapi.co/api/species/17/',\n",
       "   'https://swapi.co/api/species/18/',\n",
       "   'https://swapi.co/api/species/19/',\n",
       "   'https://swapi.co/api/species/20/',\n",
       "   'https://swapi.co/api/species/21/',\n",
       "   'https://swapi.co/api/species/22/',\n",
       "   'https://swapi.co/api/species/23/',\n",
       "   'https://swapi.co/api/species/24/',\n",
       "   'https://swapi.co/api/species/25/',\n",
       "   'https://swapi.co/api/species/26/',\n",
       "   'https://swapi.co/api/species/27/'],\n",
       "  'created': '2014-12-19T16:52:55.740000Z',\n",
       "  'edited': '2015-04-11T09:45:18.689301Z',\n",
       "  'url': 'https://swapi.co/api/films/4/'},\n",
       " {'title': 'Revenge of the Sith',\n",
       "  'episode_id': 3,\n",
       "  'opening_crawl': 'War! The Republic is crumbling\\r\\nunder attacks by the ruthless\\r\\nSith Lord, Count Dooku.\\r\\nThere are heroes on both sides.\\r\\nEvil is everywhere.\\r\\n\\r\\nIn a stunning move, the\\r\\nfiendish droid leader, General\\r\\nGrievous, has swept into the\\r\\nRepublic capital and kidnapped\\r\\nChancellor Palpatine, leader of\\r\\nthe Galactic Senate.\\r\\n\\r\\nAs the Separatist Droid Army\\r\\nattempts to flee the besieged\\r\\ncapital with their valuable\\r\\nhostage, two Jedi Knights lead a\\r\\ndesperate mission to rescue the\\r\\ncaptive Chancellor....',\n",
       "  'director': 'George Lucas',\n",
       "  'producer': 'Rick McCallum',\n",
       "  'release_date': '2005-05-19',\n",
       "  'characters': ['https://swapi.co/api/people/1/',\n",
       "   'https://swapi.co/api/people/2/',\n",
       "   'https://swapi.co/api/people/3/',\n",
       "   'https://swapi.co/api/people/4/',\n",
       "   'https://swapi.co/api/people/5/',\n",
       "   'https://swapi.co/api/people/6/',\n",
       "   'https://swapi.co/api/people/7/',\n",
       "   'https://swapi.co/api/people/10/',\n",
       "   'https://swapi.co/api/people/11/',\n",
       "   'https://swapi.co/api/people/12/',\n",
       "   'https://swapi.co/api/people/13/',\n",
       "   'https://swapi.co/api/people/20/',\n",
       "   'https://swapi.co/api/people/21/',\n",
       "   'https://swapi.co/api/people/33/',\n",
       "   'https://swapi.co/api/people/46/',\n",
       "   'https://swapi.co/api/people/51/',\n",
       "   'https://swapi.co/api/people/52/',\n",
       "   'https://swapi.co/api/people/53/',\n",
       "   'https://swapi.co/api/people/54/',\n",
       "   'https://swapi.co/api/people/55/',\n",
       "   'https://swapi.co/api/people/56/',\n",
       "   'https://swapi.co/api/people/58/',\n",
       "   'https://swapi.co/api/people/63/',\n",
       "   'https://swapi.co/api/people/64/',\n",
       "   'https://swapi.co/api/people/67/',\n",
       "   'https://swapi.co/api/people/68/',\n",
       "   'https://swapi.co/api/people/75/',\n",
       "   'https://swapi.co/api/people/78/',\n",
       "   'https://swapi.co/api/people/79/',\n",
       "   'https://swapi.co/api/people/80/',\n",
       "   'https://swapi.co/api/people/81/',\n",
       "   'https://swapi.co/api/people/82/',\n",
       "   'https://swapi.co/api/people/83/',\n",
       "   'https://swapi.co/api/people/35/'],\n",
       "  'planets': ['https://swapi.co/api/planets/2/',\n",
       "   'https://swapi.co/api/planets/5/',\n",
       "   'https://swapi.co/api/planets/8/',\n",
       "   'https://swapi.co/api/planets/9/',\n",
       "   'https://swapi.co/api/planets/12/',\n",
       "   'https://swapi.co/api/planets/13/',\n",
       "   'https://swapi.co/api/planets/14/',\n",
       "   'https://swapi.co/api/planets/15/',\n",
       "   'https://swapi.co/api/planets/16/',\n",
       "   'https://swapi.co/api/planets/17/',\n",
       "   'https://swapi.co/api/planets/18/',\n",
       "   'https://swapi.co/api/planets/19/',\n",
       "   'https://swapi.co/api/planets/1/'],\n",
       "  'starships': ['https://swapi.co/api/starships/48/',\n",
       "   'https://swapi.co/api/starships/59/',\n",
       "   'https://swapi.co/api/starships/61/',\n",
       "   'https://swapi.co/api/starships/32/',\n",
       "   'https://swapi.co/api/starships/63/',\n",
       "   'https://swapi.co/api/starships/64/',\n",
       "   'https://swapi.co/api/starships/65/',\n",
       "   'https://swapi.co/api/starships/66/',\n",
       "   'https://swapi.co/api/starships/74/',\n",
       "   'https://swapi.co/api/starships/75/',\n",
       "   'https://swapi.co/api/starships/2/',\n",
       "   'https://swapi.co/api/starships/68/'],\n",
       "  'vehicles': ['https://swapi.co/api/vehicles/33/',\n",
       "   'https://swapi.co/api/vehicles/50/',\n",
       "   'https://swapi.co/api/vehicles/53/',\n",
       "   'https://swapi.co/api/vehicles/56/',\n",
       "   'https://swapi.co/api/vehicles/60/',\n",
       "   'https://swapi.co/api/vehicles/62/',\n",
       "   'https://swapi.co/api/vehicles/67/',\n",
       "   'https://swapi.co/api/vehicles/69/',\n",
       "   'https://swapi.co/api/vehicles/70/',\n",
       "   'https://swapi.co/api/vehicles/71/',\n",
       "   'https://swapi.co/api/vehicles/72/',\n",
       "   'https://swapi.co/api/vehicles/73/',\n",
       "   'https://swapi.co/api/vehicles/76/'],\n",
       "  'species': ['https://swapi.co/api/species/19/',\n",
       "   'https://swapi.co/api/species/33/',\n",
       "   'https://swapi.co/api/species/2/',\n",
       "   'https://swapi.co/api/species/3/',\n",
       "   'https://swapi.co/api/species/36/',\n",
       "   'https://swapi.co/api/species/37/',\n",
       "   'https://swapi.co/api/species/6/',\n",
       "   'https://swapi.co/api/species/1/',\n",
       "   'https://swapi.co/api/species/34/',\n",
       "   'https://swapi.co/api/species/15/',\n",
       "   'https://swapi.co/api/species/35/',\n",
       "   'https://swapi.co/api/species/20/',\n",
       "   'https://swapi.co/api/species/23/',\n",
       "   'https://swapi.co/api/species/24/',\n",
       "   'https://swapi.co/api/species/25/',\n",
       "   'https://swapi.co/api/species/26/',\n",
       "   'https://swapi.co/api/species/27/',\n",
       "   'https://swapi.co/api/species/28/',\n",
       "   'https://swapi.co/api/species/29/',\n",
       "   'https://swapi.co/api/species/30/'],\n",
       "  'created': '2014-12-20T18:49:38.403000Z',\n",
       "  'edited': '2015-04-11T09:45:44.862122Z',\n",
       "  'url': 'https://swapi.co/api/films/6/'},\n",
       " {'title': 'Return of the Jedi',\n",
       "  'episode_id': 6,\n",
       "  'opening_crawl': 'Luke Skywalker has returned to\\r\\nhis home planet of Tatooine in\\r\\nan attempt to rescue his\\r\\nfriend Han Solo from the\\r\\nclutches of the vile gangster\\r\\nJabba the Hutt.\\r\\n\\r\\nLittle does Luke know that the\\r\\nGALACTIC EMPIRE has secretly\\r\\nbegun construction on a new\\r\\narmored space station even\\r\\nmore powerful than the first\\r\\ndreaded Death Star.\\r\\n\\r\\nWhen completed, this ultimate\\r\\nweapon will spell certain doom\\r\\nfor the small band of rebels\\r\\nstruggling to restore freedom\\r\\nto the galaxy...',\n",
       "  'director': 'Richard Marquand',\n",
       "  'producer': 'Howard G. Kazanjian, George Lucas, Rick McCallum',\n",
       "  'release_date': '1983-05-25',\n",
       "  'characters': ['https://swapi.co/api/people/1/',\n",
       "   'https://swapi.co/api/people/2/',\n",
       "   'https://swapi.co/api/people/3/',\n",
       "   'https://swapi.co/api/people/4/',\n",
       "   'https://swapi.co/api/people/5/',\n",
       "   'https://swapi.co/api/people/10/',\n",
       "   'https://swapi.co/api/people/13/',\n",
       "   'https://swapi.co/api/people/14/',\n",
       "   'https://swapi.co/api/people/16/',\n",
       "   'https://swapi.co/api/people/18/',\n",
       "   'https://swapi.co/api/people/20/',\n",
       "   'https://swapi.co/api/people/21/',\n",
       "   'https://swapi.co/api/people/22/',\n",
       "   'https://swapi.co/api/people/25/',\n",
       "   'https://swapi.co/api/people/27/',\n",
       "   'https://swapi.co/api/people/28/',\n",
       "   'https://swapi.co/api/people/29/',\n",
       "   'https://swapi.co/api/people/30/',\n",
       "   'https://swapi.co/api/people/31/',\n",
       "   'https://swapi.co/api/people/45/'],\n",
       "  'planets': ['https://swapi.co/api/planets/5/',\n",
       "   'https://swapi.co/api/planets/7/',\n",
       "   'https://swapi.co/api/planets/8/',\n",
       "   'https://swapi.co/api/planets/9/',\n",
       "   'https://swapi.co/api/planets/1/'],\n",
       "  'starships': ['https://swapi.co/api/starships/15/',\n",
       "   'https://swapi.co/api/starships/10/',\n",
       "   'https://swapi.co/api/starships/11/',\n",
       "   'https://swapi.co/api/starships/12/',\n",
       "   'https://swapi.co/api/starships/22/',\n",
       "   'https://swapi.co/api/starships/23/',\n",
       "   'https://swapi.co/api/starships/27/',\n",
       "   'https://swapi.co/api/starships/28/',\n",
       "   'https://swapi.co/api/starships/29/',\n",
       "   'https://swapi.co/api/starships/3/',\n",
       "   'https://swapi.co/api/starships/17/',\n",
       "   'https://swapi.co/api/starships/2/'],\n",
       "  'vehicles': ['https://swapi.co/api/vehicles/8/',\n",
       "   'https://swapi.co/api/vehicles/16/',\n",
       "   'https://swapi.co/api/vehicles/18/',\n",
       "   'https://swapi.co/api/vehicles/19/',\n",
       "   'https://swapi.co/api/vehicles/24/',\n",
       "   'https://swapi.co/api/vehicles/25/',\n",
       "   'https://swapi.co/api/vehicles/26/',\n",
       "   'https://swapi.co/api/vehicles/30/'],\n",
       "  'species': ['https://swapi.co/api/species/1/',\n",
       "   'https://swapi.co/api/species/2/',\n",
       "   'https://swapi.co/api/species/3/',\n",
       "   'https://swapi.co/api/species/5/',\n",
       "   'https://swapi.co/api/species/6/',\n",
       "   'https://swapi.co/api/species/8/',\n",
       "   'https://swapi.co/api/species/9/',\n",
       "   'https://swapi.co/api/species/10/',\n",
       "   'https://swapi.co/api/species/15/'],\n",
       "  'created': '2014-12-18T10:39:33.255000Z',\n",
       "  'edited': '2015-04-11T09:46:05.220365Z',\n",
       "  'url': 'https://swapi.co/api/films/3/'},\n",
       " {'title': 'The Empire Strikes Back',\n",
       "  'episode_id': 5,\n",
       "  'opening_crawl': 'It is a dark time for the\\r\\nRebellion. Although the Death\\r\\nStar has been destroyed,\\r\\nImperial troops have driven the\\r\\nRebel forces from their hidden\\r\\nbase and pursued them across\\r\\nthe galaxy.\\r\\n\\r\\nEvading the dreaded Imperial\\r\\nStarfleet, a group of freedom\\r\\nfighters led by Luke Skywalker\\r\\nhas established a new secret\\r\\nbase on the remote ice world\\r\\nof Hoth.\\r\\n\\r\\nThe evil lord Darth Vader,\\r\\nobsessed with finding young\\r\\nSkywalker, has dispatched\\r\\nthousands of remote probes into\\r\\nthe far reaches of space....',\n",
       "  'director': 'Irvin Kershner',\n",
       "  'producer': 'Gary Kurtz, Rick McCallum',\n",
       "  'release_date': '1980-05-17',\n",
       "  'characters': ['https://swapi.co/api/people/1/',\n",
       "   'https://swapi.co/api/people/2/',\n",
       "   'https://swapi.co/api/people/3/',\n",
       "   'https://swapi.co/api/people/4/',\n",
       "   'https://swapi.co/api/people/5/',\n",
       "   'https://swapi.co/api/people/10/',\n",
       "   'https://swapi.co/api/people/13/',\n",
       "   'https://swapi.co/api/people/14/',\n",
       "   'https://swapi.co/api/people/18/',\n",
       "   'https://swapi.co/api/people/20/',\n",
       "   'https://swapi.co/api/people/21/',\n",
       "   'https://swapi.co/api/people/22/',\n",
       "   'https://swapi.co/api/people/23/',\n",
       "   'https://swapi.co/api/people/24/',\n",
       "   'https://swapi.co/api/people/25/',\n",
       "   'https://swapi.co/api/people/26/'],\n",
       "  'planets': ['https://swapi.co/api/planets/4/',\n",
       "   'https://swapi.co/api/planets/5/',\n",
       "   'https://swapi.co/api/planets/6/',\n",
       "   'https://swapi.co/api/planets/27/'],\n",
       "  'starships': ['https://swapi.co/api/starships/15/',\n",
       "   'https://swapi.co/api/starships/10/',\n",
       "   'https://swapi.co/api/starships/11/',\n",
       "   'https://swapi.co/api/starships/12/',\n",
       "   'https://swapi.co/api/starships/21/',\n",
       "   'https://swapi.co/api/starships/22/',\n",
       "   'https://swapi.co/api/starships/23/',\n",
       "   'https://swapi.co/api/starships/3/',\n",
       "   'https://swapi.co/api/starships/17/'],\n",
       "  'vehicles': ['https://swapi.co/api/vehicles/8/',\n",
       "   'https://swapi.co/api/vehicles/14/',\n",
       "   'https://swapi.co/api/vehicles/16/',\n",
       "   'https://swapi.co/api/vehicles/18/',\n",
       "   'https://swapi.co/api/vehicles/19/',\n",
       "   'https://swapi.co/api/vehicles/20/'],\n",
       "  'species': ['https://swapi.co/api/species/6/',\n",
       "   'https://swapi.co/api/species/7/',\n",
       "   'https://swapi.co/api/species/3/',\n",
       "   'https://swapi.co/api/species/2/',\n",
       "   'https://swapi.co/api/species/1/'],\n",
       "  'created': '2014-12-12T11:26:24.656000Z',\n",
       "  'edited': '2017-04-19T10:57:29.544256Z',\n",
       "  'url': 'https://swapi.co/api/films/2/'},\n",
       " {'title': 'The Force Awakens',\n",
       "  'episode_id': 7,\n",
       "  'opening_crawl': \"Luke Skywalker has vanished.\\r\\nIn his absence, the sinister\\r\\nFIRST ORDER has risen from\\r\\nthe ashes of the Empire\\r\\nand will not rest until\\r\\nSkywalker, the last Jedi,\\r\\nhas been destroyed.\\r\\n \\r\\nWith the support of the\\r\\nREPUBLIC, General Leia Organa\\r\\nleads a brave RESISTANCE.\\r\\nShe is desperate to find her\\r\\nbrother Luke and gain his\\r\\nhelp in restoring peace and\\r\\njustice to the galaxy.\\r\\n \\r\\nLeia has sent her most daring\\r\\npilot on a secret mission\\r\\nto Jakku, where an old ally\\r\\nhas discovered a clue to\\r\\nLuke's whereabouts....\",\n",
       "  'director': 'J. J. Abrams',\n",
       "  'producer': 'Kathleen Kennedy, J. J. Abrams, Bryan Burk',\n",
       "  'release_date': '2015-12-11',\n",
       "  'characters': ['https://swapi.co/api/people/1/',\n",
       "   'https://swapi.co/api/people/3/',\n",
       "   'https://swapi.co/api/people/5/',\n",
       "   'https://swapi.co/api/people/13/',\n",
       "   'https://swapi.co/api/people/14/',\n",
       "   'https://swapi.co/api/people/27/',\n",
       "   'https://swapi.co/api/people/84/',\n",
       "   'https://swapi.co/api/people/85/',\n",
       "   'https://swapi.co/api/people/86/',\n",
       "   'https://swapi.co/api/people/87/',\n",
       "   'https://swapi.co/api/people/88/'],\n",
       "  'planets': ['https://swapi.co/api/planets/61/'],\n",
       "  'starships': ['https://swapi.co/api/starships/77/',\n",
       "   'https://swapi.co/api/starships/10/'],\n",
       "  'vehicles': [],\n",
       "  'species': ['https://swapi.co/api/species/3/',\n",
       "   'https://swapi.co/api/species/2/',\n",
       "   'https://swapi.co/api/species/1/'],\n",
       "  'created': '2015-04-17T06:51:30.504780Z',\n",
       "  'edited': '2015-12-17T14:31:47.617768Z',\n",
       "  'url': 'https://swapi.co/api/films/7/'}]"
      ]
     },
     "execution_count": 48,
     "metadata": {},
     "output_type": "execute_result"
    }
   ],
   "source": [
    "saga['results']\n"
   ]
  },
  {
   "cell_type": "code",
   "execution_count": 49,
   "metadata": {},
   "outputs": [
    {
     "name": "stdout",
     "output_type": "stream",
     "text": [
      "dict_items([('title', 'The Force Awakens'), ('episode_id', 7), ('opening_crawl', \"Luke Skywalker has vanished.\\r\\nIn his absence, the sinister\\r\\nFIRST ORDER has risen from\\r\\nthe ashes of the Empire\\r\\nand will not rest until\\r\\nSkywalker, the last Jedi,\\r\\nhas been destroyed.\\r\\n \\r\\nWith the support of the\\r\\nREPUBLIC, General Leia Organa\\r\\nleads a brave RESISTANCE.\\r\\nShe is desperate to find her\\r\\nbrother Luke and gain his\\r\\nhelp in restoring peace and\\r\\njustice to the galaxy.\\r\\n \\r\\nLeia has sent her most daring\\r\\npilot on a secret mission\\r\\nto Jakku, where an old ally\\r\\nhas discovered a clue to\\r\\nLuke's whereabouts....\"), ('director', 'J. J. Abrams'), ('producer', 'Kathleen Kennedy, J. J. Abrams, Bryan Burk'), ('release_date', '2015-12-11'), ('characters', ['https://swapi.co/api/people/1/', 'https://swapi.co/api/people/3/', 'https://swapi.co/api/people/5/', 'https://swapi.co/api/people/13/', 'https://swapi.co/api/people/14/', 'https://swapi.co/api/people/27/', 'https://swapi.co/api/people/84/', 'https://swapi.co/api/people/85/', 'https://swapi.co/api/people/86/', 'https://swapi.co/api/people/87/', 'https://swapi.co/api/people/88/']), ('planets', ['https://swapi.co/api/planets/61/']), ('starships', ['https://swapi.co/api/starships/77/', 'https://swapi.co/api/starships/10/']), ('vehicles', []), ('species', ['https://swapi.co/api/species/3/', 'https://swapi.co/api/species/2/', 'https://swapi.co/api/species/1/']), ('created', '2015-04-17T06:51:30.504780Z'), ('edited', '2015-12-17T14:31:47.617768Z'), ('url', 'https://swapi.co/api/films/7/')])\n"
     ]
    }
   ],
   "source": [
    "films = saga['results']\n",
    "for film in films:\n",
    "    if film['episode_id'] == 7:\n",
    "        print(film.items())"
   ]
  },
  {
   "cell_type": "markdown",
   "metadata": {},
   "source": [
    "## 2) What is that film's name, and when was it released?\n",
    "\n",
    "Please print **only** the title and the release date. You can guess at the keys, but I recommend checking the documentation."
   ]
  },
  {
   "cell_type": "code",
   "execution_count": 39,
   "metadata": {},
   "outputs": [
    {
     "name": "stdout",
     "output_type": "stream",
     "text": [
      "The Force Awakens: 2015-12-11\n"
     ]
    }
   ],
   "source": [
    "print(f\"{film['title']}: {film['release_date']}\")"
   ]
  },
  {
   "cell_type": "code",
   "execution_count": null,
   "metadata": {},
   "outputs": [],
   "source": []
  },
  {
   "cell_type": "code",
   "execution_count": null,
   "metadata": {},
   "outputs": [],
   "source": []
  },
  {
   "cell_type": "markdown",
   "metadata": {},
   "source": [
    "## 3) But I want Han Solo! Use the API to search for people named \"Solo\"."
   ]
  },
  {
   "cell_type": "code",
   "execution_count": 76,
   "metadata": {},
   "outputs": [],
   "source": [
    "import requests\n",
    "response = requests.get('https://swapi.co/api/people/?search=Solo')\n",
    "Solo = response.json()"
   ]
  },
  {
   "cell_type": "code",
   "execution_count": 77,
   "metadata": {},
   "outputs": [
    {
     "data": {
      "text/plain": [
       "dict_keys(['count', 'next', 'previous', 'results'])"
      ]
     },
     "execution_count": 77,
     "metadata": {},
     "output_type": "execute_result"
    }
   ],
   "source": [
    "Solo.keys()"
   ]
  },
  {
   "cell_type": "code",
   "execution_count": 148,
   "metadata": {},
   "outputs": [
    {
     "data": {
      "text/plain": [
       "[{'name': 'Han Solo',\n",
       "  'height': '180',\n",
       "  'mass': '80',\n",
       "  'hair_color': 'brown',\n",
       "  'skin_color': 'fair',\n",
       "  'eye_color': 'brown',\n",
       "  'birth_year': '29BBY',\n",
       "  'gender': 'male',\n",
       "  'homeworld': 'https://swapi.co/api/planets/22/',\n",
       "  'films': ['https://swapi.co/api/films/2/',\n",
       "   'https://swapi.co/api/films/3/',\n",
       "   'https://swapi.co/api/films/1/',\n",
       "   'https://swapi.co/api/films/7/'],\n",
       "  'species': ['https://swapi.co/api/species/1/'],\n",
       "  'vehicles': [],\n",
       "  'starships': ['https://swapi.co/api/starships/10/',\n",
       "   'https://swapi.co/api/starships/22/'],\n",
       "  'created': '2014-12-10T16:49:14.582000Z',\n",
       "  'edited': '2014-12-20T21:17:50.334000Z',\n",
       "  'url': 'https://swapi.co/api/people/14/'}]"
      ]
     },
     "execution_count": 148,
     "metadata": {},
     "output_type": "execute_result"
    }
   ],
   "source": [
    "Solo['results']"
   ]
  },
  {
   "cell_type": "markdown",
   "metadata": {},
   "source": [
    "## 4) How many results did you get?\n",
    "\n",
    "Show **two different ways** of displaying this number.\n",
    "\n",
    "- *Tip: One uses the API, and one uses a Python function*"
   ]
  },
  {
   "cell_type": "code",
   "execution_count": 95,
   "metadata": {},
   "outputs": [
    {
     "name": "stdout",
     "output_type": "stream",
     "text": [
      "16\n"
     ]
    }
   ],
   "source": [
    "infos = Solo['results']\n",
    "for info in infos:\n",
    "    print(len(info.keys()))\n"
   ]
  },
  {
   "cell_type": "code",
   "execution_count": 53,
   "metadata": {},
   "outputs": [],
   "source": []
  },
  {
   "cell_type": "code",
   "execution_count": null,
   "metadata": {},
   "outputs": [],
   "source": []
  },
  {
   "cell_type": "markdown",
   "metadata": {},
   "source": [
    "## 5) Write me a sentence about Han Solo\n",
    "\n",
    "Your sentence should be say `\"____ has _____ hair, is _____cm tall and weighs ____kg.\"` - make sure you have **no spcaes** between the numbers and `cm`/`kg`."
   ]
  },
  {
   "cell_type": "code",
   "execution_count": 103,
   "metadata": {},
   "outputs": [
    {
     "name": "stdout",
     "output_type": "stream",
     "text": [
      "dict_keys(['name', 'height', 'mass', 'hair_color', 'skin_color', 'eye_color', 'birth_year', 'gender', 'homeworld', 'films', 'species', 'vehicles', 'starships', 'created', 'edited', 'url'])\n"
     ]
    }
   ],
   "source": [
    "Solo_infos = Solo['results']\n",
    "for info in infos:\n",
    "    print(info.keys())"
   ]
  },
  {
   "cell_type": "code",
   "execution_count": 104,
   "metadata": {},
   "outputs": [
    {
     "name": "stdout",
     "output_type": "stream",
     "text": [
      "Han Solo has brown hair, is 180cm and weighs 80kg.\n"
     ]
    }
   ],
   "source": [
    "print (f\"{info['name']} has {info['hair_color']} hair, is {info['height']}cm and weighs {info['mass']}kg.\")"
   ]
  },
  {
   "cell_type": "code",
   "execution_count": null,
   "metadata": {},
   "outputs": [],
   "source": []
  },
  {
   "cell_type": "markdown",
   "metadata": {},
   "source": [
    "## 5) Search for C-3PO"
   ]
  },
  {
   "cell_type": "code",
   "execution_count": 119,
   "metadata": {},
   "outputs": [],
   "source": [
    "import requests\n",
    "response = requests.get('https://swapi.co/api/people/?search= C-3PO')\n",
    "C3PO = response.json()"
   ]
  },
  {
   "cell_type": "code",
   "execution_count": 120,
   "metadata": {},
   "outputs": [
    {
     "data": {
      "text/plain": [
       "[{'name': 'C-3PO',\n",
       "  'height': '167',\n",
       "  'mass': '75',\n",
       "  'hair_color': 'n/a',\n",
       "  'skin_color': 'gold',\n",
       "  'eye_color': 'yellow',\n",
       "  'birth_year': '112BBY',\n",
       "  'gender': 'n/a',\n",
       "  'homeworld': 'https://swapi.co/api/planets/1/',\n",
       "  'films': ['https://swapi.co/api/films/2/',\n",
       "   'https://swapi.co/api/films/5/',\n",
       "   'https://swapi.co/api/films/4/',\n",
       "   'https://swapi.co/api/films/6/',\n",
       "   'https://swapi.co/api/films/3/',\n",
       "   'https://swapi.co/api/films/1/'],\n",
       "  'species': ['https://swapi.co/api/species/2/'],\n",
       "  'vehicles': [],\n",
       "  'starships': [],\n",
       "  'created': '2014-12-10T15:10:51.357000Z',\n",
       "  'edited': '2014-12-20T21:17:50.309000Z',\n",
       "  'url': 'https://swapi.co/api/people/2/'}]"
      ]
     },
     "execution_count": 120,
     "metadata": {},
     "output_type": "execute_result"
    }
   ],
   "source": [
    "C3PO['results']"
   ]
  },
  {
   "cell_type": "code",
   "execution_count": null,
   "metadata": {},
   "outputs": [],
   "source": []
  },
  {
   "cell_type": "markdown",
   "metadata": {},
   "source": [
    "## 6) What URL can tell me more about his species? Make a request to the corrent endpoint.\n",
    "\n",
    "Spoiler: he's a **droid**. Are robots a species? I guess so, maybe."
   ]
  },
  {
   "cell_type": "code",
   "execution_count": 122,
   "metadata": {},
   "outputs": [],
   "source": [
    "import requests\n",
    "response = requests.get('https://swapi.co/api/species/2/')\n",
    "species = response.json()"
   ]
  },
  {
   "cell_type": "code",
   "execution_count": 124,
   "metadata": {},
   "outputs": [
    {
     "data": {
      "text/plain": [
       "dict_items([('name', 'Droid'), ('classification', 'artificial'), ('designation', 'sentient'), ('average_height', 'n/a'), ('skin_colors', 'n/a'), ('hair_colors', 'n/a'), ('eye_colors', 'n/a'), ('average_lifespan', 'indefinite'), ('homeworld', None), ('language', 'n/a'), ('people', ['https://swapi.co/api/people/2/', 'https://swapi.co/api/people/3/', 'https://swapi.co/api/people/8/', 'https://swapi.co/api/people/23/', 'https://swapi.co/api/people/87/']), ('films', ['https://swapi.co/api/films/2/', 'https://swapi.co/api/films/7/', 'https://swapi.co/api/films/5/', 'https://swapi.co/api/films/4/', 'https://swapi.co/api/films/6/', 'https://swapi.co/api/films/3/', 'https://swapi.co/api/films/1/']), ('created', '2014-12-10T15:16:16.259000Z'), ('edited', '2015-04-17T06:59:43.869528Z'), ('url', 'https://swapi.co/api/species/2/')])"
      ]
     },
     "execution_count": 124,
     "metadata": {},
     "output_type": "execute_result"
    }
   ],
   "source": [
    "species.items()"
   ]
  },
  {
   "cell_type": "code",
   "execution_count": 125,
   "metadata": {},
   "outputs": [
    {
     "name": "stdout",
     "output_type": "stream",
     "text": [
      "Droid\n"
     ]
    }
   ],
   "source": [
    "print (species['name'])"
   ]
  },
  {
   "cell_type": "markdown",
   "metadata": {},
   "source": [
    "## 7) Print out the URL of every droid\n",
    "\n",
    "* *Tip: life will be easier if you don't say `for droid in...` or `for person in` because you aren't looping through droids or people. What are you looping through?*"
   ]
  },
  {
   "cell_type": "code",
   "execution_count": 160,
   "metadata": {},
   "outputs": [
    {
     "data": {
      "text/plain": [
       "dict_items([('name', 'Droid'), ('classification', 'artificial'), ('designation', 'sentient'), ('average_height', 'n/a'), ('skin_colors', 'n/a'), ('hair_colors', 'n/a'), ('eye_colors', 'n/a'), ('average_lifespan', 'indefinite'), ('homeworld', None), ('language', 'n/a'), ('people', ['https://swapi.co/api/people/2/', 'https://swapi.co/api/people/3/', 'https://swapi.co/api/people/8/', 'https://swapi.co/api/people/23/', 'https://swapi.co/api/people/87/']), ('films', ['https://swapi.co/api/films/2/', 'https://swapi.co/api/films/7/', 'https://swapi.co/api/films/5/', 'https://swapi.co/api/films/4/', 'https://swapi.co/api/films/6/', 'https://swapi.co/api/films/3/', 'https://swapi.co/api/films/1/']), ('created', '2014-12-10T15:16:16.259000Z'), ('edited', '2015-04-17T06:59:43.869528Z'), ('url', 'https://swapi.co/api/species/2/')])"
      ]
     },
     "execution_count": 160,
     "metadata": {},
     "output_type": "execute_result"
    }
   ],
   "source": [
    "species.items()"
   ]
  },
  {
   "cell_type": "code",
   "execution_count": 154,
   "metadata": {},
   "outputs": [
    {
     "name": "stdout",
     "output_type": "stream",
     "text": [
      "https://swapi.co/api/people/2/\n",
      "https://swapi.co/api/people/3/\n",
      "https://swapi.co/api/people/8/\n",
      "https://swapi.co/api/people/23/\n",
      "https://swapi.co/api/people/87/\n"
     ]
    }
   ],
   "source": [
    "adresses = species['people']\n",
    "for adress in adresses:\n",
    "    print (adress)\n"
   ]
  },
  {
   "cell_type": "markdown",
   "metadata": {},
   "source": [
    "## 8) Print out the name of every droid\n",
    "\n",
    "* *Tip: You should start from the last answer, but add more stuff in!*\n",
    "* *Tip: You'll need to make a request every time you're in the loop*\n",
    "* *Tip: Be careful - f you re-use the variable name `data` you'll erase your old `data` variable*"
   ]
  },
  {
   "cell_type": "code",
   "execution_count": 157,
   "metadata": {},
   "outputs": [
    {
     "name": "stdout",
     "output_type": "stream",
     "text": [
      "C-3PO\n",
      "R2-D2\n",
      "R5-D4\n",
      "IG-88\n",
      "BB8\n"
     ]
    }
   ],
   "source": [
    "for adress in adresses:\n",
    "    import requests\n",
    "    response = requests.get(adress)\n",
    "    droids = response.json()\n",
    "    print (droids['name'])\n",
    "    \n"
   ]
  },
  {
   "cell_type": "code",
   "execution_count": 158,
   "metadata": {},
   "outputs": [
    {
     "name": "stdout",
     "output_type": "stream",
     "text": [
      "dict_keys(['name', 'height', 'mass', 'hair_color', 'skin_color', 'eye_color', 'birth_year', 'gender', 'homeworld', 'films', 'species', 'vehicles', 'starships', 'created', 'edited', 'url'])\n"
     ]
    }
   ],
   "source": [
    "print (droids.keys())"
   ]
  },
  {
   "cell_type": "code",
   "execution_count": null,
   "metadata": {},
   "outputs": [],
   "source": []
  },
  {
   "cell_type": "markdown",
   "metadata": {},
   "source": [
    "## 9) Print out more about the droid\n",
    "\n",
    "Count the number of films for each droid, printing `\"___ was in ___ films\"` for each of them\n",
    "\n",
    "* *Tip: You might want to look at a single droid result, or print the data in the for loop, so you know how to get the films. Or read the documentation!*"
   ]
  },
  {
   "cell_type": "code",
   "execution_count": 197,
   "metadata": {},
   "outputs": [
    {
     "name": "stdout",
     "output_type": "stream",
     "text": [
      "C-3PO was in 6 films.\n",
      "R2-D2 was in 7 films.\n",
      "R5-D4 was in 1 films.\n",
      "IG-88 was in 1 films.\n",
      "BB8 was in 1 films.\n"
     ]
    }
   ],
   "source": [
    "for adress in adresses:\n",
    "    count = 0\n",
    "    import requests\n",
    "    response = requests.get(adress)\n",
    "    droids = response.json()\n",
    "    adressfilms = droids['films']\n",
    "#   print (droids['name'])\n",
    "#   print (films)\n",
    "    for adressfilm in adressfilms:\n",
    "        count = count + 1\n",
    "    print (f\"{droids['name']} was in {count} films.\")\n",
    "#      import requests\n",
    "#        response = requests.get(adressfilm)\n",
    "#        films = response.json()\n",
    "#        print (f\"{droids['name']} was in {films['title']}.\")"
   ]
  },
  {
   "cell_type": "code",
   "execution_count": null,
   "metadata": {},
   "outputs": [],
   "source": []
  },
  {
   "cell_type": "code",
   "execution_count": null,
   "metadata": {},
   "outputs": [],
   "source": []
  },
  {
   "cell_type": "markdown",
   "metadata": {},
   "source": [
    "## 10) Let's be smart and cache the results *[DIFFICULT, maybe!]*\n",
    "\n",
    "So far we've been using a for loop to go through each droid. Every droid, one more request. Every time we want more data, we run the loops again. I don't want that guy to get angry that we're asking for so much data!\n",
    "\n",
    "We want to our list of **droid urls** and turn it into a **list of dictionaries about those droids**. Save it as a variable called `droids`. If you get it correct, the following code should work if you cut and paste it.\n",
    "\n",
    "```python\n",
    "for droid in droids:\n",
    "    print(droid['name'])\n",
    "```\n",
    "\n",
    "* *Tip: Use a list comprehension*\n",
    "* *Tip: So far we've done `response = requests.get..` and `response.json()` on separate lines. You'll need to combine them!*"
   ]
  },
  {
   "cell_type": "code",
   "execution_count": 240,
   "metadata": {},
   "outputs": [
    {
     "name": "stdout",
     "output_type": "stream",
     "text": [
      "C-3PO\n",
      "R2-D2\n",
      "R5-D4\n",
      "IG-88\n",
      "BB8\n"
     ]
    }
   ],
   "source": [
    "droidslist = []\n",
    "adresses = species['people']\n",
    "droidslist1 = [droidslist.append(adress) for adress in adresses]\n",
    "droidslist2 = [(requests.get(adress)).json() for adress in droidslist]\n",
    "droids = droidslist2\n",
    "for droid in droids:\n",
    "    print(droid['name'])"
   ]
  },
  {
   "cell_type": "code",
   "execution_count": null,
   "metadata": {},
   "outputs": [],
   "source": []
  },
  {
   "cell_type": "code",
   "execution_count": null,
   "metadata": {},
   "outputs": [],
   "source": []
  },
  {
   "cell_type": "markdown",
   "metadata": {},
   "source": [
    "## 11) Get a list of every single planet in the Star Wars universe\n",
    "\n",
    "* *Tip: You'll want to use the API documentation for this, I think*"
   ]
  },
  {
   "cell_type": "code",
   "execution_count": 250,
   "metadata": {},
   "outputs": [
    {
     "name": "stdout",
     "output_type": "stream",
     "text": [
      "Alderaan\n",
      "Yavin IV\n",
      "Hoth\n",
      "Dagobah\n",
      "Bespin\n",
      "Endor\n",
      "Naboo\n",
      "Coruscant\n",
      "Kamino\n",
      "Geonosis\n"
     ]
    }
   ],
   "source": [
    "import requests\n",
    "response = requests.get('https://swapi.co/api/planets/')\n",
    "planets = response.json()\n",
    "infos_planets = planets['results']\n",
    "for infos in infos_planets:\n",
    "    print (infos['name'])\n",
    "           "
   ]
  },
  {
   "cell_type": "code",
   "execution_count": null,
   "metadata": {},
   "outputs": [],
   "source": []
  },
  {
   "cell_type": "code",
   "execution_count": null,
   "metadata": {},
   "outputs": [],
   "source": []
  },
  {
   "cell_type": "markdown",
   "metadata": {},
   "source": [
    "## 12) How many plants are there? Show me two different ways of displaying the answer.\n",
    "\n",
    "* *Tip: They won't match*"
   ]
  },
  {
   "cell_type": "code",
   "execution_count": 248,
   "metadata": {},
   "outputs": [
    {
     "data": {
      "text/plain": [
       "61"
      ]
     },
     "execution_count": 248,
     "metadata": {},
     "output_type": "execute_result"
    }
   ],
   "source": [
    "planets['count']"
   ]
  },
  {
   "cell_type": "code",
   "execution_count": 251,
   "metadata": {},
   "outputs": [
    {
     "name": "stdout",
     "output_type": "stream",
     "text": [
      "10\n"
     ]
    }
   ],
   "source": [
    "infos_planets = planets['results']\n",
    "count = 0\n",
    "for infos in infos_planets:\n",
    "    count = count + 1\n",
    "print (count)\n",
    "           "
   ]
  },
  {
   "cell_type": "code",
   "execution_count": null,
   "metadata": {},
   "outputs": [],
   "source": []
  },
  {
   "cell_type": "markdown",
   "metadata": {},
   "source": [
    "# These questions are all list comprehension questions, if you'd like\n",
    "\n",
    "## 13) Get the population of each of the planets\n",
    "\n",
    "* *Tip: Only use the 10 results for now*\n",
    "* *Tip: Use a list comprehension*"
   ]
  },
  {
   "cell_type": "code",
   "execution_count": 266,
   "metadata": {},
   "outputs": [
    {
     "name": "stdout",
     "output_type": "stream",
     "text": [
      "['2000000000', '1000', 'unknown', 'unknown', '6000000', '30000000', '4500000000', '1000000000000', '1000000000', '100000000000']\n"
     ]
    }
   ],
   "source": [
    "infos_planets = planets['results']\n",
    "pop = []\n",
    "pop1 = [pop.append(infos['population']) for infos in infos_planets]\n",
    "print (pop)"
   ]
  },
  {
   "cell_type": "code",
   "execution_count": null,
   "metadata": {},
   "outputs": [],
   "source": []
  },
  {
   "cell_type": "code",
   "execution_count": null,
   "metadata": {},
   "outputs": [],
   "source": []
  },
  {
   "cell_type": "markdown",
   "metadata": {},
   "source": [
    "## 14) Get the population of each of the planets, EXCEPT the ones that have a population of `'unknown'`\n",
    "\n",
    "* *Tip: Use a list comprehension with a filter (that's the `..if..` part at the end)*"
   ]
  },
  {
   "cell_type": "code",
   "execution_count": 261,
   "metadata": {},
   "outputs": [
    {
     "name": "stdout",
     "output_type": "stream",
     "text": [
      "['2000000000', '1000', '6000000', '30000000', '4500000000', '1000000000000', '1000000000', '100000000000']\n"
     ]
    }
   ],
   "source": [
    "infos_planets = planets['results']\n",
    "pop = []\n",
    "pop1 = [pop.append(infos['population']) for infos in infos_planets if infos['population'] != 'unknown']\n",
    "print (pop)"
   ]
  },
  {
   "cell_type": "code",
   "execution_count": null,
   "metadata": {},
   "outputs": [],
   "source": []
  },
  {
   "cell_type": "code",
   "execution_count": null,
   "metadata": {},
   "outputs": [],
   "source": []
  },
  {
   "cell_type": "markdown",
   "metadata": {},
   "source": [
    "## 14) Add up the populations\n",
    "\n",
    "* *Tip: They're strings right now, so it isn't going to work unless you change something about them*"
   ]
  },
  {
   "cell_type": "code",
   "execution_count": 269,
   "metadata": {},
   "outputs": [
    {
     "data": {
      "text/plain": [
       "1107536001000"
      ]
     },
     "execution_count": 269,
     "metadata": {},
     "output_type": "execute_result"
    }
   ],
   "source": [
    "infos_planets = planets['results']\n",
    "pop = []\n",
    "pop1 = [pop.append(int(infos['population'])) for infos in infos_planets if infos['population'] != 'unknown']\n",
    "sum (pop)"
   ]
  },
  {
   "cell_type": "code",
   "execution_count": null,
   "metadata": {},
   "outputs": [],
   "source": []
  },
  {
   "cell_type": "code",
   "execution_count": null,
   "metadata": {},
   "outputs": [],
   "source": []
  },
  {
   "cell_type": "markdown",
   "metadata": {},
   "source": [
    "## 15) Print what percentage of the total population each planet has\n",
    "\n",
    "I would like the sentences to be `\"The planet ____ has a population of _____, which is ___% of the total population\"`. If we don't know the planet's population, say `\"We don't know the population of _____\"`.\n",
    "\n",
    "* *Tip: This finally uses a for loop, but also the result of the last question*"
   ]
  },
  {
   "cell_type": "code",
   "execution_count": 1,
   "metadata": {},
   "outputs": [
    {
     "ename": "NameError",
     "evalue": "name 'planets' is not defined",
     "output_type": "error",
     "traceback": [
      "\u001b[0;31m---------------------------------------------------------------------------\u001b[0m",
      "\u001b[0;31mNameError\u001b[0m                                 Traceback (most recent call last)",
      "\u001b[0;32m<ipython-input-1-64a83318845b>\u001b[0m in \u001b[0;36m<module>\u001b[0;34m\u001b[0m\n\u001b[0;32m----> 1\u001b[0;31m \u001b[0minfos_planets\u001b[0m \u001b[0;34m=\u001b[0m \u001b[0mplanets\u001b[0m\u001b[0;34m[\u001b[0m\u001b[0;34m'results'\u001b[0m\u001b[0;34m]\u001b[0m\u001b[0;34m\u001b[0m\u001b[0;34m\u001b[0m\u001b[0m\n\u001b[0m\u001b[1;32m      2\u001b[0m \u001b[0;32mfor\u001b[0m \u001b[0minfos\u001b[0m \u001b[0;32min\u001b[0m \u001b[0minfos_planets\u001b[0m\u001b[0;34m:\u001b[0m\u001b[0;34m\u001b[0m\u001b[0;34m\u001b[0m\u001b[0m\n\u001b[1;32m      3\u001b[0m     \u001b[0mpercentage\u001b[0m \u001b[0;34m=\u001b[0m \u001b[0;34m(\u001b[0m\u001b[0mint\u001b[0m\u001b[0;34m(\u001b[0m\u001b[0minfos\u001b[0m\u001b[0;34m[\u001b[0m\u001b[0;34m'population'\u001b[0m\u001b[0;34m]\u001b[0m\u001b[0;34m)\u001b[0m \u001b[0;34m*\u001b[0m \u001b[0;36m100\u001b[0m\u001b[0;34m)\u001b[0m\u001b[0;34m/\u001b[0m\u001b[0mpop\u001b[0m\u001b[0;34m\u001b[0m\u001b[0;34m\u001b[0m\u001b[0m\n\u001b[1;32m      4\u001b[0m     \u001b[0mprint\u001b[0m \u001b[0;34m(\u001b[0m\u001b[0mpercentage\u001b[0m\u001b[0;34m)\u001b[0m\u001b[0;34m\u001b[0m\u001b[0;34m\u001b[0m\u001b[0m\n\u001b[1;32m      5\u001b[0m     \u001b[0mprint\u001b[0m \u001b[0;34m(\u001b[0m\u001b[0;34mf\"The planet {infos['name']} has a population of {int(infos['population'])}, wich is {percentage} of the total population.\"\u001b[0m\u001b[0;34m)\u001b[0m\u001b[0;34m\u001b[0m\u001b[0;34m\u001b[0m\u001b[0m\n",
      "\u001b[0;31mNameError\u001b[0m: name 'planets' is not defined"
     ]
    }
   ],
   "source": [
    "infos_planets = planets['results']\n",
    "for infos in infos_planets:\n",
    "    percentage = (int(infos['population']) * 100)/pop\n",
    "    print (percentage)\n",
    "    print (f\"The planet {infos['name']} has a population of {int(infos['population'])}, wich is {percentage} of the total population.\")"
   ]
  },
  {
   "cell_type": "code",
   "execution_count": null,
   "metadata": {},
   "outputs": [],
   "source": []
  },
  {
   "cell_type": "code",
   "execution_count": null,
   "metadata": {},
   "outputs": [],
   "source": []
  }
 ],
 "metadata": {
  "kernelspec": {
   "display_name": "Python 3",
   "language": "python",
   "name": "python3"
  },
  "language_info": {
   "codemirror_mode": {
    "name": "ipython",
    "version": 3
   },
   "file_extension": ".py",
   "mimetype": "text/x-python",
   "name": "python",
   "nbconvert_exporter": "python",
   "pygments_lexer": "ipython3",
   "version": "3.7.1"
  }
 },
 "nbformat": 4,
 "nbformat_minor": 2
}
