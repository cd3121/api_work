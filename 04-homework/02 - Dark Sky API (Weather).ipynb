{
 "cells": [
  {
   "cell_type": "markdown",
   "metadata": {},
   "source": [
    "# Dark Sky API (Weather)\n",
    "\n",
    "Answer the following questions using the [Dark Sky API](https://darksky.net/dev/). I've added three cells for each question but you're free to use more or less! Hold `Shift` and hit `Enter` to run a cell, and use the `+` on the top left to add a new cell to a notebook.\n",
    "\n",
    "If you spend some time reading the documentation your life will probably be a little bit easier!\n",
    "\n",
    "## 0) Import any libraries you might need\n",
    "\n",
    "- *Tip: We're going to be downloading things from the internet, so we probably need `requests`.*"
   ]
  },
  {
   "cell_type": "code",
   "execution_count": 7,
   "metadata": {},
   "outputs": [],
   "source": [
    "from dotenv import load_dotenv\n",
    "load_dotenv()\n",
    "import os\n",
    "\n",
    "API_DARKSKY_KEY = os.getenv('API_DARKSKY_KEY')"
   ]
  },
  {
   "cell_type": "code",
   "execution_count": 8,
   "metadata": {},
   "outputs": [],
   "source": [
    "\n",
    "import requests\n",
    "response = requests.get (f\"https://api.darksky.net/forecast/{API_DARKSKY_KEY}/46.204391,6.143158\")\n",
    "data = response.json()"
   ]
  },
  {
   "cell_type": "code",
   "execution_count": 9,
   "metadata": {},
   "outputs": [
    {
     "name": "stdout",
     "output_type": "stream",
     "text": [
      "{'latitude': 46.204391, 'longitude': 6.143158, 'timezone': 'Europe/Zurich', 'currently': {'time': 1560201855, 'summary': 'Rain', 'icon': 'rain', 'precipIntensity': 0.0764, 'precipProbability': 0.76, 'precipType': 'rain', 'temperature': 54.62, 'apparentTemperature': 54.62, 'dewPoint': 52.35, 'humidity': 0.92, 'pressure': 1013.5, 'windSpeed': 3, 'windGust': 5.42, 'windBearing': 14, 'cloudCover': 1, 'uvIndex': 0, 'visibility': 5.78, 'ozone': 348.29}, 'hourly': {'summary': 'Rain tomorrow morning and evening.', 'icon': 'rain', 'data': [{'time': 1560200400, 'summary': 'Rain', 'icon': 'rain', 'precipIntensity': 0.089, 'precipProbability': 0.78, 'precipType': 'rain', 'temperature': 54.99, 'apparentTemperature': 54.99, 'dewPoint': 52.81, 'humidity': 0.92, 'pressure': 1013.56, 'windSpeed': 2.98, 'windGust': 5.43, 'windBearing': 15, 'cloudCover': 1, 'uvIndex': 0, 'visibility': 6.09, 'ozone': 345.67}, {'time': 1560204000, 'summary': 'Rain', 'icon': 'rain', 'precipIntensity': 0.0578, 'precipProbability': 0.74, 'precipType': 'rain', 'temperature': 54.09, 'apparentTemperature': 54.09, 'dewPoint': 51.67, 'humidity': 0.92, 'pressure': 1013.42, 'windSpeed': 3.03, 'windGust': 5.4, 'windBearing': 14, 'cloudCover': 1, 'uvIndex': 0, 'visibility': 5.32, 'ozone': 352.15}, {'time': 1560207600, 'summary': 'Light Rain', 'icon': 'rain', 'precipIntensity': 0.0253, 'precipProbability': 0.63, 'precipType': 'rain', 'temperature': 52.98, 'apparentTemperature': 52.98, 'dewPoint': 49.05, 'humidity': 0.86, 'pressure': 1013.17, 'windSpeed': 2.99, 'windGust': 5.05, 'windBearing': 15, 'cloudCover': 1, 'uvIndex': 0, 'visibility': 2.65, 'ozone': 359.85}, {'time': 1560211200, 'summary': 'Foggy', 'icon': 'fog', 'precipIntensity': 0.0093, 'precipProbability': 0.41, 'precipType': 'rain', 'temperature': 51.98, 'apparentTemperature': 51.98, 'dewPoint': 47.14, 'humidity': 0.83, 'pressure': 1012.87, 'windSpeed': 2.97, 'windGust': 4.78, 'windBearing': 12, 'cloudCover': 0.98, 'uvIndex': 0, 'visibility': 1.38, 'ozone': 364.06}, {'time': 1560214800, 'summary': 'Mostly Cloudy', 'icon': 'partly-cloudy-night', 'precipIntensity': 0.0037, 'precipProbability': 0.25, 'precipType': 'rain', 'temperature': 51.14, 'apparentTemperature': 51.14, 'dewPoint': 46.49, 'humidity': 0.84, 'pressure': 1012.49, 'windSpeed': 3, 'windGust': 4.73, 'windBearing': 5, 'cloudCover': 0.81, 'uvIndex': 0, 'visibility': 2.78, 'ozone': 361.54}, {'time': 1560218400, 'summary': 'Partly Cloudy', 'icon': 'partly-cloudy-night', 'precipIntensity': 0.0023, 'precipProbability': 0.18, 'precipType': 'rain', 'temperature': 50.47, 'apparentTemperature': 50.47, 'dewPoint': 45.95, 'humidity': 0.84, 'pressure': 1012.05, 'windSpeed': 3.03, 'windGust': 4.74, 'windBearing': 357, 'cloudCover': 0.58, 'uvIndex': 0, 'visibility': 4.77, 'ozone': 355.5}, {'time': 1560222000, 'summary': 'Partly Cloudy', 'icon': 'partly-cloudy-night', 'precipIntensity': 0.0044, 'precipProbability': 0.23, 'precipType': 'rain', 'temperature': 50.16, 'apparentTemperature': 50.16, 'dewPoint': 45.66, 'humidity': 0.84, 'pressure': 1011.73, 'windSpeed': 2.99, 'windGust': 4.73, 'windBearing': 350, 'cloudCover': 0.43, 'uvIndex': 0, 'visibility': 6.18, 'ozone': 351.13}, {'time': 1560225600, 'summary': 'Partly Cloudy', 'icon': 'partly-cloudy-day', 'precipIntensity': 0.0149, 'precipProbability': 0.47, 'precipType': 'rain', 'temperature': 50.12, 'apparentTemperature': 50.12, 'dewPoint': 45.78, 'humidity': 0.85, 'pressure': 1011.61, 'windSpeed': 2.81, 'windGust': 4.69, 'windBearing': 342, 'cloudCover': 0.45, 'uvIndex': 0, 'visibility': 6.44, 'ozone': 350.49}, {'time': 1560229200, 'summary': 'Light Rain', 'icon': 'rain', 'precipIntensity': 0.0389, 'precipProbability': 0.69, 'precipType': 'rain', 'temperature': 50.14, 'apparentTemperature': 50.14, 'dewPoint': 46.13, 'humidity': 0.86, 'pressure': 1011.61, 'windSpeed': 2.58, 'windGust': 4.6, 'windBearing': 336, 'cloudCover': 0.54, 'uvIndex': 0, 'visibility': 6.12, 'ozone': 351.48}, {'time': 1560232800, 'summary': 'Rain', 'icon': 'rain', 'precipIntensity': 0.0546, 'precipProbability': 0.76, 'precipType': 'rain', 'temperature': 50.4, 'apparentTemperature': 50.4, 'dewPoint': 46.47, 'humidity': 0.86, 'pressure': 1011.61, 'windSpeed': 2.49, 'windGust': 4.53, 'windBearing': 331, 'cloudCover': 0.64, 'uvIndex': 1, 'visibility': 5.67, 'ozone': 352.77}, {'time': 1560236400, 'summary': 'Light Rain', 'icon': 'rain', 'precipIntensity': 0.0377, 'precipProbability': 0.75, 'precipType': 'rain', 'temperature': 50.82, 'apparentTemperature': 50.82, 'dewPoint': 46.66, 'humidity': 0.86, 'pressure': 1011.6, 'windSpeed': 2.69, 'windGust': 4.41, 'windBearing': 333, 'cloudCover': 0.73, 'uvIndex': 2, 'visibility': 5.14, 'ozone': 354.19}, {'time': 1560240000, 'summary': 'Light Rain', 'icon': 'rain', 'precipIntensity': 0.016, 'precipProbability': 0.66, 'precipType': 'rain', 'temperature': 51.89, 'apparentTemperature': 51.89, 'dewPoint': 46.84, 'humidity': 0.83, 'pressure': 1011.57, 'windSpeed': 3.04, 'windGust': 4.31, 'windBearing': 338, 'cloudCover': 0.81, 'uvIndex': 3, 'visibility': 4.47, 'ozone': 355.93}, {'time': 1560243600, 'summary': 'Mostly Cloudy', 'icon': 'partly-cloudy-day', 'precipIntensity': 0.0085, 'precipProbability': 0.44, 'precipType': 'rain', 'temperature': 53.64, 'apparentTemperature': 53.64, 'dewPoint': 47.09, 'humidity': 0.78, 'pressure': 1011.47, 'windSpeed': 3.25, 'windGust': 4.08, 'windBearing': 344, 'cloudCover': 0.86, 'uvIndex': 3, 'visibility': 4.03, 'ozone': 357.24}, {'time': 1560247200, 'summary': 'Mostly Cloudy', 'icon': 'partly-cloudy-day', 'precipIntensity': 0.0054, 'precipProbability': 0.31, 'precipType': 'rain', 'temperature': 56.54, 'apparentTemperature': 56.54, 'dewPoint': 47.51, 'humidity': 0.72, 'pressure': 1011.3, 'windSpeed': 3.22, 'windGust': 3.65, 'windBearing': 349, 'cloudCover': 0.85, 'uvIndex': 4, 'visibility': 3.92, 'ozone': 357.89}, {'time': 1560250800, 'summary': 'Mostly Cloudy', 'icon': 'partly-cloudy-day', 'precipIntensity': 0.0025, 'precipProbability': 0.15, 'precipType': 'rain', 'temperature': 59.92, 'apparentTemperature': 59.92, 'dewPoint': 48.04, 'humidity': 0.65, 'pressure': 1011.06, 'windSpeed': 3.03, 'windGust': 3.32, 'windBearing': 353, 'cloudCover': 0.81, 'uvIndex': 4, 'visibility': 4.03, 'ozone': 358.11}, {'time': 1560254400, 'summary': 'Mostly Cloudy', 'icon': 'partly-cloudy-day', 'precipIntensity': 0.0013, 'precipProbability': 0.11, 'precipType': 'rain', 'temperature': 61.91, 'apparentTemperature': 61.91, 'dewPoint': 48.53, 'humidity': 0.61, 'pressure': 1010.8, 'windSpeed': 2.85, 'windGust': 3.16, 'windBearing': 355, 'cloudCover': 0.77, 'uvIndex': 5, 'visibility': 4.35, 'ozone': 358.19}, {'time': 1560258000, 'summary': 'Mostly Cloudy', 'icon': 'partly-cloudy-day', 'precipIntensity': 0.0016, 'precipProbability': 0.14, 'precipType': 'rain', 'temperature': 61.76, 'apparentTemperature': 61.76, 'dewPoint': 48.99, 'humidity': 0.63, 'pressure': 1010.47, 'windSpeed': 2.7, 'windGust': 2.97, 'windBearing': 353, 'cloudCover': 0.75, 'uvIndex': 4, 'visibility': 5.03, 'ozone': 358.18}, {'time': 1560261600, 'summary': 'Mostly Cloudy', 'icon': 'partly-cloudy-day', 'precipIntensity': 0.0028, 'precipProbability': 0.24, 'precipType': 'rain', 'temperature': 60.37, 'apparentTemperature': 60.37, 'dewPoint': 49.42, 'humidity': 0.67, 'pressure': 1010.12, 'windSpeed': 2.5, 'windGust': 2.88, 'windBearing': 350, 'cloudCover': 0.73, 'uvIndex': 4, 'visibility': 5.91, 'ozone': 358.02}, {'time': 1560265200, 'summary': 'Mostly Cloudy', 'icon': 'partly-cloudy-day', 'precipIntensity': 0.0045, 'precipProbability': 0.36, 'precipType': 'rain', 'temperature': 59.2, 'apparentTemperature': 59.2, 'dewPoint': 49.76, 'humidity': 0.71, 'pressure': 1009.9, 'windSpeed': 2.36, 'windGust': 3.02, 'windBearing': 343, 'cloudCover': 0.73, 'uvIndex': 3, 'visibility': 6.56, 'ozone': 358.04}, {'time': 1560268800, 'summary': 'Mostly Cloudy', 'icon': 'partly-cloudy-day', 'precipIntensity': 0.0087, 'precipProbability': 0.5, 'precipType': 'rain', 'temperature': 58.21, 'apparentTemperature': 58.21, 'dewPoint': 50.02, 'humidity': 0.74, 'pressure': 1009.86, 'windSpeed': 2.34, 'windGust': 3.42, 'windBearing': 328, 'cloudCover': 0.74, 'uvIndex': 2, 'visibility': 6.74, 'ozone': 358.34}, {'time': 1560272400, 'summary': 'Mostly Cloudy', 'icon': 'partly-cloudy-day', 'precipIntensity': 0.0205, 'precipProbability': 0.64, 'precipType': 'rain', 'temperature': 57.33, 'apparentTemperature': 57.33, 'dewPoint': 50.16, 'humidity': 0.77, 'pressure': 1009.93, 'windSpeed': 2.44, 'windGust': 3.98, 'windBearing': 312, 'cloudCover': 0.77, 'uvIndex': 1, 'visibility': 6.7, 'ozone': 358.82}, {'time': 1560276000, 'summary': 'Light Rain', 'icon': 'rain', 'precipIntensity': 0.0329, 'precipProbability': 0.71, 'precipType': 'rain', 'temperature': 56.57, 'apparentTemperature': 56.57, 'dewPoint': 50.1, 'humidity': 0.79, 'pressure': 1010.09, 'windSpeed': 2.73, 'windGust': 4.69, 'windBearing': 305, 'cloudCover': 0.8, 'uvIndex': 0, 'visibility': 6.59, 'ozone': 359.24}, {'time': 1560279600, 'summary': 'Light Rain', 'icon': 'rain', 'precipIntensity': 0.0331, 'precipProbability': 0.71, 'precipType': 'rain', 'temperature': 55.71, 'apparentTemperature': 55.71, 'dewPoint': 49.83, 'humidity': 0.81, 'pressure': 1010.35, 'windSpeed': 2.62, 'windGust': 5.69, 'windBearing': 315, 'cloudCover': 0.83, 'uvIndex': 0, 'visibility': 6.41, 'ozone': 359.44}, {'time': 1560283200, 'summary': 'Light Rain', 'icon': 'rain', 'precipIntensity': 0.0279, 'precipProbability': 0.71, 'precipType': 'rain', 'temperature': 54.81, 'apparentTemperature': 54.81, 'dewPoint': 49.44, 'humidity': 0.82, 'pressure': 1010.71, 'windSpeed': 2.99, 'windGust': 6.84, 'windBearing': 241, 'cloudCover': 0.87, 'uvIndex': 0, 'visibility': 6.19, 'ozone': 359.61}, {'time': 1560286800, 'summary': 'Light Rain', 'icon': 'rain', 'precipIntensity': 0.0263, 'precipProbability': 0.72, 'precipType': 'rain', 'temperature': 54.02, 'apparentTemperature': 54.02, 'dewPoint': 48.93, 'humidity': 0.83, 'pressure': 1011.01, 'windSpeed': 3.71, 'windGust': 7.8, 'windBearing': 269, 'cloudCover': 0.89, 'uvIndex': 0, 'visibility': 6.2, 'ozone': 360}, {'time': 1560290400, 'summary': 'Light Rain', 'icon': 'rain', 'precipIntensity': 0.0308, 'precipProbability': 0.74, 'precipType': 'rain', 'temperature': 53.35, 'apparentTemperature': 53.35, 'dewPoint': 48.38, 'humidity': 0.83, 'pressure': 1011.14, 'windSpeed': 2.72, 'windGust': 8.4, 'windBearing': 331, 'cloudCover': 0.89, 'uvIndex': 0, 'visibility': 6.97, 'ozone': 360.5}, {'time': 1560294000, 'summary': 'Light Rain', 'icon': 'rain', 'precipIntensity': 0.039, 'precipProbability': 0.73, 'precipType': 'rain', 'temperature': 52.68, 'apparentTemperature': 52.68, 'dewPoint': 47.74, 'humidity': 0.83, 'pressure': 1011.22, 'windSpeed': 2.56, 'windGust': 8.8, 'windBearing': 202, 'cloudCover': 0.88, 'uvIndex': 0, 'visibility': 7.98, 'ozone': 361.14}, {'time': 1560297600, 'summary': 'Light Rain', 'icon': 'rain', 'precipIntensity': 0.0477, 'precipProbability': 0.74, 'precipType': 'rain', 'temperature': 51.84, 'apparentTemperature': 51.84, 'dewPoint': 46.99, 'humidity': 0.83, 'pressure': 1011.35, 'windSpeed': 4.12, 'windGust': 9.12, 'windBearing': 261, 'cloudCover': 0.88, 'uvIndex': 0, 'visibility': 7.98, 'ozone': 362.46}, {'time': 1560301200, 'summary': 'Rain', 'icon': 'rain', 'precipIntensity': 0.0569, 'precipProbability': 0.75, 'precipType': 'rain', 'temperature': 50.8, 'apparentTemperature': 50.8, 'dewPoint': 46.1, 'humidity': 0.84, 'pressure': 1011.55, 'windSpeed': 4.19, 'windGust': 9.64, 'windBearing': 276, 'cloudCover': 0.91, 'uvIndex': 0, 'visibility': 5.8, 'ozone': 365.01}, {'time': 1560304800, 'summary': 'Rain', 'icon': 'rain', 'precipIntensity': 0.0685, 'precipProbability': 0.76, 'precipType': 'rain', 'temperature': 49.7, 'apparentTemperature': 48.51, 'dewPoint': 45.14, 'humidity': 0.84, 'pressure': 1011.8, 'windSpeed': 4.02, 'windGust': 10.08, 'windBearing': 245, 'cloudCover': 0.96, 'uvIndex': 0, 'visibility': 2.61, 'ozone': 368.19}, {'time': 1560308400, 'summary': 'Rain', 'icon': 'rain', 'precipIntensity': 0.0746, 'precipProbability': 0.73, 'precipType': 'rain', 'temperature': 48.97, 'apparentTemperature': 47.35, 'dewPoint': 44.25, 'humidity': 0.84, 'pressure': 1012.17, 'windSpeed': 4.47, 'windGust': 9.73, 'windBearing': 245, 'cloudCover': 1, 'uvIndex': 0, 'visibility': 0.63, 'ozone': 370.9}, {'time': 1560312000, 'summary': 'Rain', 'icon': 'rain', 'precipIntensity': 0.0694, 'precipProbability': 0.68, 'precipType': 'rain', 'temperature': 47.79, 'apparentTemperature': 46.38, 'dewPoint': 43.41, 'humidity': 0.85, 'pressure': 1012.77, 'windSpeed': 3.91, 'windGust': 7.78, 'windBearing': 225, 'cloudCover': 1, 'uvIndex': 0, 'visibility': 0.77, 'ozone': 372.82}, {'time': 1560315600, 'summary': 'Rain', 'icon': 'rain', 'precipIntensity': 0.0569, 'precipProbability': 0.57, 'precipType': 'rain', 'temperature': 46.74, 'apparentTemperature': 45.93, 'dewPoint': 42.71, 'humidity': 0.86, 'pressure': 1013.5, 'windSpeed': 3.06, 'windGust': 5.03, 'windBearing': 192, 'cloudCover': 1, 'uvIndex': 0, 'visibility': 2.11, 'ozone': 374.32}, {'time': 1560319200, 'summary': 'Light Rain', 'icon': 'rain', 'precipIntensity': 0.0402, 'precipProbability': 0.49, 'precipType': 'rain', 'temperature': 46.95, 'apparentTemperature': 46.95, 'dewPoint': 42.45, 'humidity': 0.84, 'pressure': 1013.95, 'windSpeed': 2.51, 'windGust': 3.15, 'windBearing': 161, 'cloudCover': 0.99, 'uvIndex': 1, 'visibility': 4.19, 'ozone': 374.96}, {'time': 1560322800, 'summary': 'Mostly Cloudy', 'icon': 'partly-cloudy-day', 'precipIntensity': 0.0185, 'precipProbability': 0.28, 'precipType': 'rain', 'temperature': 49.73, 'apparentTemperature': 49.73, 'dewPoint': 42.9, 'humidity': 0.77, 'pressure': 1013.96, 'windSpeed': 2.19, 'windGust': 2.9, 'windBearing': 127, 'cloudCover': 0.77, 'uvIndex': 2, 'visibility': 7.58, 'ozone': 374.36}, {'time': 1560326400, 'summary': 'Partly Cloudy', 'icon': 'partly-cloudy-day', 'precipIntensity': 0.0032, 'precipProbability': 0.07, 'precipType': 'rain', 'temperature': 53.55, 'apparentTemperature': 53.55, 'dewPoint': 43.81, 'humidity': 0.69, 'pressure': 1013.7, 'windSpeed': 1.73, 'windGust': 3.52, 'windBearing': 228, 'cloudCover': 0.46, 'uvIndex': 3, 'visibility': 10, 'ozone': 372.96}, {'time': 1560330000, 'summary': 'Clear', 'icon': 'clear-day', 'precipIntensity': 0, 'precipProbability': 0, 'temperature': 56.71, 'apparentTemperature': 56.71, 'dewPoint': 44.6, 'humidity': 0.64, 'pressure': 1013.38, 'windSpeed': 2.34, 'windGust': 4.39, 'windBearing': 216, 'cloudCover': 0.23, 'uvIndex': 5, 'visibility': 10, 'ozone': 371.47}, {'time': 1560333600, 'summary': 'Clear', 'icon': 'clear-day', 'precipIntensity': 0, 'precipProbability': 0, 'temperature': 59.08, 'apparentTemperature': 59.08, 'dewPoint': 45.04, 'humidity': 0.6, 'pressure': 1013.06, 'windSpeed': 2.28, 'windGust': 5.49, 'windBearing': 234, 'cloudCover': 0.17, 'uvIndex': 6, 'visibility': 10, 'ozone': 370.01}, {'time': 1560337200, 'summary': 'Clear', 'icon': 'clear-day', 'precipIntensity': 0, 'precipProbability': 0, 'temperature': 61.4, 'apparentTemperature': 61.4, 'dewPoint': 45.39, 'humidity': 0.56, 'pressure': 1012.68, 'windSpeed': 2.87, 'windGust': 6.84, 'windBearing': 193, 'cloudCover': 0.18, 'uvIndex': 7, 'visibility': 10, 'ozone': 368.47}, {'time': 1560340800, 'summary': 'Clear', 'icon': 'clear-day', 'precipIntensity': 0, 'precipProbability': 0, 'temperature': 62.97, 'apparentTemperature': 62.97, 'dewPoint': 45.7, 'humidity': 0.53, 'pressure': 1012.35, 'windSpeed': 3.47, 'windGust': 7.86, 'windBearing': 217, 'cloudCover': 0.18, 'uvIndex': 7, 'visibility': 10, 'ozone': 367.21}, {'time': 1560344400, 'summary': 'Clear', 'icon': 'clear-day', 'precipIntensity': 0, 'precipProbability': 0, 'temperature': 64.71, 'apparentTemperature': 64.71, 'dewPoint': 45.88, 'humidity': 0.5, 'pressure': 1012.08, 'windSpeed': 3.62, 'windGust': 8.42, 'windBearing': 230, 'cloudCover': 0.16, 'uvIndex': 6, 'visibility': 10, 'ozone': 366.3}, {'time': 1560348000, 'summary': 'Clear', 'icon': 'clear-day', 'precipIntensity': 0, 'precipProbability': 0, 'temperature': 65.94, 'apparentTemperature': 65.94, 'dewPoint': 46, 'humidity': 0.49, 'pressure': 1011.87, 'windSpeed': 4.43, 'windGust': 8.67, 'windBearing': 226, 'cloudCover': 0.12, 'uvIndex': 5, 'visibility': 10, 'ozone': 365.56}, {'time': 1560351600, 'summary': 'Clear', 'icon': 'clear-day', 'precipIntensity': 0, 'precipProbability': 0, 'temperature': 66.74, 'apparentTemperature': 66.74, 'dewPoint': 46.35, 'humidity': 0.48, 'pressure': 1011.8, 'windSpeed': 4.62, 'windGust': 8.44, 'windBearing': 230, 'cloudCover': 0.1, 'uvIndex': 4, 'visibility': 10, 'ozone': 365.33}, {'time': 1560355200, 'summary': 'Clear', 'icon': 'clear-day', 'precipIntensity': 0, 'precipProbability': 0, 'temperature': 67.05, 'apparentTemperature': 67.05, 'dewPoint': 47.36, 'humidity': 0.49, 'pressure': 1011.84, 'windSpeed': 4.33, 'windGust': 7.44, 'windBearing': 223, 'cloudCover': 0.09, 'uvIndex': 2, 'visibility': 10, 'ozone': 365.71}, {'time': 1560358800, 'summary': 'Clear', 'icon': 'clear-day', 'precipIntensity': 0, 'precipProbability': 0, 'temperature': 66.32, 'apparentTemperature': 66.32, 'dewPoint': 48.65, 'humidity': 0.53, 'pressure': 1012.02, 'windSpeed': 3.4, 'windGust': 5.97, 'windBearing': 224, 'cloudCover': 0.08, 'uvIndex': 1, 'visibility': 10, 'ozone': 366.55}, {'time': 1560362400, 'summary': 'Clear', 'icon': 'clear-day', 'precipIntensity': 0, 'precipProbability': 0, 'temperature': 64.47, 'apparentTemperature': 64.47, 'dewPoint': 49.24, 'humidity': 0.58, 'pressure': 1012.41, 'windSpeed': 3.1, 'windGust': 4.82, 'windBearing': 215, 'cloudCover': 0.06, 'uvIndex': 0, 'visibility': 10, 'ozone': 367.46}, {'time': 1560366000, 'summary': 'Clear', 'icon': 'clear-day', 'precipIntensity': 0, 'precipProbability': 0, 'temperature': 61.7, 'apparentTemperature': 61.7, 'dewPoint': 48.53, 'humidity': 0.62, 'pressure': 1013.18, 'windSpeed': 2.83, 'windGust': 4.36, 'windBearing': 210, 'cloudCover': 0.05, 'uvIndex': 0, 'visibility': 10, 'ozone': 368.84}, {'time': 1560369600, 'summary': 'Clear', 'icon': 'clear-night', 'precipIntensity': 0.0003, 'precipProbability': 0.01, 'precipType': 'rain', 'temperature': 57.58, 'apparentTemperature': 57.58, 'dewPoint': 47.07, 'humidity': 0.68, 'pressure': 1014.16, 'windSpeed': 2.78, 'windGust': 4.21, 'windBearing': 191, 'cloudCover': 0.04, 'uvIndex': 0, 'visibility': 10, 'ozone': 370.33}, {'time': 1560373200, 'summary': 'Clear', 'icon': 'clear-night', 'precipIntensity': 0.0005, 'precipProbability': 0.01, 'precipType': 'rain', 'temperature': 53.97, 'apparentTemperature': 53.97, 'dewPoint': 45.72, 'humidity': 0.74, 'pressure': 1014.96, 'windSpeed': 3.07, 'windGust': 4.03, 'windBearing': 189, 'cloudCover': 0.02, 'uvIndex': 0, 'visibility': 10, 'ozone': 370.74}]}, 'daily': {'summary': 'Light rain today through Saturday, with high temperatures rising to 81°F on Friday.', 'icon': 'rain', 'data': [{'time': 1560117600, 'summary': 'Rain starting in the afternoon.', 'icon': 'rain', 'sunriseTime': 1560138318, 'sunsetTime': 1560194837, 'moonPhase': 0.26, 'precipIntensity': 0.0335, 'precipIntensityMax': 0.0966, 'precipIntensityMaxTime': 1560196800, 'precipProbability': 0.98, 'precipType': 'rain', 'temperatureHigh': 59.38, 'temperatureHighTime': 1560182400, 'temperatureLow': 50.12, 'temperatureLowTime': 1560225600, 'apparentTemperatureHigh': 59.38, 'apparentTemperatureHighTime': 1560182400, 'apparentTemperatureLow': 50.12, 'apparentTemperatureLowTime': 1560225600, 'dewPoint': 54.83, 'humidity': 0.93, 'pressure': 1014.89, 'windSpeed': 1.02, 'windGust': 8.2, 'windGustTime': 1560150000, 'windBearing': 27, 'cloudCover': 0.8, 'uvIndex': 5, 'uvIndexTime': 1560160800, 'visibility': 5.12, 'ozone': 334.6, 'temperatureMin': 54.99, 'temperatureMinTime': 1560200400, 'temperatureMax': 59.38, 'temperatureMaxTime': 1560182400, 'apparentTemperatureMin': 54.99, 'apparentTemperatureMinTime': 1560200400, 'apparentTemperatureMax': 59.38, 'apparentTemperatureMaxTime': 1560182400}, {'time': 1560204000, 'summary': 'Rain in the morning and evening.', 'icon': 'rain', 'sunriseTime': 1560224705, 'sunsetTime': 1560281273, 'moonPhase': 0.29, 'precipIntensity': 0.0184, 'precipIntensityMax': 0.0578, 'precipIntensityMaxTime': 1560204000, 'precipProbability': 0.98, 'precipType': 'rain', 'temperatureHigh': 61.91, 'temperatureHighTime': 1560254400, 'temperatureLow': 46.74, 'temperatureLowTime': 1560315600, 'apparentTemperatureHigh': 61.91, 'apparentTemperatureHighTime': 1560254400, 'apparentTemperatureLow': 45.93, 'apparentTemperatureLowTime': 1560315600, 'dewPoint': 48.15, 'humidity': 0.79, 'pressure': 1011.28, 'windSpeed': 2.46, 'windGust': 7.8, 'windGustTime': 1560286800, 'windBearing': 339, 'cloudCover': 0.77, 'uvIndex': 5, 'uvIndexTime': 1560254400, 'visibility': 5.15, 'ozone': 357.09, 'temperatureMin': 50.12, 'temperatureMinTime': 1560225600, 'temperatureMax': 61.91, 'temperatureMaxTime': 1560254400, 'apparentTemperatureMin': 50.12, 'apparentTemperatureMinTime': 1560225600, 'apparentTemperatureMax': 61.91, 'apparentTemperatureMaxTime': 1560254400}, {'time': 1560290400, 'summary': 'Rain in the morning.', 'icon': 'rain', 'sunriseTime': 1560311094, 'sunsetTime': 1560367707, 'moonPhase': 0.33, 'precipIntensity': 0.0211, 'precipIntensityMax': 0.0746, 'precipIntensityMaxTime': 1560308400, 'precipProbability': 0.93, 'precipType': 'rain', 'temperatureHigh': 67.05, 'temperatureHighTime': 1560355200, 'temperatureLow': 47.62, 'temperatureLowTime': 1560394800, 'apparentTemperatureHigh': 67.05, 'apparentTemperatureHighTime': 1560355200, 'apparentTemperatureLow': 47.62, 'apparentTemperatureLowTime': 1560394800, 'dewPoint': 45.81, 'humidity': 0.69, 'pressure': 1012.62, 'windSpeed': 2.75, 'windGust': 10.08, 'windGustTime': 1560304800, 'windBearing': 223, 'cloudCover': 0.47, 'uvIndex': 7, 'uvIndexTime': 1560337200, 'visibility': 7.78, 'ozone': 368.4, 'temperatureMin': 46.74, 'temperatureMinTime': 1560315600, 'temperatureMax': 67.05, 'temperatureMaxTime': 1560355200, 'apparentTemperatureMin': 45.93, 'apparentTemperatureMinTime': 1560315600, 'apparentTemperatureMax': 67.05, 'apparentTemperatureMaxTime': 1560355200}, {'time': 1560376800, 'summary': 'Partly cloudy overnight.', 'icon': 'partly-cloudy-night', 'sunriseTime': 1560397485, 'sunsetTime': 1560454139, 'moonPhase': 0.37, 'precipIntensity': 0.0001, 'precipIntensityMax': 0.0003, 'precipIntensityMaxTime': 1560376800, 'precipProbability': 0.01, 'precipType': 'rain', 'temperatureHigh': 77.27, 'temperatureHighTime': 1560438000, 'temperatureLow': 57.45, 'temperatureLowTime': 1560474000, 'apparentTemperatureHigh': 77.27, 'apparentTemperatureHighTime': 1560438000, 'apparentTemperatureLow': 57.45, 'apparentTemperatureLowTime': 1560474000, 'dewPoint': 45.4, 'humidity': 0.57, 'pressure': 1015.15, 'windSpeed': 2.69, 'windGust': 17.1, 'windGustTime': 1560434400, 'windBearing': 194, 'cloudCover': 0.02, 'uvIndex': 8, 'uvIndexTime': 1560423600, 'visibility': 10, 'ozone': 356.25, 'temperatureMin': 47.62, 'temperatureMinTime': 1560394800, 'temperatureMax': 77.27, 'temperatureMaxTime': 1560438000, 'apparentTemperatureMin': 47.62, 'apparentTemperatureMinTime': 1560394800, 'apparentTemperatureMax': 77.27, 'apparentTemperatureMaxTime': 1560438000}, {'time': 1560463200, 'summary': 'Mostly cloudy throughout the day.', 'icon': 'partly-cloudy-day', 'sunriseTime': 1560483879, 'sunsetTime': 1560540569, 'moonPhase': 0.4, 'precipIntensity': 0.0015, 'precipIntensityMax': 0.0077, 'precipIntensityMaxTime': 1560481200, 'precipProbability': 0.12, 'precipType': 'rain', 'temperatureHigh': 80.61, 'temperatureHighTime': 1560524400, 'temperatureLow': 59.87, 'temperatureLowTime': 1560567600, 'apparentTemperatureHigh': 80.74, 'apparentTemperatureHighTime': 1560524400, 'apparentTemperatureLow': 59.87, 'apparentTemperatureLowTime': 1560567600, 'dewPoint': 52.37, 'humidity': 0.6, 'pressure': 1015.41, 'windSpeed': 2.07, 'windGust': 13.43, 'windGustTime': 1560513600, 'windBearing': 49, 'cloudCover': 0.7, 'uvIndex': 6, 'uvIndexTime': 1560510000, 'visibility': 10, 'ozone': 315.91, 'temperatureMin': 57.45, 'temperatureMinTime': 1560474000, 'temperatureMax': 80.61, 'temperatureMaxTime': 1560524400, 'apparentTemperatureMin': 57.45, 'apparentTemperatureMinTime': 1560474000, 'apparentTemperatureMax': 80.74, 'apparentTemperatureMaxTime': 1560524400}, {'time': 1560549600, 'summary': 'Light rain starting in the afternoon, continuing until evening.', 'icon': 'rain', 'sunriseTime': 1560570275, 'sunsetTime': 1560626997, 'moonPhase': 0.44, 'precipIntensity': 0.0114, 'precipIntensityMax': 0.053, 'precipIntensityMaxTime': 1560610800, 'precipProbability': 0.66, 'precipType': 'rain', 'temperatureHigh': 76.23, 'temperatureHighTime': 1560600000, 'temperatureLow': 57.31, 'temperatureLowTime': 1560657600, 'apparentTemperatureHigh': 76.23, 'apparentTemperatureHighTime': 1560600000, 'apparentTemperatureLow': 57.31, 'apparentTemperatureLowTime': 1560657600, 'dewPoint': 57.1, 'humidity': 0.73, 'pressure': 1016.91, 'windSpeed': 2.79, 'windGust': 14.41, 'windGustTime': 1560610800, 'windBearing': 263, 'cloudCover': 0.5, 'uvIndex': 7, 'uvIndexTime': 1560592800, 'visibility': 8.02, 'ozone': 310.54, 'temperatureMin': 59.87, 'temperatureMinTime': 1560567600, 'temperatureMax': 76.23, 'temperatureMaxTime': 1560600000, 'apparentTemperatureMin': 59.87, 'apparentTemperatureMinTime': 1560567600, 'apparentTemperatureMax': 76.23, 'apparentTemperatureMaxTime': 1560600000}, {'time': 1560636000, 'summary': 'Partly cloudy throughout the day.', 'icon': 'partly-cloudy-day', 'sunriseTime': 1560656674, 'sunsetTime': 1560713422, 'moonPhase': 0.47, 'precipIntensity': 0.001, 'precipIntensityMax': 0.0082, 'precipIntensityMaxTime': 1560636000, 'precipProbability': 0.27, 'precipType': 'rain', 'temperatureHigh': 69.99, 'temperatureHighTime': 1560693600, 'temperatureLow': 51.99, 'temperatureLowTime': 1560740400, 'apparentTemperatureHigh': 69.99, 'apparentTemperatureHighTime': 1560693600, 'apparentTemperatureLow': 51.99, 'apparentTemperatureLowTime': 1560740400, 'dewPoint': 51.24, 'humidity': 0.68, 'pressure': 1021.95, 'windSpeed': 3.76, 'windGust': 11.63, 'windGustTime': 1560718800, 'windBearing': 350, 'cloudCover': 0.4, 'uvIndex': 8, 'uvIndexTime': 1560682800, 'visibility': 8.49, 'ozone': 310.19, 'temperatureMin': 57.31, 'temperatureMinTime': 1560657600, 'temperatureMax': 69.99, 'temperatureMaxTime': 1560693600, 'apparentTemperatureMin': 57.31, 'apparentTemperatureMinTime': 1560657600, 'apparentTemperatureMax': 69.99, 'apparentTemperatureMaxTime': 1560693600}, {'time': 1560722400, 'summary': 'Partly cloudy until evening.', 'icon': 'partly-cloudy-day', 'sunriseTime': 1560743075, 'sunsetTime': 1560799846, 'moonPhase': 0.51, 'precipIntensity': 0.0049, 'precipIntensityMax': 0.0295, 'precipIntensityMaxTime': 1560794400, 'precipProbability': 0.07, 'precipType': 'rain', 'temperatureHigh': 76.45, 'temperatureHighTime': 1560780000, 'temperatureLow': 54.11, 'temperatureLowTime': 1560826800, 'apparentTemperatureHigh': 76.45, 'apparentTemperatureHighTime': 1560780000, 'apparentTemperatureLow': 54.11, 'apparentTemperatureLowTime': 1560826800, 'dewPoint': 50.22, 'humidity': 0.64, 'pressure': 1019.12, 'windSpeed': 4.6, 'windGust': 16.38, 'windGustTime': 1560794400, 'windBearing': 31, 'cloudCover': 0.23, 'uvIndex': 7, 'uvIndexTime': 1560765600, 'visibility': 9.96, 'ozone': 316.53, 'temperatureMin': 51.99, 'temperatureMinTime': 1560740400, 'temperatureMax': 76.45, 'temperatureMaxTime': 1560780000, 'apparentTemperatureMin': 51.99, 'apparentTemperatureMinTime': 1560740400, 'apparentTemperatureMax': 76.45, 'apparentTemperatureMaxTime': 1560780000}]}, 'alerts': [{'title': 'Yellow Rain Warning For Switzerland - Genève', 'regions': ['Genève'], 'severity': 'warning', 'time': 1560076200, 'expires': 1560268800, 'description': '- Expected amounts: 40-70 mm - Snowfall limit: 2500-3000 m\\n', 'uri': 'http://www.meteoswiss.admin.ch'}, {'title': 'Moderate Thunderstorm Warning', 'regions': ['Ain', 'Aisne', 'Alpes de Haute Provence', 'Ardennes', 'Aube', 'Bas Rhin', 'Calvados', 'Charente Maritime', 'Cher', \"Côtes d'Armor\", 'Deux Sèvres', 'Doubs', 'Drôme', 'Essonne', 'Eure', 'Eure et Loir', 'Finistère', 'Haut Rhin', 'Haute Marne', 'Haute Savoie', 'Haute Saône', 'Hautes Alpes', 'Ille et Vilaine', 'Indre', 'Indre et Loire', 'Isère', 'Jura', 'Loir et Cher', 'Loire Atlantique', 'Loiret', 'Maine et Loire', 'Manche', 'Marne', 'Mayenne', 'Meurthe et Moselle', 'Meuse', 'Morbihan', 'Moselle', 'Nord', 'Oise', 'Orne', 'Paris et Petite Ceinture', 'Pas de Calais', 'Pyrénées Orientales', 'Sarthe', 'Savoie', 'Seine Maritime', 'Seine et Marne', 'Somme', 'Territoire de Belfort', \"Val d'Oise\", 'Var', 'Vendée', 'Vienne', 'Vosges', 'Yvelines'], 'severity': 'warning', 'time': 1560175200, 'expires': 1560261600, 'description': 'Although rather usual in this region, locally or potentially dangerous phenomena are expected. (such as local winds, summer thunderstorms, rising streams or high waves)\\n', 'uri': 'http://vigilance.meteofrance.com/'}, {'title': 'Moderate Rain-flood Warning', 'regions': ['Bas Rhin', 'Calvados', 'Doubs', 'Eure', 'Haut Rhin', 'Haute Savoie', 'Haute Saône', 'Isère', 'Jura', 'Savoie', 'Seine Maritime', 'Territoire de Belfort', 'Vosges'], 'severity': 'warning', 'time': 1560175200, 'expires': 1560261600, 'description': 'Although rather usual in this region, locally or potentially dangerous phenomena are expected. (such as local winds, summer thunderstorms, rising streams or high waves)\\n', 'uri': 'http://vigilance.meteofrance.com/'}], 'flags': {'sources': ['meteoalarm', 'cmc', 'gfs', 'icon', 'isd', 'madis'], 'meteoalarm-license': 'Based on data from EUMETNET - MeteoAlarm [https://www.meteoalarm.eu/]. Time delays between this website and the MeteoAlarm website are possible; for the most up to date information about alert levels as published by the participating National Meteorological Services please use the MeteoAlarm website.', 'nearest-station': 2.839, 'units': 'us'}, 'offset': 2}\n"
     ]
    }
   ],
   "source": [
    "print (data)"
   ]
  },
  {
   "cell_type": "markdown",
   "metadata": {
    "collapsed": true
   },
   "source": [
    "## 1) Make a request from the Dark Sky API for where you were born (or lived, or want to visit!).\n",
    "\n",
    "- *Tip: The URL we used in class was for a place near San Francisco. What was the format of the endpoint that made this happen?*\n",
    "- *Tip: Save the URL as a separate variable, and be sure to not have `[` and `]` inside.*\n",
    "- *Tip: How is north vs. south and east vs. west latitude/longitude represented? Is it the normal North/South/East/West?*\n",
    "- *Tip: You know it's JSON, but Python doesn't! Make sure you aren't trying to deal with plain text.* \n",
    "- *Tip: Once you've imported the JSON into a variable, check the timezone's name to make sure it seems like it got the right part of the world!*"
   ]
  },
  {
   "cell_type": "code",
   "execution_count": 10,
   "metadata": {},
   "outputs": [],
   "source": [
    "x = (f\"https://api.darksky.net/forecast/{API_DARKSKY_KEY}/46.204391,6.143158?units=si\")"
   ]
  },
  {
   "cell_type": "code",
   "execution_count": 11,
   "metadata": {},
   "outputs": [],
   "source": [
    "import requests\n",
    "response = requests.get (x)\n",
    "data = response.json()"
   ]
  },
  {
   "cell_type": "code",
   "execution_count": 12,
   "metadata": {},
   "outputs": [
    {
     "name": "stdout",
     "output_type": "stream",
     "text": [
      "{'latitude': 46.204391, 'longitude': 6.143158, 'timezone': 'Europe/Zurich', 'currently': {'time': 1560201857, 'summary': 'Rain', 'icon': 'rain', 'precipIntensity': 1.9406, 'precipProbability': 0.76, 'precipType': 'rain', 'temperature': 12.57, 'apparentTemperature': 12.57, 'dewPoint': 11.31, 'humidity': 0.92, 'pressure': 1013.5, 'windSpeed': 1.34, 'windGust': 2.42, 'windBearing': 14, 'cloudCover': 1, 'uvIndex': 0, 'visibility': 9.3, 'ozone': 348.3}, 'hourly': {'summary': 'Rain tomorrow morning and evening.', 'icon': 'rain', 'data': [{'time': 1560200400, 'summary': 'Rain', 'icon': 'rain', 'precipIntensity': 2.2606, 'precipProbability': 0.78, 'precipType': 'rain', 'temperature': 12.77, 'apparentTemperature': 12.77, 'dewPoint': 11.56, 'humidity': 0.92, 'pressure': 1013.56, 'windSpeed': 1.33, 'windGust': 2.43, 'windBearing': 15, 'cloudCover': 1, 'uvIndex': 0, 'visibility': 9.8, 'ozone': 345.67}, {'time': 1560204000, 'summary': 'Rain', 'icon': 'rain', 'precipIntensity': 1.4681, 'precipProbability': 0.74, 'precipType': 'rain', 'temperature': 12.27, 'apparentTemperature': 12.27, 'dewPoint': 10.93, 'humidity': 0.92, 'pressure': 1013.42, 'windSpeed': 1.35, 'windGust': 2.41, 'windBearing': 14, 'cloudCover': 1, 'uvIndex': 0, 'visibility': 8.56, 'ozone': 352.15}, {'time': 1560207600, 'summary': 'Light Rain', 'icon': 'rain', 'precipIntensity': 0.6426, 'precipProbability': 0.63, 'precipType': 'rain', 'temperature': 11.66, 'apparentTemperature': 11.66, 'dewPoint': 9.47, 'humidity': 0.86, 'pressure': 1013.17, 'windSpeed': 1.34, 'windGust': 2.26, 'windBearing': 15, 'cloudCover': 1, 'uvIndex': 0, 'visibility': 4.26, 'ozone': 359.85}, {'time': 1560211200, 'summary': 'Foggy', 'icon': 'fog', 'precipIntensity': 0.2362, 'precipProbability': 0.41, 'precipType': 'rain', 'temperature': 11.1, 'apparentTemperature': 11.1, 'dewPoint': 8.41, 'humidity': 0.83, 'pressure': 1012.87, 'windSpeed': 1.33, 'windGust': 2.14, 'windBearing': 12, 'cloudCover': 0.98, 'uvIndex': 0, 'visibility': 2.22, 'ozone': 364.06}, {'time': 1560214800, 'summary': 'Mostly Cloudy', 'icon': 'partly-cloudy-night', 'precipIntensity': 0.094, 'precipProbability': 0.25, 'precipType': 'rain', 'temperature': 10.63, 'apparentTemperature': 10.63, 'dewPoint': 8.05, 'humidity': 0.84, 'pressure': 1012.49, 'windSpeed': 1.34, 'windGust': 2.11, 'windBearing': 5, 'cloudCover': 0.81, 'uvIndex': 0, 'visibility': 4.47, 'ozone': 361.54}, {'time': 1560218400, 'summary': 'Partly Cloudy', 'icon': 'partly-cloudy-night', 'precipIntensity': 0.0584, 'precipProbability': 0.18, 'precipType': 'rain', 'temperature': 10.26, 'apparentTemperature': 10.26, 'dewPoint': 7.75, 'humidity': 0.84, 'pressure': 1012.05, 'windSpeed': 1.35, 'windGust': 2.12, 'windBearing': 357, 'cloudCover': 0.58, 'uvIndex': 0, 'visibility': 7.68, 'ozone': 355.5}, {'time': 1560222000, 'summary': 'Partly Cloudy', 'icon': 'partly-cloudy-night', 'precipIntensity': 0.1118, 'precipProbability': 0.23, 'precipType': 'rain', 'temperature': 10.09, 'apparentTemperature': 10.09, 'dewPoint': 7.59, 'humidity': 0.84, 'pressure': 1011.73, 'windSpeed': 1.34, 'windGust': 2.11, 'windBearing': 350, 'cloudCover': 0.43, 'uvIndex': 0, 'visibility': 9.95, 'ozone': 351.13}, {'time': 1560225600, 'summary': 'Partly Cloudy', 'icon': 'partly-cloudy-day', 'precipIntensity': 0.3785, 'precipProbability': 0.47, 'precipType': 'rain', 'temperature': 10.07, 'apparentTemperature': 10.07, 'dewPoint': 7.66, 'humidity': 0.85, 'pressure': 1011.61, 'windSpeed': 1.26, 'windGust': 2.1, 'windBearing': 342, 'cloudCover': 0.45, 'uvIndex': 0, 'visibility': 10.36, 'ozone': 350.49}, {'time': 1560229200, 'summary': 'Light Rain', 'icon': 'rain', 'precipIntensity': 0.9881, 'precipProbability': 0.69, 'precipType': 'rain', 'temperature': 10.08, 'apparentTemperature': 10.08, 'dewPoint': 7.85, 'humidity': 0.86, 'pressure': 1011.61, 'windSpeed': 1.15, 'windGust': 2.06, 'windBearing': 336, 'cloudCover': 0.54, 'uvIndex': 0, 'visibility': 9.85, 'ozone': 351.48}, {'time': 1560232800, 'summary': 'Rain', 'icon': 'rain', 'precipIntensity': 1.3868, 'precipProbability': 0.76, 'precipType': 'rain', 'temperature': 10.22, 'apparentTemperature': 10.22, 'dewPoint': 8.04, 'humidity': 0.86, 'pressure': 1011.61, 'windSpeed': 1.11, 'windGust': 2.03, 'windBearing': 331, 'cloudCover': 0.64, 'uvIndex': 1, 'visibility': 9.12, 'ozone': 352.77}, {'time': 1560236400, 'summary': 'Light Rain', 'icon': 'rain', 'precipIntensity': 0.9576, 'precipProbability': 0.75, 'precipType': 'rain', 'temperature': 10.46, 'apparentTemperature': 10.46, 'dewPoint': 8.14, 'humidity': 0.86, 'pressure': 1011.6, 'windSpeed': 1.2, 'windGust': 1.97, 'windBearing': 333, 'cloudCover': 0.73, 'uvIndex': 2, 'visibility': 8.27, 'ozone': 354.19}, {'time': 1560240000, 'summary': 'Light Rain', 'icon': 'rain', 'precipIntensity': 0.4064, 'precipProbability': 0.66, 'precipType': 'rain', 'temperature': 11.05, 'apparentTemperature': 11.05, 'dewPoint': 8.24, 'humidity': 0.83, 'pressure': 1011.57, 'windSpeed': 1.36, 'windGust': 1.93, 'windBearing': 338, 'cloudCover': 0.81, 'uvIndex': 3, 'visibility': 7.19, 'ozone': 355.93}, {'time': 1560243600, 'summary': 'Mostly Cloudy', 'icon': 'partly-cloudy-day', 'precipIntensity': 0.2159, 'precipProbability': 0.44, 'precipType': 'rain', 'temperature': 12.02, 'apparentTemperature': 12.02, 'dewPoint': 8.38, 'humidity': 0.78, 'pressure': 1011.47, 'windSpeed': 1.45, 'windGust': 1.82, 'windBearing': 344, 'cloudCover': 0.86, 'uvIndex': 3, 'visibility': 6.49, 'ozone': 357.24}, {'time': 1560247200, 'summary': 'Mostly Cloudy', 'icon': 'partly-cloudy-day', 'precipIntensity': 0.1372, 'precipProbability': 0.31, 'precipType': 'rain', 'temperature': 13.63, 'apparentTemperature': 13.63, 'dewPoint': 8.62, 'humidity': 0.72, 'pressure': 1011.3, 'windSpeed': 1.44, 'windGust': 1.63, 'windBearing': 349, 'cloudCover': 0.85, 'uvIndex': 4, 'visibility': 6.31, 'ozone': 357.89}, {'time': 1560250800, 'summary': 'Mostly Cloudy', 'icon': 'partly-cloudy-day', 'precipIntensity': 0.0635, 'precipProbability': 0.15, 'precipType': 'rain', 'temperature': 15.51, 'apparentTemperature': 15.51, 'dewPoint': 8.91, 'humidity': 0.65, 'pressure': 1011.06, 'windSpeed': 1.35, 'windGust': 1.48, 'windBearing': 353, 'cloudCover': 0.81, 'uvIndex': 4, 'visibility': 6.49, 'ozone': 358.11}, {'time': 1560254400, 'summary': 'Mostly Cloudy', 'icon': 'partly-cloudy-day', 'precipIntensity': 0.033, 'precipProbability': 0.11, 'precipType': 'rain', 'temperature': 16.62, 'apparentTemperature': 16.62, 'dewPoint': 9.18, 'humidity': 0.61, 'pressure': 1010.8, 'windSpeed': 1.27, 'windGust': 1.41, 'windBearing': 355, 'cloudCover': 0.77, 'uvIndex': 5, 'visibility': 7, 'ozone': 358.19}, {'time': 1560258000, 'summary': 'Mostly Cloudy', 'icon': 'partly-cloudy-day', 'precipIntensity': 0.0406, 'precipProbability': 0.14, 'precipType': 'rain', 'temperature': 16.53, 'apparentTemperature': 16.53, 'dewPoint': 9.44, 'humidity': 0.63, 'pressure': 1010.47, 'windSpeed': 1.21, 'windGust': 1.33, 'windBearing': 353, 'cloudCover': 0.75, 'uvIndex': 4, 'visibility': 8.1, 'ozone': 358.18}, {'time': 1560261600, 'summary': 'Mostly Cloudy', 'icon': 'partly-cloudy-day', 'precipIntensity': 0.0711, 'precipProbability': 0.24, 'precipType': 'rain', 'temperature': 15.76, 'apparentTemperature': 15.76, 'dewPoint': 9.68, 'humidity': 0.67, 'pressure': 1010.12, 'windSpeed': 1.12, 'windGust': 1.29, 'windBearing': 350, 'cloudCover': 0.73, 'uvIndex': 4, 'visibility': 9.51, 'ozone': 358.02}, {'time': 1560265200, 'summary': 'Mostly Cloudy', 'icon': 'partly-cloudy-day', 'precipIntensity': 0.1143, 'precipProbability': 0.36, 'precipType': 'rain', 'temperature': 15.11, 'apparentTemperature': 15.11, 'dewPoint': 9.87, 'humidity': 0.71, 'pressure': 1009.9, 'windSpeed': 1.06, 'windGust': 1.35, 'windBearing': 343, 'cloudCover': 0.73, 'uvIndex': 3, 'visibility': 10.56, 'ozone': 358.04}, {'time': 1560268800, 'summary': 'Mostly Cloudy', 'icon': 'partly-cloudy-day', 'precipIntensity': 0.221, 'precipProbability': 0.5, 'precipType': 'rain', 'temperature': 14.56, 'apparentTemperature': 14.56, 'dewPoint': 10.01, 'humidity': 0.74, 'pressure': 1009.86, 'windSpeed': 1.05, 'windGust': 1.53, 'windBearing': 328, 'cloudCover': 0.74, 'uvIndex': 2, 'visibility': 10.85, 'ozone': 358.34}, {'time': 1560272400, 'summary': 'Mostly Cloudy', 'icon': 'partly-cloudy-day', 'precipIntensity': 0.5207, 'precipProbability': 0.64, 'precipType': 'rain', 'temperature': 14.07, 'apparentTemperature': 14.07, 'dewPoint': 10.09, 'humidity': 0.77, 'pressure': 1009.93, 'windSpeed': 1.09, 'windGust': 1.78, 'windBearing': 312, 'cloudCover': 0.77, 'uvIndex': 1, 'visibility': 10.78, 'ozone': 358.82}, {'time': 1560276000, 'summary': 'Light Rain', 'icon': 'rain', 'precipIntensity': 0.8357, 'precipProbability': 0.71, 'precipType': 'rain', 'temperature': 13.65, 'apparentTemperature': 13.65, 'dewPoint': 10.06, 'humidity': 0.79, 'pressure': 1010.09, 'windSpeed': 1.22, 'windGust': 2.1, 'windBearing': 305, 'cloudCover': 0.8, 'uvIndex': 0, 'visibility': 10.61, 'ozone': 359.24}, {'time': 1560279600, 'summary': 'Light Rain', 'icon': 'rain', 'precipIntensity': 0.8407, 'precipProbability': 0.71, 'precipType': 'rain', 'temperature': 13.17, 'apparentTemperature': 13.17, 'dewPoint': 9.91, 'humidity': 0.81, 'pressure': 1010.35, 'windSpeed': 1.17, 'windGust': 2.54, 'windBearing': 315, 'cloudCover': 0.83, 'uvIndex': 0, 'visibility': 10.32, 'ozone': 359.44}, {'time': 1560283200, 'summary': 'Light Rain', 'icon': 'rain', 'precipIntensity': 0.7087, 'precipProbability': 0.71, 'precipType': 'rain', 'temperature': 12.67, 'apparentTemperature': 12.67, 'dewPoint': 9.69, 'humidity': 0.82, 'pressure': 1010.71, 'windSpeed': 1.34, 'windGust': 3.06, 'windBearing': 241, 'cloudCover': 0.87, 'uvIndex': 0, 'visibility': 9.96, 'ozone': 359.61}, {'time': 1560286800, 'summary': 'Light Rain', 'icon': 'rain', 'precipIntensity': 0.668, 'precipProbability': 0.72, 'precipType': 'rain', 'temperature': 12.23, 'apparentTemperature': 12.23, 'dewPoint': 9.41, 'humidity': 0.83, 'pressure': 1011.01, 'windSpeed': 1.66, 'windGust': 3.49, 'windBearing': 269, 'cloudCover': 0.89, 'uvIndex': 0, 'visibility': 9.98, 'ozone': 360}, {'time': 1560290400, 'summary': 'Light Rain', 'icon': 'rain', 'precipIntensity': 0.7823, 'precipProbability': 0.74, 'precipType': 'rain', 'temperature': 11.86, 'apparentTemperature': 11.86, 'dewPoint': 9.1, 'humidity': 0.83, 'pressure': 1011.14, 'windSpeed': 1.22, 'windGust': 3.76, 'windBearing': 331, 'cloudCover': 0.89, 'uvIndex': 0, 'visibility': 11.22, 'ozone': 360.5}, {'time': 1560294000, 'summary': 'Light Rain', 'icon': 'rain', 'precipIntensity': 0.9906, 'precipProbability': 0.73, 'precipType': 'rain', 'temperature': 11.49, 'apparentTemperature': 11.49, 'dewPoint': 8.74, 'humidity': 0.83, 'pressure': 1011.22, 'windSpeed': 1.14, 'windGust': 3.93, 'windBearing': 202, 'cloudCover': 0.88, 'uvIndex': 0, 'visibility': 12.84, 'ozone': 361.14}, {'time': 1560297600, 'summary': 'Light Rain', 'icon': 'rain', 'precipIntensity': 1.2116, 'precipProbability': 0.74, 'precipType': 'rain', 'temperature': 11.02, 'apparentTemperature': 11.02, 'dewPoint': 8.33, 'humidity': 0.83, 'pressure': 1011.35, 'windSpeed': 1.84, 'windGust': 4.08, 'windBearing': 261, 'cloudCover': 0.88, 'uvIndex': 0, 'visibility': 12.84, 'ozone': 362.46}, {'time': 1560301200, 'summary': 'Rain', 'icon': 'rain', 'precipIntensity': 1.4453, 'precipProbability': 0.75, 'precipType': 'rain', 'temperature': 10.44, 'apparentTemperature': 10.44, 'dewPoint': 7.83, 'humidity': 0.84, 'pressure': 1011.55, 'windSpeed': 1.87, 'windGust': 4.31, 'windBearing': 276, 'cloudCover': 0.91, 'uvIndex': 0, 'visibility': 9.33, 'ozone': 365.01}, {'time': 1560304800, 'summary': 'Rain', 'icon': 'rain', 'precipIntensity': 1.7399, 'precipProbability': 0.76, 'precipType': 'rain', 'temperature': 9.83, 'apparentTemperature': 9.17, 'dewPoint': 7.3, 'humidity': 0.84, 'pressure': 1011.8, 'windSpeed': 1.8, 'windGust': 4.51, 'windBearing': 245, 'cloudCover': 0.96, 'uvIndex': 0, 'visibility': 4.2, 'ozone': 368.19}, {'time': 1560308400, 'summary': 'Rain', 'icon': 'rain', 'precipIntensity': 1.8948, 'precipProbability': 0.73, 'precipType': 'rain', 'temperature': 9.43, 'apparentTemperature': 8.53, 'dewPoint': 6.81, 'humidity': 0.84, 'pressure': 1012.17, 'windSpeed': 2, 'windGust': 4.35, 'windBearing': 245, 'cloudCover': 1, 'uvIndex': 0, 'visibility': 1.01, 'ozone': 370.9}, {'time': 1560312000, 'summary': 'Rain', 'icon': 'rain', 'precipIntensity': 1.7628, 'precipProbability': 0.68, 'precipType': 'rain', 'temperature': 8.77, 'apparentTemperature': 7.99, 'dewPoint': 6.34, 'humidity': 0.85, 'pressure': 1012.77, 'windSpeed': 1.75, 'windGust': 3.48, 'windBearing': 225, 'cloudCover': 1, 'uvIndex': 0, 'visibility': 1.24, 'ozone': 372.82}, {'time': 1560315600, 'summary': 'Rain', 'icon': 'rain', 'precipIntensity': 1.4453, 'precipProbability': 0.57, 'precipType': 'rain', 'temperature': 8.19, 'apparentTemperature': 7.74, 'dewPoint': 5.95, 'humidity': 0.86, 'pressure': 1013.5, 'windSpeed': 1.37, 'windGust': 2.25, 'windBearing': 192, 'cloudCover': 1, 'uvIndex': 0, 'visibility': 3.4, 'ozone': 374.32}, {'time': 1560319200, 'summary': 'Light Rain', 'icon': 'rain', 'precipIntensity': 1.0211, 'precipProbability': 0.49, 'precipType': 'rain', 'temperature': 8.31, 'apparentTemperature': 8.31, 'dewPoint': 5.81, 'humidity': 0.84, 'pressure': 1013.95, 'windSpeed': 1.12, 'windGust': 1.41, 'windBearing': 161, 'cloudCover': 0.99, 'uvIndex': 1, 'visibility': 6.74, 'ozone': 374.96}, {'time': 1560322800, 'summary': 'Mostly Cloudy', 'icon': 'partly-cloudy-day', 'precipIntensity': 0.4699, 'precipProbability': 0.28, 'precipType': 'rain', 'temperature': 9.85, 'apparentTemperature': 9.85, 'dewPoint': 6.06, 'humidity': 0.77, 'pressure': 1013.96, 'windSpeed': 0.98, 'windGust': 1.3, 'windBearing': 127, 'cloudCover': 0.77, 'uvIndex': 2, 'visibility': 12.2, 'ozone': 374.36}, {'time': 1560326400, 'summary': 'Partly Cloudy', 'icon': 'partly-cloudy-day', 'precipIntensity': 0.0813, 'precipProbability': 0.07, 'precipType': 'rain', 'temperature': 11.97, 'apparentTemperature': 11.97, 'dewPoint': 6.56, 'humidity': 0.69, 'pressure': 1013.7, 'windSpeed': 0.77, 'windGust': 1.57, 'windBearing': 228, 'cloudCover': 0.46, 'uvIndex': 3, 'visibility': 16.09, 'ozone': 372.96}, {'time': 1560330000, 'summary': 'Clear', 'icon': 'clear-day', 'precipIntensity': 0, 'precipProbability': 0, 'temperature': 13.73, 'apparentTemperature': 13.73, 'dewPoint': 7, 'humidity': 0.64, 'pressure': 1013.38, 'windSpeed': 1.05, 'windGust': 1.96, 'windBearing': 216, 'cloudCover': 0.23, 'uvIndex': 5, 'visibility': 16.09, 'ozone': 371.47}, {'time': 1560333600, 'summary': 'Clear', 'icon': 'clear-day', 'precipIntensity': 0, 'precipProbability': 0, 'temperature': 15.04, 'apparentTemperature': 15.04, 'dewPoint': 7.24, 'humidity': 0.6, 'pressure': 1013.06, 'windSpeed': 1.02, 'windGust': 2.45, 'windBearing': 234, 'cloudCover': 0.17, 'uvIndex': 6, 'visibility': 16.09, 'ozone': 370.01}, {'time': 1560337200, 'summary': 'Clear', 'icon': 'clear-day', 'precipIntensity': 0, 'precipProbability': 0, 'temperature': 16.33, 'apparentTemperature': 16.33, 'dewPoint': 7.44, 'humidity': 0.56, 'pressure': 1012.68, 'windSpeed': 1.28, 'windGust': 3.06, 'windBearing': 193, 'cloudCover': 0.18, 'uvIndex': 7, 'visibility': 16.09, 'ozone': 368.47}, {'time': 1560340800, 'summary': 'Clear', 'icon': 'clear-day', 'precipIntensity': 0, 'precipProbability': 0, 'temperature': 17.21, 'apparentTemperature': 17.21, 'dewPoint': 7.61, 'humidity': 0.53, 'pressure': 1012.35, 'windSpeed': 1.55, 'windGust': 3.51, 'windBearing': 217, 'cloudCover': 0.18, 'uvIndex': 7, 'visibility': 16.09, 'ozone': 367.21}, {'time': 1560344400, 'summary': 'Clear', 'icon': 'clear-day', 'precipIntensity': 0, 'precipProbability': 0, 'temperature': 18.17, 'apparentTemperature': 18.17, 'dewPoint': 7.71, 'humidity': 0.5, 'pressure': 1012.08, 'windSpeed': 1.62, 'windGust': 3.76, 'windBearing': 230, 'cloudCover': 0.16, 'uvIndex': 6, 'visibility': 16.09, 'ozone': 366.3}, {'time': 1560348000, 'summary': 'Clear', 'icon': 'clear-day', 'precipIntensity': 0, 'precipProbability': 0, 'temperature': 18.86, 'apparentTemperature': 18.86, 'dewPoint': 7.78, 'humidity': 0.49, 'pressure': 1011.87, 'windSpeed': 1.98, 'windGust': 3.88, 'windBearing': 226, 'cloudCover': 0.12, 'uvIndex': 5, 'visibility': 16.09, 'ozone': 365.56}, {'time': 1560351600, 'summary': 'Clear', 'icon': 'clear-day', 'precipIntensity': 0, 'precipProbability': 0, 'temperature': 19.3, 'apparentTemperature': 19.3, 'dewPoint': 7.97, 'humidity': 0.48, 'pressure': 1011.8, 'windSpeed': 2.07, 'windGust': 3.77, 'windBearing': 230, 'cloudCover': 0.1, 'uvIndex': 4, 'visibility': 16.09, 'ozone': 365.33}, {'time': 1560355200, 'summary': 'Clear', 'icon': 'clear-day', 'precipIntensity': 0, 'precipProbability': 0, 'temperature': 19.47, 'apparentTemperature': 19.47, 'dewPoint': 8.53, 'humidity': 0.49, 'pressure': 1011.84, 'windSpeed': 1.94, 'windGust': 3.33, 'windBearing': 223, 'cloudCover': 0.09, 'uvIndex': 2, 'visibility': 16.09, 'ozone': 365.71}, {'time': 1560358800, 'summary': 'Clear', 'icon': 'clear-day', 'precipIntensity': 0, 'precipProbability': 0, 'temperature': 19.07, 'apparentTemperature': 19.07, 'dewPoint': 9.25, 'humidity': 0.53, 'pressure': 1012.02, 'windSpeed': 1.52, 'windGust': 2.67, 'windBearing': 224, 'cloudCover': 0.08, 'uvIndex': 1, 'visibility': 16.09, 'ozone': 366.55}, {'time': 1560362400, 'summary': 'Clear', 'icon': 'clear-day', 'precipIntensity': 0, 'precipProbability': 0, 'temperature': 18.04, 'apparentTemperature': 18.04, 'dewPoint': 9.58, 'humidity': 0.58, 'pressure': 1012.41, 'windSpeed': 1.39, 'windGust': 2.15, 'windBearing': 215, 'cloudCover': 0.06, 'uvIndex': 0, 'visibility': 16.09, 'ozone': 367.46}, {'time': 1560366000, 'summary': 'Clear', 'icon': 'clear-day', 'precipIntensity': 0, 'precipProbability': 0, 'temperature': 16.5, 'apparentTemperature': 16.5, 'dewPoint': 9.18, 'humidity': 0.62, 'pressure': 1013.18, 'windSpeed': 1.27, 'windGust': 1.95, 'windBearing': 210, 'cloudCover': 0.05, 'uvIndex': 0, 'visibility': 16.09, 'ozone': 368.84}, {'time': 1560369600, 'summary': 'Clear', 'icon': 'clear-night', 'precipIntensity': 0.0076, 'precipProbability': 0.01, 'precipType': 'rain', 'temperature': 14.21, 'apparentTemperature': 14.21, 'dewPoint': 8.37, 'humidity': 0.68, 'pressure': 1014.16, 'windSpeed': 1.24, 'windGust': 1.88, 'windBearing': 191, 'cloudCover': 0.04, 'uvIndex': 0, 'visibility': 16.09, 'ozone': 370.33}, {'time': 1560373200, 'summary': 'Clear', 'icon': 'clear-night', 'precipIntensity': 0.0127, 'precipProbability': 0.01, 'precipType': 'rain', 'temperature': 12.21, 'apparentTemperature': 12.21, 'dewPoint': 7.62, 'humidity': 0.74, 'pressure': 1014.96, 'windSpeed': 1.37, 'windGust': 1.8, 'windBearing': 189, 'cloudCover': 0.02, 'uvIndex': 0, 'visibility': 16.09, 'ozone': 370.74}]}, 'daily': {'summary': 'Light rain today through Saturday, with high temperatures rising to 27°C on Friday.', 'icon': 'rain', 'data': [{'time': 1560117600, 'summary': 'Rain starting in the afternoon.', 'icon': 'rain', 'sunriseTime': 1560138318, 'sunsetTime': 1560194837, 'moonPhase': 0.26, 'precipIntensity': 0.8509, 'precipIntensityMax': 2.4536, 'precipIntensityMaxTime': 1560196800, 'precipProbability': 0.98, 'precipType': 'rain', 'temperatureHigh': 15.21, 'temperatureHighTime': 1560182400, 'temperatureLow': 10.07, 'temperatureLowTime': 1560225600, 'apparentTemperatureHigh': 15.21, 'apparentTemperatureHighTime': 1560182400, 'apparentTemperatureLow': 10.07, 'apparentTemperatureLowTime': 1560225600, 'dewPoint': 12.68, 'humidity': 0.93, 'pressure': 1014.89, 'windSpeed': 0.46, 'windGust': 3.67, 'windGustTime': 1560150000, 'windBearing': 27, 'cloudCover': 0.8, 'uvIndex': 5, 'uvIndexTime': 1560160800, 'visibility': 8.24, 'ozone': 334.6, 'temperatureMin': 12.77, 'temperatureMinTime': 1560200400, 'temperatureMax': 15.21, 'temperatureMaxTime': 1560182400, 'apparentTemperatureMin': 12.77, 'apparentTemperatureMinTime': 1560200400, 'apparentTemperatureMax': 15.21, 'apparentTemperatureMaxTime': 1560182400}, {'time': 1560204000, 'summary': 'Rain in the morning and evening.', 'icon': 'rain', 'sunriseTime': 1560224705, 'sunsetTime': 1560281273, 'moonPhase': 0.29, 'precipIntensity': 0.4674, 'precipIntensityMax': 1.4681, 'precipIntensityMaxTime': 1560204000, 'precipProbability': 0.98, 'precipType': 'rain', 'temperatureHigh': 16.62, 'temperatureHighTime': 1560254400, 'temperatureLow': 8.19, 'temperatureLowTime': 1560315600, 'apparentTemperatureHigh': 16.62, 'apparentTemperatureHighTime': 1560254400, 'apparentTemperatureLow': 7.74, 'apparentTemperatureLowTime': 1560315600, 'dewPoint': 8.97, 'humidity': 0.79, 'pressure': 1011.28, 'windSpeed': 1.1, 'windGust': 3.49, 'windGustTime': 1560286800, 'windBearing': 339, 'cloudCover': 0.77, 'uvIndex': 5, 'uvIndexTime': 1560254400, 'visibility': 8.29, 'ozone': 357.09, 'temperatureMin': 10.07, 'temperatureMinTime': 1560225600, 'temperatureMax': 16.62, 'temperatureMaxTime': 1560254400, 'apparentTemperatureMin': 10.07, 'apparentTemperatureMinTime': 1560225600, 'apparentTemperatureMax': 16.62, 'apparentTemperatureMaxTime': 1560254400}, {'time': 1560290400, 'summary': 'Rain in the morning.', 'icon': 'rain', 'sunriseTime': 1560311094, 'sunsetTime': 1560367707, 'moonPhase': 0.33, 'precipIntensity': 0.5359, 'precipIntensityMax': 1.8948, 'precipIntensityMaxTime': 1560308400, 'precipProbability': 0.93, 'precipType': 'rain', 'temperatureHigh': 19.47, 'temperatureHighTime': 1560355200, 'temperatureLow': 8.68, 'temperatureLowTime': 1560394800, 'apparentTemperatureHigh': 19.47, 'apparentTemperatureHighTime': 1560355200, 'apparentTemperatureLow': 8.68, 'apparentTemperatureLowTime': 1560394800, 'dewPoint': 7.67, 'humidity': 0.69, 'pressure': 1012.62, 'windSpeed': 1.23, 'windGust': 4.51, 'windGustTime': 1560304800, 'windBearing': 223, 'cloudCover': 0.47, 'uvIndex': 7, 'uvIndexTime': 1560337200, 'visibility': 12.52, 'ozone': 368.4, 'temperatureMin': 8.19, 'temperatureMinTime': 1560315600, 'temperatureMax': 19.47, 'temperatureMaxTime': 1560355200, 'apparentTemperatureMin': 7.74, 'apparentTemperatureMinTime': 1560315600, 'apparentTemperatureMax': 19.47, 'apparentTemperatureMaxTime': 1560355200}, {'time': 1560376800, 'summary': 'Partly cloudy overnight.', 'icon': 'partly-cloudy-night', 'sunriseTime': 1560397485, 'sunsetTime': 1560454139, 'moonPhase': 0.37, 'precipIntensity': 0.0025, 'precipIntensityMax': 0.0076, 'precipIntensityMaxTime': 1560376800, 'precipProbability': 0.01, 'precipType': 'rain', 'temperatureHigh': 25.15, 'temperatureHighTime': 1560438000, 'temperatureLow': 14.14, 'temperatureLowTime': 1560474000, 'apparentTemperatureHigh': 25.15, 'apparentTemperatureHighTime': 1560438000, 'apparentTemperatureLow': 14.14, 'apparentTemperatureLowTime': 1560474000, 'dewPoint': 7.44, 'humidity': 0.57, 'pressure': 1015.15, 'windSpeed': 1.2, 'windGust': 7.64, 'windGustTime': 1560434400, 'windBearing': 194, 'cloudCover': 0.02, 'uvIndex': 8, 'uvIndexTime': 1560423600, 'visibility': 16.09, 'ozone': 356.25, 'temperatureMin': 8.68, 'temperatureMinTime': 1560394800, 'temperatureMax': 25.15, 'temperatureMaxTime': 1560438000, 'apparentTemperatureMin': 8.68, 'apparentTemperatureMinTime': 1560394800, 'apparentTemperatureMax': 25.15, 'apparentTemperatureMaxTime': 1560438000}, {'time': 1560463200, 'summary': 'Mostly cloudy throughout the day.', 'icon': 'partly-cloudy-day', 'sunriseTime': 1560483879, 'sunsetTime': 1560540569, 'moonPhase': 0.4, 'precipIntensity': 0.0381, 'precipIntensityMax': 0.1956, 'precipIntensityMaxTime': 1560481200, 'precipProbability': 0.12, 'precipType': 'rain', 'temperatureHigh': 27.01, 'temperatureHighTime': 1560524400, 'temperatureLow': 15.48, 'temperatureLowTime': 1560567600, 'apparentTemperatureHigh': 27.08, 'apparentTemperatureHighTime': 1560524400, 'apparentTemperatureLow': 15.48, 'apparentTemperatureLowTime': 1560567600, 'dewPoint': 11.32, 'humidity': 0.6, 'pressure': 1015.41, 'windSpeed': 0.93, 'windGust': 6, 'windGustTime': 1560513600, 'windBearing': 49, 'cloudCover': 0.7, 'uvIndex': 6, 'uvIndexTime': 1560510000, 'visibility': 16.09, 'ozone': 315.91, 'temperatureMin': 14.14, 'temperatureMinTime': 1560474000, 'temperatureMax': 27.01, 'temperatureMaxTime': 1560524400, 'apparentTemperatureMin': 14.14, 'apparentTemperatureMinTime': 1560474000, 'apparentTemperatureMax': 27.08, 'apparentTemperatureMaxTime': 1560524400}, {'time': 1560549600, 'summary': 'Light rain starting in the afternoon, continuing until evening.', 'icon': 'rain', 'sunriseTime': 1560570275, 'sunsetTime': 1560626997, 'moonPhase': 0.44, 'precipIntensity': 0.2896, 'precipIntensityMax': 1.3462, 'precipIntensityMaxTime': 1560610800, 'precipProbability': 0.66, 'precipType': 'rain', 'temperatureHigh': 24.57, 'temperatureHighTime': 1560600000, 'temperatureLow': 14.06, 'temperatureLowTime': 1560657600, 'apparentTemperatureHigh': 24.57, 'apparentTemperatureHighTime': 1560600000, 'apparentTemperatureLow': 14.06, 'apparentTemperatureLowTime': 1560657600, 'dewPoint': 13.94, 'humidity': 0.73, 'pressure': 1016.91, 'windSpeed': 1.25, 'windGust': 6.44, 'windGustTime': 1560610800, 'windBearing': 263, 'cloudCover': 0.5, 'uvIndex': 7, 'uvIndexTime': 1560592800, 'visibility': 12.91, 'ozone': 310.54, 'temperatureMin': 15.48, 'temperatureMinTime': 1560567600, 'temperatureMax': 24.57, 'temperatureMaxTime': 1560600000, 'apparentTemperatureMin': 15.48, 'apparentTemperatureMinTime': 1560567600, 'apparentTemperatureMax': 24.57, 'apparentTemperatureMaxTime': 1560600000}, {'time': 1560636000, 'summary': 'Partly cloudy throughout the day.', 'icon': 'partly-cloudy-day', 'sunriseTime': 1560656674, 'sunsetTime': 1560713422, 'moonPhase': 0.47, 'precipIntensity': 0.0254, 'precipIntensityMax': 0.2083, 'precipIntensityMaxTime': 1560636000, 'precipProbability': 0.27, 'precipType': 'rain', 'temperatureHigh': 21.11, 'temperatureHighTime': 1560693600, 'temperatureLow': 11.11, 'temperatureLowTime': 1560740400, 'apparentTemperatureHigh': 21.11, 'apparentTemperatureHighTime': 1560693600, 'apparentTemperatureLow': 11.11, 'apparentTemperatureLowTime': 1560740400, 'dewPoint': 10.69, 'humidity': 0.68, 'pressure': 1021.95, 'windSpeed': 1.68, 'windGust': 5.2, 'windGustTime': 1560718800, 'windBearing': 350, 'cloudCover': 0.4, 'uvIndex': 8, 'uvIndexTime': 1560682800, 'visibility': 13.66, 'ozone': 310.19, 'temperatureMin': 14.06, 'temperatureMinTime': 1560657600, 'temperatureMax': 21.11, 'temperatureMaxTime': 1560693600, 'apparentTemperatureMin': 14.06, 'apparentTemperatureMinTime': 1560657600, 'apparentTemperatureMax': 21.11, 'apparentTemperatureMaxTime': 1560693600}, {'time': 1560722400, 'summary': 'Partly cloudy until evening.', 'icon': 'partly-cloudy-day', 'sunriseTime': 1560743075, 'sunsetTime': 1560799846, 'moonPhase': 0.51, 'precipIntensity': 0.1245, 'precipIntensityMax': 0.7493, 'precipIntensityMaxTime': 1560794400, 'precipProbability': 0.07, 'precipType': 'rain', 'temperatureHigh': 24.69, 'temperatureHighTime': 1560780000, 'temperatureLow': 12.28, 'temperatureLowTime': 1560826800, 'apparentTemperatureHigh': 24.69, 'apparentTemperatureHighTime': 1560780000, 'apparentTemperatureLow': 12.28, 'apparentTemperatureLowTime': 1560826800, 'dewPoint': 10.12, 'humidity': 0.64, 'pressure': 1019.12, 'windSpeed': 2.06, 'windGust': 7.32, 'windGustTime': 1560794400, 'windBearing': 31, 'cloudCover': 0.23, 'uvIndex': 7, 'uvIndexTime': 1560765600, 'visibility': 16.03, 'ozone': 316.53, 'temperatureMin': 11.11, 'temperatureMinTime': 1560740400, 'temperatureMax': 24.69, 'temperatureMaxTime': 1560780000, 'apparentTemperatureMin': 11.11, 'apparentTemperatureMinTime': 1560740400, 'apparentTemperatureMax': 24.69, 'apparentTemperatureMaxTime': 1560780000}]}, 'alerts': [{'title': 'Yellow Rain Warning For Switzerland - Genève', 'regions': ['Genève'], 'severity': 'warning', 'time': 1560076200, 'expires': 1560268800, 'description': '- Expected amounts: 40-70 mm - Snowfall limit: 2500-3000 m\\n', 'uri': 'http://www.meteoswiss.admin.ch'}, {'title': 'Moderate Thunderstorm Warning', 'regions': ['Ain', 'Aisne', 'Alpes de Haute Provence', 'Ardennes', 'Aube', 'Bas Rhin', 'Calvados', 'Charente Maritime', 'Cher', \"Côtes d'Armor\", 'Deux Sèvres', 'Doubs', 'Drôme', 'Essonne', 'Eure', 'Eure et Loir', 'Finistère', 'Haut Rhin', 'Haute Marne', 'Haute Savoie', 'Haute Saône', 'Hautes Alpes', 'Ille et Vilaine', 'Indre', 'Indre et Loire', 'Isère', 'Jura', 'Loir et Cher', 'Loire Atlantique', 'Loiret', 'Maine et Loire', 'Manche', 'Marne', 'Mayenne', 'Meurthe et Moselle', 'Meuse', 'Morbihan', 'Moselle', 'Nord', 'Oise', 'Orne', 'Paris et Petite Ceinture', 'Pas de Calais', 'Pyrénées Orientales', 'Sarthe', 'Savoie', 'Seine Maritime', 'Seine et Marne', 'Somme', 'Territoire de Belfort', \"Val d'Oise\", 'Var', 'Vendée', 'Vienne', 'Vosges', 'Yvelines'], 'severity': 'warning', 'time': 1560175200, 'expires': 1560261600, 'description': 'Although rather usual in this region, locally or potentially dangerous phenomena are expected. (such as local winds, summer thunderstorms, rising streams or high waves)\\n', 'uri': 'http://vigilance.meteofrance.com/'}, {'title': 'Moderate Rain-flood Warning', 'regions': ['Bas Rhin', 'Calvados', 'Doubs', 'Eure', 'Haut Rhin', 'Haute Savoie', 'Haute Saône', 'Isère', 'Jura', 'Savoie', 'Seine Maritime', 'Territoire de Belfort', 'Vosges'], 'severity': 'warning', 'time': 1560175200, 'expires': 1560261600, 'description': 'Although rather usual in this region, locally or potentially dangerous phenomena are expected. (such as local winds, summer thunderstorms, rising streams or high waves)\\n', 'uri': 'http://vigilance.meteofrance.com/'}], 'flags': {'sources': ['meteoalarm', 'cmc', 'gfs', 'icon', 'isd', 'madis'], 'meteoalarm-license': 'Based on data from EUMETNET - MeteoAlarm [https://www.meteoalarm.eu/]. Time delays between this website and the MeteoAlarm website are possible; for the most up to date information about alert levels as published by the participating National Meteorological Services please use the MeteoAlarm website.', 'nearest-station': 4.569, 'units': 'si'}, 'offset': 2}\n"
     ]
    }
   ],
   "source": [
    "print (data)"
   ]
  },
  {
   "cell_type": "markdown",
   "metadata": {},
   "source": [
    "## 2) What's the current wind speed? How much warmer does it feel than it actually is?\n",
    "\n",
    "- *Tip: You can do this by browsing through the dictionaries, but it might be easier to read the documentation*\n",
    "- *Tip: For the second half: it **is** one temperature, and it **feels** a different temperature. Calculate the difference.*"
   ]
  },
  {
   "cell_type": "code",
   "execution_count": 13,
   "metadata": {},
   "outputs": [
    {
     "data": {
      "text/plain": [
       "dict_keys(['latitude', 'longitude', 'timezone', 'currently', 'hourly', 'daily', 'alerts', 'flags', 'offset'])"
      ]
     },
     "execution_count": 13,
     "metadata": {},
     "output_type": "execute_result"
    }
   ],
   "source": [
    "data.keys()"
   ]
  },
  {
   "cell_type": "code",
   "execution_count": 14,
   "metadata": {},
   "outputs": [
    {
     "data": {
      "text/plain": [
       "{'time': 1560201857,\n",
       " 'summary': 'Rain',\n",
       " 'icon': 'rain',\n",
       " 'precipIntensity': 1.9406,\n",
       " 'precipProbability': 0.76,\n",
       " 'precipType': 'rain',\n",
       " 'temperature': 12.57,\n",
       " 'apparentTemperature': 12.57,\n",
       " 'dewPoint': 11.31,\n",
       " 'humidity': 0.92,\n",
       " 'pressure': 1013.5,\n",
       " 'windSpeed': 1.34,\n",
       " 'windGust': 2.42,\n",
       " 'windBearing': 14,\n",
       " 'cloudCover': 1,\n",
       " 'uvIndex': 0,\n",
       " 'visibility': 9.3,\n",
       " 'ozone': 348.3}"
      ]
     },
     "execution_count": 14,
     "metadata": {},
     "output_type": "execute_result"
    }
   ],
   "source": [
    "data['currently']"
   ]
  },
  {
   "cell_type": "code",
   "execution_count": 15,
   "metadata": {},
   "outputs": [
    {
     "name": "stdout",
     "output_type": "stream",
     "text": [
      "1.34\n"
     ]
    }
   ],
   "source": [
    "print (data['currently']['windSpeed'])"
   ]
  },
  {
   "cell_type": "markdown",
   "metadata": {},
   "source": [
    "## 3) Today's forecast is the FIRST daily forecast. For the place you decided on above, how much of the moon is currently visible?\n",
    "\n",
    "- *Tip: This does **not** use the `currently` key.*\n",
    "- *Tip: It might be helpful to save the forecast into its own variable*"
   ]
  },
  {
   "cell_type": "code",
   "execution_count": 16,
   "metadata": {},
   "outputs": [
    {
     "name": "stdout",
     "output_type": "stream",
     "text": [
      "0.26\n"
     ]
    }
   ],
   "source": [
    "#print (data['daily']['data'])\n",
    "MoonPhases = []\n",
    "dailyinfos = (data['daily']['data'])\n",
    "#print (dailyinfos)\n",
    "for info in dailyinfos:\n",
    "    MoonPhases.append(info['moonPhase'])\n",
    "print (MoonPhases[0])\n",
    "\n"
   ]
  },
  {
   "cell_type": "markdown",
   "metadata": {},
   "source": [
    "## 4) What's the difference between the high and low temperatures for today?"
   ]
  },
  {
   "cell_type": "code",
   "execution_count": 17,
   "metadata": {},
   "outputs": [
    {
     "name": "stdout",
     "output_type": "stream",
     "text": [
      "5\n"
     ]
    }
   ],
   "source": [
    "HighTemp = []\n",
    "LowTemps = []\n",
    "#print (data['daily']['data'])\n",
    "dailyinfos = (data['daily']['data'])\n",
    "for info in dailyinfos:\n",
    "    HighTemp.append(int(info['temperatureHigh']))\n",
    "    LowTemps.append(int(info['temperatureLow']))\n",
    "diff = int(HighTemp[0]) - int(LowTemps[0])\n",
    "print(diff)"
   ]
  },
  {
   "cell_type": "markdown",
   "metadata": {},
   "source": [
    "## 5) Go through the daily forecasts, printing out the next week's worth of predictions.\n",
    "\n",
    "I'd like to know the **high temperature** for each day, and whether it's **hot, warm, or cold** (based on what temperatures you think are hot, warm or cold).\n",
    "\n",
    "- *Tip: Is it returning F or C? You can change them by adding `?units=us` or `?units=si` onto the end of the URL.*\n",
    "- *Tip: You'll need to use an `if` statement to say whether it is hot, warm or cold.*"
   ]
  },
  {
   "cell_type": "code",
   "execution_count": 18,
   "metadata": {},
   "outputs": [
    {
     "name": "stdout",
     "output_type": "stream",
     "text": [
      " In day 2, it's warm.\n",
      " In day 3, it's warm.\n",
      " In day 5, it's hot.\n",
      " In day 6, it's warm.\n",
      " In day 7, it's warm.\n",
      " In day 8, it's warm.\n"
     ]
    }
   ],
   "source": [
    "#dailyinfos = (data['daily']['data'])\n",
    "#for info in dailyinfos:\n",
    "#    HighTemp.append(info['temperatureHigh'])\n",
    "#    LowTemps.append(info['temperatureLow'])\n",
    "day = 0\n",
    "#print (HighTemp)\n",
    "for temps in HighTemp:\n",
    "    day = day + 1\n",
    "    if temps < 15:\n",
    "        print (f\" In day {day}, it's cold.\")\n",
    "    elif temps > 25:\n",
    "        print (f\" In day {day}, it's hot.\")\n",
    "    elif temps > 15 and temps < 25:\n",
    "        print (f\" In day {day}, it's warm.\")"
   ]
  },
  {
   "cell_type": "markdown",
   "metadata": {},
   "source": [
    "# 6) What will be the hottest day in the next week? What is the high temperature on that day?\n",
    "\n",
    "It's okay if your result looks like `1453363200`. If you want to be extra-fancy, though, format it as a **real date** - the weird number is called a **UNIX timestamp**, which might help in googling.\n",
    "\n",
    "- *Tip: It's okay to skip this if it seems too difficult!*"
   ]
  },
  {
   "cell_type": "code",
   "execution_count": 19,
   "metadata": {},
   "outputs": [
    {
     "name": "stdout",
     "output_type": "stream",
     "text": [
      " The hottest day is 13 June 2019, with the highest temperature of 27.01\n"
     ]
    }
   ],
   "source": [
    "#print (HighTemp)\n",
    "import time\n",
    "import datetime\n",
    "dailyinfos = (data['daily']['data'])\n",
    "#print(dailyinfos)\n",
    "for info in dailyinfos:\n",
    "    timestamp = info['time']\n",
    "    value = datetime.datetime.fromtimestamp(timestamp)\n",
    "    exact_time = value.strftime('%d %B %Y')\n",
    "    if int(info['temperatureHigh']) == max(HighTemp):\n",
    "        print (f\" The hottest day is {exact_time}, with the highest temperature of {info['temperatureHigh']}\")"
   ]
  },
  {
   "cell_type": "markdown",
   "metadata": {},
   "source": [
    "## 7) What's the weather looking like for the next 24+ hours in Miami, Florida?\n",
    "\n",
    "I'd like to know the temperature for every hour, and if it's going to have cloud cover of more than 50% say \"{temperature} and cloudy\" instead of just the temperature. \n",
    "\n",
    "\n",
    "- *Tip: Be sure to remember how latitude and longitude are done with positive and negative numbers*\n",
    "- *Tip: How do you represent \"50%\" for cloud cover?*"
   ]
  },
  {
   "cell_type": "code",
   "execution_count": 20,
   "metadata": {},
   "outputs": [],
   "source": [
    "y = (f\"https://api.darksky.net/forecast/{API_DARKSKY_KEY}/25.77427, -80.19366?units=si\")\n",
    "import requests\n",
    "response = requests.get (y)\n",
    "data = response.json()"
   ]
  },
  {
   "cell_type": "code",
   "execution_count": 21,
   "metadata": {},
   "outputs": [
    {
     "name": "stdout",
     "output_type": "stream",
     "text": [
      " At 17h, there will be a temperature of 30.63c°.\n",
      " At 18h, there will be a temperature of 30.24c°.\n",
      " At 19h, there will be a temperature of 29.87c°.\n",
      " At 20h, there will be a temperature of 29.12c°.\n",
      " At 21h, there will be a temperature of 28.51c°.\n",
      " At 22h, there will be a temperature of 28.29c°.\n",
      " At 23h, there will be a temperature of 27.79c°.\n",
      " At 00h, there will be a temperature of 27.46c°.\n",
      " At 01h, there will be a temperature of 27.16c°.\n",
      " At 02h, there will be a temperature of 26.95c°.\n",
      " At 03h, there will be a temperature of 26.8c°.\n",
      " At 04h, there will be a temperature of 26.47c°.\n",
      " At 05h, there will be a temperature of 26.39c°.\n",
      " At 06h, there will be a temperature of 26.52c°.\n",
      " At 07h, there will be a temperature of 27.19c°.\n",
      " At 08h, there will be a temperature of 27.9c°.\n",
      " At 09h, there will be a temperature of 29.21c°.\n",
      " At 10h, there will be a temperature of 30.5c°.\n",
      " At 11h, there will be a temperature of 31.47c°.\n",
      " At 12h, there will be a temperature of 32.08c°.\n",
      " At 13h, there will be a temperature of 32.72c°.\n",
      " At 14h, there will be a temperature of 33.03c°.\n",
      " At 15h, there will be a temperature of 33.25c°.\n",
      " At 16h, there will be a temperature of 32.87c°.\n",
      " At 17h, there will be a temperature of 32.18c°.\n",
      " At 18h, there will be a temperature of 31.27c°.\n",
      " At 19h, there will be a temperature of 30.47c°.\n",
      " At 20h, there will be a temperature of 29.72c°.\n",
      " At 21h, there will be a temperature of 29.16c°.\n",
      " At 22h, there will be a temperature of 28.76c°.\n",
      " At 23h, there will be a temperature of 28.27c°.\n",
      " At 00h, there will be a temperature of 27.91c°.\n",
      " At 01h, there will be a temperature of 27.65c°.\n",
      " At 02h, there will be a temperature of 27.38c°.\n",
      " At 03h, there will be a temperature of 27.19c°.\n",
      " At 04h, there will be a temperature of 26.69c°.\n",
      " At 05h, there will be a temperature of 26.61c°.\n",
      " At 06h, there will be a temperature of 26.71c°.\n",
      " At 07h, there will be a temperature of 27.11c°.\n",
      " At 08h, there will be a temperature of 27.88c°.\n",
      " At 09h, there will be a temperature of 29.37c°.\n",
      " At 10h, there will be a temperature of 30.46c°.\n",
      " At 11h, there will be a temperature of 31.25c°.\n",
      " At 12h, there will be a temperature of 31.79c°.\n",
      " At 13h, there will be a temperature of 32.48c°.\n",
      " At 14h, there will be a temperature of 32.84c°.\n",
      " At 15h, there will be a temperature of 33.06c°.\n",
      " At 16h, there will be a temperature of 32.62c°.\n",
      " At 17h, there will be a temperature of 31.92c°.\n"
     ]
    }
   ],
   "source": [
    "hourlyinfos = (data['hourly']['data'])\n",
    "#print (hourlyinfos)\n",
    "import statistics\n",
    "cloudy = []\n",
    "for info in hourlyinfos:\n",
    "    cloudy.append(float(info['cloudCover']))\n",
    "    timestamp = info['time']\n",
    "    value = datetime.datetime.fromtimestamp(timestamp)\n",
    "    exact_hour = value.strftime('%H')\n",
    "    print (f\" At {exact_hour}h, there will be a temperature of {info['temperature']}c°.\")\n",
    "if statistics.mean(cloudy) > 0.5:\n",
    "    print (f\"It's gonna be cloudy most of the day...\")\n",
    "                           \n"
   ]
  },
  {
   "cell_type": "markdown",
   "metadata": {},
   "source": [
    "# 8) For the next 24-ish hours in Miami, what percent of the time is the temperature above 85 degrees?\n",
    "\n",
    "If they give you 48 hours instead of 24, that's okay.\n",
    "\n",
    "- *Tip: You might want to read up on [looping patterns](http://jonathansoma.com/lede/foundations-2017/classes/data%20structures/looping-patterns/)*"
   ]
  },
  {
   "cell_type": "code",
   "execution_count": 22,
   "metadata": {},
   "outputs": [],
   "source": [
    "#85F = 29,4C\n",
    "hourlyinfos = (data['hourly']['data'])\n",
    "#print (hourlyinfos)\n"
   ]
  },
  {
   "cell_type": "code",
   "execution_count": 23,
   "metadata": {},
   "outputs": [
    {
     "name": "stdout",
     "output_type": "stream",
     "text": [
      "The temperature will be above 85 degrees 45% of the time.\n"
     ]
    }
   ],
   "source": [
    "import statistics\n",
    "temp_miami = []\n",
    "time = 0\n",
    "time_above = 0\n",
    "for info in hourlyinfos:\n",
    "    temp_miami.append(float(info['temperature']))\n",
    "    time = time + 1\n",
    "    if float(info['temperature']) > 29.4:\n",
    "        time_above = time_above + 1\n",
    "#print (time)\n",
    "#print (time_above)\n",
    "percentage = (time_above * 100)/49\n",
    "print (f\"The temperature will be above 85 degrees {round(percentage)}% of the time.\")"
   ]
  },
  {
   "cell_type": "markdown",
   "metadata": {},
   "source": [
    "## 9) What was the temperature in Central Park on Christmas Day, 2012? How about 2007? 2005? How far back does the API allow you to go?\n",
    "\n",
    "- *Tip: You'll need to use UNIX time, which is the number of seconds since January 1, 1970. Google can help you convert a normal date!*\n",
    "- *Tip: You'll want to use Forecast.io's \"time machine\" API, [documentation here](https://darksky.net/dev/docs/time-machine)*"
   ]
  },
  {
   "cell_type": "code",
   "execution_count": 24,
   "metadata": {},
   "outputs": [],
   "source": [
    "#https://api.darksky.net/forecast/[key]/[latitude],[longitude],[time]\n",
    "#12/25/2012, 12h = 1356436800\n",
    "#12/25/2007, 12h = 1198584000\n",
    "#12/25/2005, 12h = 1135512000\n",
    "#central park = 40.785091, -73.968285.\n",
    "c2012 = (f\"https://api.darksky.net/forecast/{API_DARKSKY_KEY}/40.785091,-73.968285,1356436800?exclude=currently\")\n",
    "c2007 = (f\"https://api.darksky.net/forecast/{API_DARKSKY_KEY}/40.785091,-73.968285,1198584000??exclude=currently\")\n",
    "c2005 = (f\"https://api.darksky.net/forecast/{API_DARKSKY_KEY}/40.785091,-73.968285,1135512000??exclude=currently\")\n",
    "import requests\n",
    "response = requests.get(c2012)\n",
    "data2012 = response.json()\n",
    "import requests\n",
    "response = requests.get(c2007)\n",
    "data2007 = response.json()\n",
    "import requests\n",
    "response = requests.get(c2005)\n",
    "data2005 = response.json()"
   ]
  },
  {
   "cell_type": "code",
   "execution_count": 28,
   "metadata": {},
   "outputs": [
    {
     "name": "stdout",
     "output_type": "stream",
     "text": [
      "The temperature in Central Park on Christmas Day, 2012 at 12h was 35.16F.\n"
     ]
    }
   ],
   "source": [
    "xday2012 = data2012['hourly']['data']\n",
    "#print (xday2012)\n",
    "\n",
    "for info in xday2012:\n",
    "    if info['time'] == 1356436800:\n",
    "        print (f\"The temperature in Central Park on Christmas Day, 2012 at 12h was {info['apparentTemperature']}F.\")"
   ]
  },
  {
   "cell_type": "code",
   "execution_count": 29,
   "metadata": {},
   "outputs": [
    {
     "name": "stdout",
     "output_type": "stream",
     "text": [
      "The temperature in Central Park on Christmas Day, 2007 at 12h was 30.27F.\n"
     ]
    }
   ],
   "source": [
    "xday2007 = data2007['hourly']['data']\n",
    "\n",
    "for info in xday2007:\n",
    "    if info['time'] == 1198584000:\n",
    "        print (f\"The temperature in Central Park on Christmas Day, 2007 at 12h was {info['apparentTemperature']}F.\")"
   ]
  },
  {
   "cell_type": "code",
   "execution_count": 30,
   "metadata": {},
   "outputs": [],
   "source": [
    "xday2005 = data2005['hourly']['data']\n",
    "\n",
    "for info in xday2005:\n",
    "    if info['time'] == 11355120000:\n",
    "        print (f\"The temperature in Central Park on Christmas Day, 2005 at 12h was {info['apparentTemperature']}F.\")"
   ]
  }
 ],
 "metadata": {
  "kernelspec": {
   "display_name": "Python 3",
   "language": "python",
   "name": "python3"
  },
  "language_info": {
   "codemirror_mode": {
    "name": "ipython",
    "version": 3
   },
   "file_extension": ".py",
   "mimetype": "text/x-python",
   "name": "python",
   "nbconvert_exporter": "python",
   "pygments_lexer": "ipython3",
   "version": "3.7.1"
  }
 },
 "nbformat": 4,
 "nbformat_minor": 1
}
