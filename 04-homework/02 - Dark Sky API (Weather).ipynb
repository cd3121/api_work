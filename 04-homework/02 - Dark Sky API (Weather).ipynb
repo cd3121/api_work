{
 "cells": [
  {
   "cell_type": "markdown",
   "metadata": {},
   "source": [
    "# Dark Sky API (Weather)\n",
    "\n",
    "Answer the following questions using the [Dark Sky API](https://darksky.net/dev/). I've added three cells for each question but you're free to use more or less! Hold `Shift` and hit `Enter` to run a cell, and use the `+` on the top left to add a new cell to a notebook.\n",
    "\n",
    "If you spend some time reading the documentation your life will probably be a little bit easier!\n",
    "\n",
    "## 0) Import any libraries you might need\n",
    "\n",
    "- *Tip: We're going to be downloading things from the internet, so we probably need `requests`.*"
   ]
  },
  {
   "cell_type": "code",
   "execution_count": 4,
   "metadata": {},
   "outputs": [],
   "source": [
    "from dotenv import load_dotenv\n",
    "load_dotenv()\n",
    "import os\n",
    "\n",
    "API_DARKSKY_KEY = os.getenv('API_DARKSKY_KEY')"
   ]
  },
  {
   "cell_type": "code",
   "execution_count": 5,
   "metadata": {},
   "outputs": [],
   "source": [
    "\n",
    "import requests\n",
    "response = requests.get (f\"https://api.darksky.net/forecast/{API_DARKSKY_KEY}/46.204391,6.143158\")\n",
    "data = response.json()"
   ]
  },
  {
   "cell_type": "code",
   "execution_count": 6,
   "metadata": {},
   "outputs": [
    {
     "name": "stdout",
     "output_type": "stream",
     "text": [
      "{'latitude': 46.204391, 'longitude': 6.143158, 'timezone': 'Europe/Zurich', 'currently': {'time': 1560025158, 'summary': 'Clear', 'icon': 'clear-night', 'precipIntensity': 0, 'precipProbability': 0, 'temperature': 60.5, 'apparentTemperature': 60.5, 'dewPoint': 36.89, 'humidity': 0.41, 'pressure': 1023.67, 'windSpeed': 4.8, 'windGust': 6.29, 'windBearing': 18, 'cloudCover': 0.11, 'uvIndex': 0, 'visibility': 5.87, 'ozone': 339.02}, 'hourly': {'summary': 'Rain starting tomorrow morning, continuing until tomorrow evening.', 'icon': 'rain', 'data': [{'time': 1560024000, 'summary': 'Clear', 'icon': 'clear-night', 'precipIntensity': 0, 'precipProbability': 0, 'temperature': 61.87, 'apparentTemperature': 61.87, 'dewPoint': 36.83, 'humidity': 0.39, 'pressure': 1023.48, 'windSpeed': 4.79, 'windGust': 6.25, 'windBearing': 15, 'cloudCover': 0.1, 'uvIndex': 0, 'visibility': 5.69, 'ozone': 339.45}, {'time': 1560027600, 'summary': 'Clear', 'icon': 'clear-night', 'precipIntensity': 0, 'precipProbability': 0, 'temperature': 57.61, 'apparentTemperature': 57.61, 'dewPoint': 36.81, 'humidity': 0.46, 'pressure': 1024.07, 'windSpeed': 4.84, 'windGust': 6.37, 'windBearing': 23, 'cloudCover': 0.13, 'uvIndex': 0, 'visibility': 6.27, 'ozone': 338.13}, {'time': 1560031200, 'summary': 'Clear', 'icon': 'clear-night', 'precipIntensity': 0, 'precipProbability': 0, 'temperature': 54.08, 'apparentTemperature': 54.08, 'dewPoint': 37.99, 'humidity': 0.54, 'pressure': 1024.26, 'windSpeed': 4.17, 'windGust': 6.24, 'windBearing': 32, 'cloudCover': 0.18, 'uvIndex': 0, 'visibility': 9.99, 'ozone': 336.31}, {'time': 1560034800, 'summary': 'Partly Cloudy', 'icon': 'partly-cloudy-night', 'precipIntensity': 0, 'precipProbability': 0, 'temperature': 52.01, 'apparentTemperature': 52.01, 'dewPoint': 38.95, 'humidity': 0.61, 'pressure': 1024.24, 'windSpeed': 3.58, 'windGust': 5.94, 'windBearing': 42, 'cloudCover': 0.25, 'uvIndex': 0, 'visibility': 10, 'ozone': 334.14}, {'time': 1560038400, 'summary': 'Partly Cloudy', 'icon': 'partly-cloudy-night', 'precipIntensity': 0, 'precipProbability': 0, 'temperature': 51.45, 'apparentTemperature': 51.45, 'dewPoint': 39.14, 'humidity': 0.63, 'pressure': 1024.09, 'windSpeed': 3.42, 'windGust': 5.69, 'windBearing': 49, 'cloudCover': 0.35, 'uvIndex': 0, 'visibility': 10, 'ozone': 332.13}, {'time': 1560042000, 'summary': 'Partly Cloudy', 'icon': 'partly-cloudy-night', 'precipIntensity': 0, 'precipProbability': 0, 'temperature': 51.17, 'apparentTemperature': 51.17, 'dewPoint': 39.1, 'humidity': 0.63, 'pressure': 1023.77, 'windSpeed': 3.36, 'windGust': 5.47, 'windBearing': 52, 'cloudCover': 0.5, 'uvIndex': 0, 'visibility': 10, 'ozone': 330.56}, {'time': 1560045600, 'summary': 'Mostly Cloudy', 'icon': 'partly-cloudy-night', 'precipIntensity': 0, 'precipProbability': 0, 'temperature': 51.33, 'apparentTemperature': 51.33, 'dewPoint': 38.94, 'humidity': 0.62, 'pressure': 1023.3, 'windSpeed': 3.33, 'windGust': 5.27, 'windBearing': 51, 'cloudCover': 0.69, 'uvIndex': 0, 'visibility': 10, 'ozone': 329.17}, {'time': 1560049200, 'summary': 'Mostly Cloudy', 'icon': 'partly-cloudy-night', 'precipIntensity': 0, 'precipProbability': 0, 'temperature': 51.89, 'apparentTemperature': 51.89, 'dewPoint': 39.11, 'humidity': 0.62, 'pressure': 1022.84, 'windSpeed': 3.35, 'windGust': 5.46, 'windBearing': 50, 'cloudCover': 0.82, 'uvIndex': 0, 'visibility': 10, 'ozone': 327.99}, {'time': 1560052800, 'summary': 'Mostly Cloudy', 'icon': 'partly-cloudy-day', 'precipIntensity': 0, 'precipProbability': 0, 'temperature': 52.99, 'apparentTemperature': 52.99, 'dewPoint': 39.76, 'humidity': 0.61, 'pressure': 1022.37, 'windSpeed': 3.48, 'windGust': 6.44, 'windBearing': 53, 'cloudCover': 0.85, 'uvIndex': 0, 'visibility': 10, 'ozone': 326.94}, {'time': 1560056400, 'summary': 'Mostly Cloudy', 'icon': 'partly-cloudy-day', 'precipIntensity': 0.0004, 'precipProbability': 0.01, 'precipType': 'rain', 'temperature': 54.8, 'apparentTemperature': 54.8, 'dewPoint': 40.71, 'humidity': 0.59, 'pressure': 1021.85, 'windSpeed': 3.68, 'windGust': 7.79, 'windBearing': 54, 'cloudCover': 0.82, 'uvIndex': 0, 'visibility': 10, 'ozone': 325.98}, {'time': 1560060000, 'summary': 'Mostly Cloudy', 'icon': 'partly-cloudy-day', 'precipIntensity': 0.0014, 'precipProbability': 0.01, 'precipType': 'rain', 'temperature': 56.92, 'apparentTemperature': 56.92, 'dewPoint': 41.99, 'humidity': 0.57, 'pressure': 1021.45, 'windSpeed': 3.79, 'windGust': 8.6, 'windBearing': 54, 'cloudCover': 0.81, 'uvIndex': 1, 'visibility': 10, 'ozone': 324.8}, {'time': 1560063600, 'summary': 'Mostly Cloudy', 'icon': 'partly-cloudy-day', 'precipIntensity': 0.0053, 'precipProbability': 0.04, 'precipType': 'rain', 'temperature': 58.69, 'apparentTemperature': 58.69, 'dewPoint': 43.75, 'humidity': 0.58, 'pressure': 1021.29, 'windSpeed': 3.74, 'windGust': 8.43, 'windBearing': 49, 'cloudCover': 0.82, 'uvIndex': 2, 'visibility': 10, 'ozone': 322.97}, {'time': 1560067200, 'summary': 'Mostly Cloudy', 'icon': 'partly-cloudy-day', 'precipIntensity': 0.0151, 'precipProbability': 0.14, 'precipType': 'rain', 'temperature': 60.29, 'apparentTemperature': 60.29, 'dewPoint': 45.8, 'humidity': 0.59, 'pressure': 1021.21, 'windSpeed': 3.6, 'windGust': 7.7, 'windBearing': 42, 'cloudCover': 0.85, 'uvIndex': 3, 'visibility': 10, 'ozone': 320.86}, {'time': 1560070800, 'summary': 'Possible Light Rain', 'icon': 'rain', 'precipIntensity': 0.0286, 'precipProbability': 0.27, 'precipType': 'rain', 'temperature': 61.71, 'apparentTemperature': 61.71, 'dewPoint': 47.62, 'humidity': 0.6, 'pressure': 1021.12, 'windSpeed': 3.49, 'windGust': 6.91, 'windBearing': 37, 'cloudCover': 0.87, 'uvIndex': 4, 'visibility': 9.03, 'ozone': 319.55}, {'time': 1560074400, 'summary': 'Light Rain', 'icon': 'rain', 'precipIntensity': 0.0439, 'precipProbability': 0.32, 'precipType': 'rain', 'temperature': 64.14, 'apparentTemperature': 64.14, 'dewPoint': 48.98, 'humidity': 0.58, 'pressure': 1021.02, 'windSpeed': 3.42, 'windGust': 5.91, 'windBearing': 38, 'cloudCover': 0.89, 'uvIndex': 4, 'visibility': 9.12, 'ozone': 319.55}, {'time': 1560078000, 'summary': 'Rain', 'icon': 'rain', 'precipIntensity': 0.0613, 'precipProbability': 0.38, 'precipType': 'rain', 'temperature': 65.67, 'apparentTemperature': 65.67, 'dewPoint': 50.09, 'humidity': 0.57, 'pressure': 1020.89, 'windSpeed': 3.38, 'windGust': 4.83, 'windBearing': 41, 'cloudCover': 0.91, 'uvIndex': 5, 'visibility': 10, 'ozone': 320.41}, {'time': 1560081600, 'summary': 'Rain', 'icon': 'rain', 'precipIntensity': 0.0738, 'precipProbability': 0.41, 'precipType': 'rain', 'temperature': 66.17, 'apparentTemperature': 66.17, 'dewPoint': 51.16, 'humidity': 0.58, 'pressure': 1020.59, 'windSpeed': 3.49, 'windGust': 4.68, 'windBearing': 43, 'cloudCover': 0.93, 'uvIndex': 5, 'visibility': 10, 'ozone': 321.29}, {'time': 1560085200, 'summary': 'Rain', 'icon': 'rain', 'precipIntensity': 0.0772, 'precipProbability': 0.42, 'precipType': 'rain', 'temperature': 66.33, 'apparentTemperature': 66.33, 'dewPoint': 52.28, 'humidity': 0.61, 'pressure': 1019.99, 'windSpeed': 4.01, 'windGust': 6.03, 'windBearing': 40, 'cloudCover': 0.95, 'uvIndex': 4, 'visibility': 10, 'ozone': 322.36}, {'time': 1560088800, 'summary': 'Rain', 'icon': 'rain', 'precipIntensity': 0.0752, 'precipProbability': 0.41, 'precipType': 'rain', 'temperature': 65.59, 'apparentTemperature': 65.59, 'dewPoint': 53.34, 'humidity': 0.65, 'pressure': 1019.22, 'windSpeed': 4.71, 'windGust': 8.31, 'windBearing': 36, 'cloudCover': 0.97, 'uvIndex': 4, 'visibility': 10, 'ozone': 323.52}, {'time': 1560092400, 'summary': 'Rain', 'icon': 'rain', 'precipIntensity': 0.068, 'precipProbability': 0.4, 'precipType': 'rain', 'temperature': 64.51, 'apparentTemperature': 64.51, 'dewPoint': 54.21, 'humidity': 0.69, 'pressure': 1018.58, 'windSpeed': 5.09, 'windGust': 10.12, 'windBearing': 32, 'cloudCover': 0.98, 'uvIndex': 3, 'visibility': 10, 'ozone': 324.53}, {'time': 1560096000, 'summary': 'Light Rain', 'icon': 'rain', 'precipIntensity': 0.0518, 'precipProbability': 0.39, 'precipType': 'rain', 'temperature': 63.41, 'apparentTemperature': 63.41, 'dewPoint': 54.91, 'humidity': 0.74, 'pressure': 1018.11, 'windSpeed': 4.89, 'windGust': 11.09, 'windBearing': 29, 'cloudCover': 0.98, 'uvIndex': 2, 'visibility': 9.12, 'ozone': 325.47}, {'time': 1560099600, 'summary': 'Light Rain', 'icon': 'rain', 'precipIntensity': 0.0358, 'precipProbability': 0.37, 'precipType': 'rain', 'temperature': 62.16, 'apparentTemperature': 62.16, 'dewPoint': 55.4, 'humidity': 0.79, 'pressure': 1017.72, 'windSpeed': 4.39, 'windGust': 11.63, 'windBearing': 28, 'cloudCover': 0.97, 'uvIndex': 1, 'visibility': 7.94, 'ozone': 326.33}, {'time': 1560103200, 'summary': 'Overcast', 'icon': 'cloudy', 'precipIntensity': 0.0268, 'precipProbability': 0.34, 'precipType': 'rain', 'temperature': 60.64, 'apparentTemperature': 60.64, 'dewPoint': 55.49, 'humidity': 0.83, 'pressure': 1017.45, 'windSpeed': 3.91, 'windGust': 11.28, 'windBearing': 28, 'cloudCover': 0.97, 'uvIndex': 0, 'visibility': 6.76, 'ozone': 326.96}, {'time': 1560106800, 'summary': 'Overcast', 'icon': 'cloudy', 'precipIntensity': 0.0198, 'precipProbability': 0.29, 'precipType': 'rain', 'temperature': 59.2, 'apparentTemperature': 59.2, 'dewPoint': 54.9, 'humidity': 0.86, 'pressure': 1017.42, 'windSpeed': 3.53, 'windGust': 9.53, 'windBearing': 31, 'cloudCover': 0.98, 'uvIndex': 0, 'visibility': 5.53, 'ozone': 327.13}, {'time': 1560110400, 'summary': 'Overcast', 'icon': 'cloudy', 'precipIntensity': 0.0135, 'precipProbability': 0.24, 'precipType': 'rain', 'temperature': 57.69, 'apparentTemperature': 57.69, 'dewPoint': 53.91, 'humidity': 0.87, 'pressure': 1017.52, 'windSpeed': 3.16, 'windGust': 6.91, 'windBearing': 34, 'cloudCover': 0.99, 'uvIndex': 0, 'visibility': 4.3, 'ozone': 327.01}, {'time': 1560114000, 'summary': 'Overcast', 'icon': 'cloudy', 'precipIntensity': 0.0098, 'precipProbability': 0.2, 'precipType': 'rain', 'temperature': 56.8, 'apparentTemperature': 56.8, 'dewPoint': 53.13, 'humidity': 0.87, 'pressure': 1017.53, 'windSpeed': 2.85, 'windGust': 4.83, 'windBearing': 39, 'cloudCover': 0.99, 'uvIndex': 0, 'visibility': 3.49, 'ozone': 327.07}, {'time': 1560117600, 'summary': 'Overcast', 'icon': 'cloudy', 'precipIntensity': 0.0078, 'precipProbability': 0.17, 'precipType': 'rain', 'temperature': 56.52, 'apparentTemperature': 56.52, 'dewPoint': 52.77, 'humidity': 0.87, 'pressure': 1017.36, 'windSpeed': 2.68, 'windGust': 3.88, 'windBearing': 46, 'cloudCover': 1, 'uvIndex': 0, 'visibility': 3.33, 'ozone': 327.4}, {'time': 1560121200, 'summary': 'Overcast', 'icon': 'cloudy', 'precipIntensity': 0.0066, 'precipProbability': 0.14, 'precipType': 'rain', 'temperature': 56.53, 'apparentTemperature': 56.53, 'dewPoint': 52.58, 'humidity': 0.87, 'pressure': 1017.14, 'windSpeed': 2.59, 'windGust': 3.47, 'windBearing': 54, 'cloudCover': 0.99, 'uvIndex': 0, 'visibility': 3.58, 'ozone': 327.94}, {'time': 1560124800, 'summary': 'Overcast', 'icon': 'cloudy', 'precipIntensity': 0.0058, 'precipProbability': 0.13, 'precipType': 'rain', 'temperature': 56.47, 'apparentTemperature': 56.47, 'dewPoint': 52.43, 'humidity': 0.86, 'pressure': 1016.88, 'windSpeed': 2.48, 'windGust': 3.2, 'windBearing': 60, 'cloudCover': 0.95, 'uvIndex': 0, 'visibility': 3.95, 'ozone': 328.44}, {'time': 1560128400, 'summary': 'Mostly Cloudy', 'icon': 'partly-cloudy-night', 'precipIntensity': 0.0044, 'precipProbability': 0.12, 'precipType': 'rain', 'temperature': 56.19, 'apparentTemperature': 56.19, 'dewPoint': 52.21, 'humidity': 0.86, 'pressure': 1016.58, 'windSpeed': 2.29, 'windGust': 3.02, 'windBearing': 62, 'cloudCover': 0.82, 'uvIndex': 0, 'visibility': 4.43, 'ozone': 328.94}, {'time': 1560132000, 'summary': 'Mostly Cloudy', 'icon': 'partly-cloudy-night', 'precipIntensity': 0.0031, 'precipProbability': 0.12, 'precipType': 'rain', 'temperature': 55.87, 'apparentTemperature': 55.87, 'dewPoint': 52.04, 'humidity': 0.87, 'pressure': 1016.26, 'windSpeed': 2.09, 'windGust': 3, 'windBearing': 61, 'cloudCover': 0.64, 'uvIndex': 0, 'visibility': 5.02, 'ozone': 329.57}, {'time': 1560135600, 'summary': 'Partly Cloudy', 'icon': 'partly-cloudy-night', 'precipIntensity': 0.0025, 'precipProbability': 0.13, 'precipType': 'rain', 'temperature': 55.92, 'apparentTemperature': 55.92, 'dewPoint': 52.18, 'humidity': 0.87, 'pressure': 1015.93, 'windSpeed': 1.95, 'windGust': 2.91, 'windBearing': 60, 'cloudCover': 0.53, 'uvIndex': 0, 'visibility': 5.44, 'ozone': 330.07}, {'time': 1560139200, 'summary': 'Partly Cloudy', 'icon': 'partly-cloudy-day', 'precipIntensity': 0.0032, 'precipProbability': 0.15, 'precipType': 'rain', 'temperature': 56.11, 'apparentTemperature': 56.11, 'dewPoint': 52.8, 'humidity': 0.89, 'pressure': 1015.61, 'windSpeed': 1.91, 'windGust': 2.61, 'windBearing': 59, 'cloudCover': 0.54, 'uvIndex': 0, 'visibility': 5.43, 'ozone': 330.33}, {'time': 1560142800, 'summary': 'Mostly Cloudy', 'icon': 'partly-cloudy-day', 'precipIntensity': 0.0056, 'precipProbability': 0.2, 'precipType': 'rain', 'temperature': 56.73, 'apparentTemperature': 56.73, 'dewPoint': 53.72, 'humidity': 0.9, 'pressure': 1015.27, 'windSpeed': 1.91, 'windGust': 2.3, 'windBearing': 57, 'cloudCover': 0.62, 'uvIndex': 0, 'visibility': 5.25, 'ozone': 330.47}, {'time': 1560146400, 'summary': 'Mostly Cloudy', 'icon': 'partly-cloudy-day', 'precipIntensity': 0.0085, 'precipProbability': 0.27, 'precipType': 'rain', 'temperature': 57.76, 'apparentTemperature': 57.76, 'dewPoint': 54.56, 'humidity': 0.89, 'pressure': 1014.97, 'windSpeed': 2, 'windGust': 2.32, 'windBearing': 54, 'cloudCover': 0.7, 'uvIndex': 1, 'visibility': 5.27, 'ozone': 330.7}, {'time': 1560150000, 'summary': 'Mostly Cloudy', 'icon': 'partly-cloudy-day', 'precipIntensity': 0.01, 'precipProbability': 0.33, 'precipType': 'rain', 'temperature': 59.23, 'apparentTemperature': 59.23, 'dewPoint': 55.28, 'humidity': 0.87, 'pressure': 1014.74, 'windSpeed': 1.76, 'windGust': 2.49, 'windBearing': 267, 'cloudCover': 0.77, 'uvIndex': 2, 'visibility': 5.86, 'ozone': 330.99}, {'time': 1560153600, 'summary': 'Mostly Cloudy', 'icon': 'partly-cloudy-day', 'precipIntensity': 0.0118, 'precipProbability': 0.37, 'precipType': 'rain', 'temperature': 61.22, 'apparentTemperature': 61.22, 'dewPoint': 55.92, 'humidity': 0.83, 'pressure': 1014.55, 'windSpeed': 2.27, 'windGust': 3, 'windBearing': 283, 'cloudCover': 0.85, 'uvIndex': 3, 'visibility': 6.65, 'ozone': 331.28}, {'time': 1560157200, 'summary': 'Mostly Cloudy', 'icon': 'partly-cloudy-day', 'precipIntensity': 0.0147, 'precipProbability': 0.39, 'precipType': 'rain', 'temperature': 62.94, 'apparentTemperature': 62.94, 'dewPoint': 56.37, 'humidity': 0.79, 'pressure': 1014.3, 'windSpeed': 2.62, 'windGust': 3.62, 'windBearing': 279, 'cloudCover': 0.9, 'uvIndex': 4, 'visibility': 6.97, 'ozone': 331.68}, {'time': 1560160800, 'summary': 'Mostly Cloudy', 'icon': 'partly-cloudy-day', 'precipIntensity': 0.018, 'precipProbability': 0.41, 'precipType': 'rain', 'temperature': 63.64, 'apparentTemperature': 63.64, 'dewPoint': 56.58, 'humidity': 0.78, 'pressure': 1013.93, 'windSpeed': 2.83, 'windGust': 4.41, 'windBearing': 239, 'cloudCover': 0.93, 'uvIndex': 4, 'visibility': 6.45, 'ozone': 332.37}, {'time': 1560164400, 'summary': 'Overcast', 'icon': 'cloudy', 'precipIntensity': 0.0224, 'precipProbability': 0.5, 'precipType': 'rain', 'temperature': 63.34, 'apparentTemperature': 63.34, 'dewPoint': 56.61, 'humidity': 0.79, 'pressure': 1013.5, 'windSpeed': 3.04, 'windGust': 5.29, 'windBearing': 337, 'cloudCover': 0.94, 'uvIndex': 4, 'visibility': 5.45, 'ozone': 333.13}, {'time': 1560168000, 'summary': 'Light Rain', 'icon': 'rain', 'precipIntensity': 0.0288, 'precipProbability': 0.6, 'precipType': 'rain', 'temperature': 62.23, 'apparentTemperature': 62.23, 'dewPoint': 56.48, 'humidity': 0.81, 'pressure': 1013.17, 'windSpeed': 3.3, 'windGust': 5.81, 'windBearing': 307, 'cloudCover': 0.95, 'uvIndex': 4, 'visibility': 4.38, 'ozone': 333.63}, {'time': 1560171600, 'summary': 'Light Rain', 'icon': 'rain', 'precipIntensity': 0.0418, 'precipProbability': 0.73, 'precipType': 'rain', 'temperature': 61.09, 'apparentTemperature': 61.09, 'dewPoint': 56.15, 'humidity': 0.84, 'pressure': 1013, 'windSpeed': 2.75, 'windGust': 5.68, 'windBearing': 338, 'cloudCover': 0.97, 'uvIndex': 4, 'visibility': 3.25, 'ozone': 333.51}, {'time': 1560175200, 'summary': 'Rain', 'icon': 'rain', 'precipIntensity': 0.0618, 'precipProbability': 0.79, 'precipType': 'rain', 'temperature': 59.9, 'apparentTemperature': 59.9, 'dewPoint': 55.61, 'humidity': 0.86, 'pressure': 1012.91, 'windSpeed': 2.87, 'windGust': 5.18, 'windBearing': 265, 'cloudCover': 0.98, 'uvIndex': 3, 'visibility': 2.04, 'ozone': 333.12}, {'time': 1560178800, 'summary': 'Rain', 'icon': 'rain', 'precipIntensity': 0.0717, 'precipProbability': 0.8, 'precipType': 'rain', 'temperature': 59.14, 'apparentTemperature': 59.14, 'dewPoint': 55.08, 'humidity': 0.86, 'pressure': 1012.89, 'windSpeed': 2.78, 'windGust': 4.76, 'windBearing': 298, 'cloudCover': 0.99, 'uvIndex': 3, 'visibility': 1.16, 'ozone': 332.93}, {'time': 1560182400, 'summary': 'Rain', 'icon': 'rain', 'precipIntensity': 0.0549, 'precipProbability': 0.77, 'precipType': 'rain', 'temperature': 59.08, 'apparentTemperature': 59.08, 'dewPoint': 54.67, 'humidity': 0.85, 'pressure': 1012.91, 'windSpeed': 2.57, 'windGust': 4.5, 'windBearing': 281, 'cloudCover': 1, 'uvIndex': 2, 'visibility': 0.56, 'ozone': 333.2}, {'time': 1560186000, 'summary': 'Light Rain', 'icon': 'rain', 'precipIntensity': 0.03, 'precipProbability': 0.65, 'precipType': 'rain', 'temperature': 58.99, 'apparentTemperature': 58.99, 'dewPoint': 54.23, 'humidity': 0.84, 'pressure': 1013, 'windSpeed': 2.17, 'windGust': 4.31, 'windBearing': 359, 'cloudCover': 1, 'uvIndex': 1, 'visibility': 0.28, 'ozone': 333.72}, {'time': 1560189600, 'summary': 'Foggy', 'icon': 'fog', 'precipIntensity': 0.0158, 'precipProbability': 0.54, 'precipType': 'rain', 'temperature': 58.73, 'apparentTemperature': 58.73, 'dewPoint': 53.67, 'humidity': 0.83, 'pressure': 1013.09, 'windSpeed': 2.54, 'windGust': 4.22, 'windBearing': 328, 'cloudCover': 0.99, 'uvIndex': 0, 'visibility': 0.87, 'ozone': 334.34}, {'time': 1560193200, 'summary': 'Overcast', 'icon': 'cloudy', 'precipIntensity': 0.0111, 'precipProbability': 0.49, 'precipType': 'rain', 'temperature': 57.83, 'apparentTemperature': 57.83, 'dewPoint': 52.86, 'humidity': 0.83, 'pressure': 1013.27, 'windSpeed': 2.71, 'windGust': 4.36, 'windBearing': 324, 'cloudCover': 0.96, 'uvIndex': 0, 'visibility': 3.06, 'ozone': 334.98}, {'time': 1560196800, 'summary': 'Mostly Cloudy', 'icon': 'partly-cloudy-night', 'precipIntensity': 0.0097, 'precipProbability': 0.47, 'precipType': 'rain', 'temperature': 56.85, 'apparentTemperature': 56.85, 'dewPoint': 51.92, 'humidity': 0.84, 'pressure': 1013.47, 'windSpeed': 2.94, 'windGust': 4.62, 'windBearing': 328, 'cloudCover': 0.92, 'uvIndex': 0, 'visibility': 6.12, 'ozone': 335.75}]}, 'daily': {'summary': 'Rain tomorrow through next Saturday, with high temperatures bottoming out at 58°F on Tuesday.', 'icon': 'rain', 'data': [{'time': 1559944800, 'summary': 'Mostly cloudy in the morning.', 'icon': 'partly-cloudy-day', 'sunriseTime': 1559965552, 'sunsetTime': 1560021958, 'moonPhase': 0.18, 'precipIntensity': 0.0014, 'precipIntensityMax': 0.0098, 'precipIntensityMaxTime': 1559952000, 'precipProbability': 0.13, 'precipType': 'rain', 'temperatureHigh': 75.72, 'temperatureHighTime': 1560009600, 'temperatureLow': 51.17, 'temperatureLowTime': 1560042000, 'apparentTemperatureHigh': 75.72, 'apparentTemperatureHighTime': 1560009600, 'apparentTemperatureLow': 51.17, 'apparentTemperatureLowTime': 1560042000, 'dewPoint': 38.58, 'humidity': 0.45, 'pressure': 1023.35, 'windSpeed': 3.05, 'windGust': 15.45, 'windGustTime': 1559955600, 'windBearing': 243, 'cloudCover': 0.35, 'uvIndex': 7, 'uvIndexTime': 1559991600, 'visibility': 6.3, 'ozone': 346.58, 'temperatureMin': 53.59, 'temperatureMinTime': 1559962800, 'temperatureMax': 75.72, 'temperatureMaxTime': 1560009600, 'apparentTemperatureMin': 53.59, 'apparentTemperatureMinTime': 1559962800, 'apparentTemperatureMax': 75.72, 'apparentTemperatureMaxTime': 1560009600}, {'time': 1560031200, 'summary': 'Rain until evening.', 'icon': 'rain', 'sunriseTime': 1560051934, 'sunsetTime': 1560108398, 'moonPhase': 0.22, 'precipIntensity': 0.0253, 'precipIntensityMax': 0.0772, 'precipIntensityMaxTime': 1560085200, 'precipProbability': 0.86, 'precipType': 'rain', 'temperatureHigh': 66.33, 'temperatureHighTime': 1560085200, 'temperatureLow': 55.87, 'temperatureLowTime': 1560132000, 'apparentTemperatureHigh': 66.33, 'apparentTemperatureHighTime': 1560085200, 'apparentTemperatureLow': 55.87, 'apparentTemperatureLowTime': 1560132000, 'dewPoint': 47.11, 'humidity': 0.66, 'pressure': 1020.74, 'windSpeed': 3.7, 'windGust': 11.63, 'windGustTime': 1560099600, 'windBearing': 40, 'cloudCover': 0.8, 'uvIndex': 5, 'uvIndexTime': 1560078000, 'visibility': 8.97, 'ozone': 325.96, 'temperatureMin': 51.17, 'temperatureMinTime': 1560042000, 'temperatureMax': 66.33, 'temperatureMaxTime': 1560085200, 'apparentTemperatureMin': 51.17, 'apparentTemperatureMinTime': 1560042000, 'apparentTemperatureMax': 66.33, 'apparentTemperatureMaxTime': 1560085200}, {'time': 1560117600, 'summary': 'Rain starting in the afternoon, continuing until evening.', 'icon': 'rain', 'sunriseTime': 1560138318, 'sunsetTime': 1560194837, 'moonPhase': 0.26, 'precipIntensity': 0.0191, 'precipIntensityMax': 0.0717, 'precipIntensityMaxTime': 1560178800, 'precipProbability': 0.95, 'precipType': 'rain', 'temperatureHigh': 63.64, 'temperatureHighTime': 1560160800, 'temperatureLow': 52.36, 'temperatureLowTime': 1560229200, 'apparentTemperatureHigh': 63.64, 'apparentTemperatureHighTime': 1560160800, 'apparentTemperatureLow': 52.36, 'apparentTemperatureLowTime': 1560229200, 'dewPoint': 54.07, 'humidity': 0.85, 'pressure': 1014.51, 'windSpeed': 1.37, 'windGust': 5.81, 'windGustTime': 1560168000, 'windBearing': 340, 'cloudCover': 0.87, 'uvIndex': 4, 'uvIndexTime': 1560157200, 'visibility': 4.31, 'ozone': 331.88, 'temperatureMin': 55.87, 'temperatureMinTime': 1560132000, 'temperatureMax': 63.64, 'temperatureMaxTime': 1560160800, 'apparentTemperatureMin': 55.87, 'apparentTemperatureMinTime': 1560132000, 'apparentTemperatureMax': 63.64, 'apparentTemperatureMaxTime': 1560160800}, {'time': 1560204000, 'summary': 'Light rain starting in the afternoon, continuing until evening.', 'icon': 'rain', 'sunriseTime': 1560224705, 'sunsetTime': 1560281273, 'moonPhase': 0.29, 'precipIntensity': 0.0149, 'precipIntensityMax': 0.0513, 'precipIntensityMaxTime': 1560265200, 'precipProbability': 0.97, 'precipType': 'rain', 'temperatureHigh': 57.98, 'temperatureHighTime': 1560243600, 'temperatureLow': 49.29, 'temperatureLowTime': 1560312000, 'apparentTemperatureHigh': 57.98, 'apparentTemperatureHighTime': 1560243600, 'apparentTemperatureLow': 49.29, 'apparentTemperatureLowTime': 1560312000, 'dewPoint': 48.39, 'humidity': 0.81, 'pressure': 1012.21, 'windSpeed': 2.24, 'windGust': 6.5, 'windGustTime': 1560254400, 'windBearing': 306, 'cloudCover': 0.83, 'uvIndex': 4, 'uvIndexTime': 1560243600, 'visibility': 6.36, 'ozone': 349.46, 'temperatureMin': 51.93, 'temperatureMinTime': 1560265200, 'temperatureMax': 57.98, 'temperatureMaxTime': 1560243600, 'apparentTemperatureMin': 51.93, 'apparentTemperatureMinTime': 1560265200, 'apparentTemperatureMax': 57.98, 'apparentTemperatureMaxTime': 1560243600}, {'time': 1560290400, 'summary': 'Light rain in the morning.', 'icon': 'rain', 'sunriseTime': 1560311094, 'sunsetTime': 1560367707, 'moonPhase': 0.33, 'precipIntensity': 0.0133, 'precipIntensityMax': 0.0523, 'precipIntensityMaxTime': 1560308400, 'precipProbability': 0.86, 'precipType': 'rain', 'temperatureHigh': 68.32, 'temperatureHighTime': 1560348000, 'temperatureLow': 50.4, 'temperatureLowTime': 1560394800, 'apparentTemperatureHigh': 68.32, 'apparentTemperatureHighTime': 1560348000, 'apparentTemperatureLow': 50.4, 'apparentTemperatureLowTime': 1560394800, 'dewPoint': 47.49, 'humidity': 0.71, 'pressure': 1013.57, 'windSpeed': 0.75, 'windGust': 5.63, 'windGustTime': 1560366000, 'windBearing': 78, 'cloudCover': 0.63, 'uvIndex': 6, 'uvIndexTime': 1560337200, 'visibility': 8.27, 'ozone': 347.34, 'temperatureMin': 49.29, 'temperatureMinTime': 1560312000, 'temperatureMax': 68.32, 'temperatureMaxTime': 1560348000, 'apparentTemperatureMin': 49.29, 'apparentTemperatureMinTime': 1560312000, 'apparentTemperatureMax': 68.32, 'apparentTemperatureMaxTime': 1560348000}, {'time': 1560376800, 'summary': 'Mostly cloudy starting in the evening.', 'icon': 'partly-cloudy-night', 'sunriseTime': 1560397485, 'sunsetTime': 1560454139, 'moonPhase': 0.37, 'precipIntensity': 0.0001, 'precipIntensityMax': 0.0008, 'precipIntensityMaxTime': 1560459600, 'precipProbability': 0.08, 'precipType': 'rain', 'temperatureHigh': 77.42, 'temperatureHighTime': 1560434400, 'temperatureLow': 57.2, 'temperatureLowTime': 1560481200, 'apparentTemperatureHigh': 77.42, 'apparentTemperatureHighTime': 1560434400, 'apparentTemperatureLow': 57.2, 'apparentTemperatureLowTime': 1560481200, 'dewPoint': 47.77, 'humidity': 0.59, 'pressure': 1014.17, 'windSpeed': 1.44, 'windGust': 8.57, 'windGustTime': 1560427200, 'windBearing': 176, 'cloudCover': 0.35, 'uvIndex': 8, 'uvIndexTime': 1560423600, 'visibility': 9.93, 'ozone': 336.37, 'temperatureMin': 50.4, 'temperatureMinTime': 1560394800, 'temperatureMax': 77.42, 'temperatureMaxTime': 1560434400, 'apparentTemperatureMin': 50.4, 'apparentTemperatureMinTime': 1560394800, 'apparentTemperatureMax': 77.42, 'apparentTemperatureMaxTime': 1560434400}, {'time': 1560463200, 'summary': 'Rain until evening, starting again overnight.', 'icon': 'rain', 'sunriseTime': 1560483879, 'sunsetTime': 1560540569, 'moonPhase': 0.4, 'precipIntensity': 0.0351, 'precipIntensityMax': 0.0664, 'precipIntensityMaxTime': 1560546000, 'precipProbability': 0.98, 'precipType': 'rain', 'temperatureHigh': 71.56, 'temperatureHighTime': 1560517200, 'temperatureLow': 58.51, 'temperatureLowTime': 1560567600, 'apparentTemperatureHigh': 71.56, 'apparentTemperatureHighTime': 1560517200, 'apparentTemperatureLow': 58.51, 'apparentTemperatureLowTime': 1560567600, 'dewPoint': 53.02, 'humidity': 0.71, 'pressure': 1013.38, 'windSpeed': 2.32, 'windGust': 12.96, 'windGustTime': 1560506400, 'windBearing': 65, 'cloudCover': 0.94, 'uvIndex': 5, 'uvIndexTime': 1560513600, 'visibility': 8.29, 'ozone': 315.16, 'temperatureMin': 57.2, 'temperatureMinTime': 1560481200, 'temperatureMax': 71.56, 'temperatureMaxTime': 1560517200, 'apparentTemperatureMin': 57.2, 'apparentTemperatureMinTime': 1560481200, 'apparentTemperatureMax': 71.56, 'apparentTemperatureMaxTime': 1560517200}, {'time': 1560549600, 'summary': 'Rain overnight.', 'icon': 'rain', 'sunriseTime': 1560570275, 'sunsetTime': 1560626997, 'moonPhase': 0.44, 'precipIntensity': 0.0248, 'precipIntensityMax': 0.0957, 'precipIntensityMaxTime': 1560632400, 'precipProbability': 0.97, 'precipType': 'rain', 'temperatureHigh': 74.22, 'temperatureHighTime': 1560607200, 'temperatureLow': 57.65, 'temperatureLowTime': 1560650400, 'apparentTemperatureHigh': 74.22, 'apparentTemperatureHighTime': 1560607200, 'apparentTemperatureLow': 57.65, 'apparentTemperatureLowTime': 1560650400, 'dewPoint': 56.42, 'humidity': 0.75, 'pressure': 1014.66, 'windSpeed': 1.66, 'windGust': 7.21, 'windGustTime': 1560621600, 'windBearing': 23, 'cloudCover': 0.72, 'uvIndex': 6, 'uvIndexTime': 1560592800, 'visibility': 6.8, 'ozone': 315.55, 'temperatureMin': 58.51, 'temperatureMinTime': 1560567600, 'temperatureMax': 74.22, 'temperatureMaxTime': 1560607200, 'apparentTemperatureMin': 58.51, 'apparentTemperatureMinTime': 1560567600, 'apparentTemperatureMax': 74.22, 'apparentTemperatureMaxTime': 1560607200}]}, 'flags': {'sources': ['meteoalarm', 'cmc', 'gfs', 'icon', 'isd', 'madis'], 'meteoalarm-license': 'Based on data from EUMETNET - MeteoAlarm [https://www.meteoalarm.eu/]. Time delays between this website and the MeteoAlarm website are possible; for the most up to date information about alert levels as published by the participating National Meteorological Services please use the MeteoAlarm website.', 'nearest-station': 2.839, 'units': 'us'}, 'offset': 2}\n"
     ]
    }
   ],
   "source": [
    "print (data)"
   ]
  },
  {
   "cell_type": "markdown",
   "metadata": {
    "collapsed": true
   },
   "source": [
    "## 1) Make a request from the Dark Sky API for where you were born (or lived, or want to visit!).\n",
    "\n",
    "- *Tip: The URL we used in class was for a place near San Francisco. What was the format of the endpoint that made this happen?*\n",
    "- *Tip: Save the URL as a separate variable, and be sure to not have `[` and `]` inside.*\n",
    "- *Tip: How is north vs. south and east vs. west latitude/longitude represented? Is it the normal North/South/East/West?*\n",
    "- *Tip: You know it's JSON, but Python doesn't! Make sure you aren't trying to deal with plain text.* \n",
    "- *Tip: Once you've imported the JSON into a variable, check the timezone's name to make sure it seems like it got the right part of the world!*"
   ]
  },
  {
   "cell_type": "code",
   "execution_count": 208,
   "metadata": {},
   "outputs": [],
   "source": [
    "x = (f\"https://api.darksky.net/forecast/{API_DARKSKY_KEY}/46.204391,6.143158?units=si\")"
   ]
  },
  {
   "cell_type": "code",
   "execution_count": 209,
   "metadata": {},
   "outputs": [],
   "source": [
    "import requests\n",
    "response = requests.get (x)\n",
    "data = response.json()"
   ]
  },
  {
   "cell_type": "code",
   "execution_count": 210,
   "metadata": {},
   "outputs": [
    {
     "name": "stdout",
     "output_type": "stream",
     "text": [
      "{'latitude': 46.204391, 'longitude': 6.143158, 'timezone': 'Europe/Zurich', 'currently': {'time': 1559925472, 'summary': 'Breezy and Partly Cloudy', 'icon': 'wind', 'precipIntensity': 0.0127, 'precipProbability': 0.02, 'precipType': 'rain', 'temperature': 23.52, 'apparentTemperature': 23.52, 'dewPoint': 5.62, 'humidity': 0.31, 'pressure': 1013.61, 'windSpeed': 10.64, 'windGust': 13.17, 'windBearing': 238, 'cloudCover': 0.48, 'uvIndex': 1, 'visibility': 11.62, 'ozone': 344.56}, 'hourly': {'summary': 'Breezy later this evening and mostly cloudy until tomorrow morning.', 'icon': 'wind', 'data': [{'time': 1559923200, 'summary': 'Windy and Partly Cloudy', 'icon': 'wind', 'precipIntensity': 0.0051, 'precipProbability': 0.01, 'precipType': 'rain', 'temperature': 24.99, 'apparentTemperature': 24.99, 'dewPoint': 5.63, 'humidity': 0.29, 'pressure': 1012.73, 'windSpeed': 11.6, 'windGust': 15.38, 'windBearing': 239, 'cloudCover': 0.47, 'uvIndex': 2, 'visibility': 9.88, 'ozone': 343.3}, {'time': 1559926800, 'summary': 'Breezy and Partly Cloudy', 'icon': 'wind', 'precipIntensity': 0.0152, 'precipProbability': 0.02, 'precipType': 'rain', 'temperature': 22.65, 'apparentTemperature': 22.65, 'dewPoint': 5.56, 'humidity': 0.33, 'pressure': 1014.13, 'windSpeed': 10.08, 'windGust': 11.88, 'windBearing': 237, 'cloudCover': 0.48, 'uvIndex': 1, 'visibility': 12.65, 'ozone': 345.3}, {'time': 1559930400, 'summary': 'Partly Cloudy', 'icon': 'partly-cloudy-day', 'precipIntensity': 0.0381, 'precipProbability': 0.02, 'precipType': 'rain', 'temperature': 19.2, 'apparentTemperature': 19.2, 'dewPoint': 5.83, 'humidity': 0.42, 'pressure': 1015.6, 'windSpeed': 5.92, 'windGust': 6.78, 'windBearing': 238, 'cloudCover': 0.41, 'uvIndex': 0, 'visibility': 16.09, 'ozone': 347.28}, {'time': 1559934000, 'summary': 'Partly Cloudy', 'icon': 'partly-cloudy-day', 'precipIntensity': 0.0762, 'precipProbability': 0.04, 'precipType': 'rain', 'temperature': 16.46, 'apparentTemperature': 16.46, 'dewPoint': 6.17, 'humidity': 0.51, 'pressure': 1017.14, 'windSpeed': 3.31, 'windGust': 4.47, 'windBearing': 237, 'cloudCover': 0.52, 'uvIndex': 0, 'visibility': 16.09, 'ozone': 349.13}, {'time': 1559937600, 'summary': 'Mostly Cloudy', 'icon': 'partly-cloudy-night', 'precipIntensity': 0.1372, 'precipProbability': 0.08, 'precipType': 'rain', 'temperature': 14.58, 'apparentTemperature': 14.58, 'dewPoint': 6.4, 'humidity': 0.58, 'pressure': 1018.73, 'windSpeed': 3.08, 'windGust': 4.9, 'windBearing': 228, 'cloudCover': 0.79, 'uvIndex': 0, 'visibility': 12.78, 'ozone': 350.91}, {'time': 1559941200, 'summary': 'Overcast', 'icon': 'cloudy', 'precipIntensity': 0.1829, 'precipProbability': 0.11, 'precipType': 'rain', 'temperature': 13.28, 'apparentTemperature': 13.28, 'dewPoint': 6.58, 'humidity': 0.64, 'pressure': 1020.08, 'windSpeed': 2.91, 'windGust': 5.42, 'windBearing': 220, 'cloudCover': 0.99, 'uvIndex': 0, 'visibility': 10.04, 'ozone': 352.58}, {'time': 1559944800, 'summary': 'Overcast', 'icon': 'cloudy', 'precipIntensity': 0.1956, 'precipProbability': 0.12, 'precipType': 'rain', 'temperature': 12.56, 'apparentTemperature': 12.56, 'dewPoint': 6.78, 'humidity': 0.68, 'pressure': 1021.08, 'windSpeed': 2.79, 'windGust': 5.97, 'windBearing': 212, 'cloudCover': 1, 'uvIndex': 0, 'visibility': 10.46, 'ozone': 354.2}, {'time': 1559948400, 'summary': 'Overcast', 'icon': 'cloudy', 'precipIntensity': 0.2057, 'precipProbability': 0.09, 'precipType': 'rain', 'temperature': 12.15, 'apparentTemperature': 12.15, 'dewPoint': 6.96, 'humidity': 0.71, 'pressure': 1021.85, 'windSpeed': 2.7, 'windGust': 6.59, 'windBearing': 204, 'cloudCover': 1, 'uvIndex': 0, 'visibility': 12.47, 'ozone': 355.79}, {'time': 1559952000, 'summary': 'Overcast', 'icon': 'cloudy', 'precipIntensity': 0.1981, 'precipProbability': 0.08, 'precipType': 'rain', 'temperature': 11.76, 'apparentTemperature': 11.76, 'dewPoint': 6.98, 'humidity': 0.73, 'pressure': 1022.46, 'windSpeed': 2.54, 'windGust': 6.64, 'windBearing': 199, 'cloudCover': 0.99, 'uvIndex': 0, 'visibility': 14.48, 'ozone': 356.83}, {'time': 1559955600, 'summary': 'Mostly Cloudy', 'icon': 'partly-cloudy-night', 'precipIntensity': 0.1143, 'precipProbability': 0.06, 'precipType': 'rain', 'temperature': 11.13, 'apparentTemperature': 11.13, 'dewPoint': 6.63, 'humidity': 0.74, 'pressure': 1022.93, 'windSpeed': 2.29, 'windGust': 5.57, 'windBearing': 197, 'cloudCover': 0.9, 'uvIndex': 0, 'visibility': 16.09, 'ozone': 357.32}, {'time': 1559959200, 'summary': 'Mostly Cloudy', 'icon': 'partly-cloudy-night', 'precipIntensity': 0.033, 'precipProbability': 0.03, 'precipType': 'rain', 'temperature': 10.51, 'apparentTemperature': 10.51, 'dewPoint': 6.07, 'humidity': 0.74, 'pressure': 1023.25, 'windSpeed': 2, 'windGust': 3.92, 'windBearing': 196, 'cloudCover': 0.77, 'uvIndex': 0, 'visibility': 16.09, 'ozone': 357.29}, {'time': 1559962800, 'summary': 'Mostly Cloudy', 'icon': 'partly-cloudy-night', 'precipIntensity': 0, 'precipProbability': 0, 'temperature': 10.31, 'apparentTemperature': 10.31, 'dewPoint': 5.73, 'humidity': 0.73, 'pressure': 1023.56, 'windSpeed': 1.75, 'windGust': 2.7, 'windBearing': 200, 'cloudCover': 0.65, 'uvIndex': 0, 'visibility': 16.09, 'ozone': 356.82}, {'time': 1559966400, 'summary': 'Partly Cloudy', 'icon': 'partly-cloudy-day', 'precipIntensity': 0, 'precipProbability': 0, 'temperature': 10.61, 'apparentTemperature': 10.61, 'dewPoint': 5.92, 'humidity': 0.73, 'pressure': 1024, 'windSpeed': 1.57, 'windGust': 2.4, 'windBearing': 211, 'cloudCover': 0.54, 'uvIndex': 0, 'visibility': 16.09, 'ozone': 355.64}, {'time': 1559970000, 'summary': 'Partly Cloudy', 'icon': 'partly-cloudy-day', 'precipIntensity': 0, 'precipProbability': 0, 'temperature': 11.27, 'apparentTemperature': 11.27, 'dewPoint': 6.3, 'humidity': 0.71, 'pressure': 1024.41, 'windSpeed': 1.46, 'windGust': 2.53, 'windBearing': 225, 'cloudCover': 0.43, 'uvIndex': 0, 'visibility': 16.09, 'ozone': 354}, {'time': 1559973600, 'summary': 'Partly Cloudy', 'icon': 'partly-cloudy-day', 'precipIntensity': 0, 'precipProbability': 0, 'temperature': 12.41, 'apparentTemperature': 12.41, 'dewPoint': 6.27, 'humidity': 0.66, 'pressure': 1024.68, 'windSpeed': 1.41, 'windGust': 2.67, 'windBearing': 237, 'cloudCover': 0.32, 'uvIndex': 1, 'visibility': 16.09, 'ozone': 352.65}, {'time': 1559977200, 'summary': 'Clear', 'icon': 'clear-day', 'precipIntensity': 0, 'precipProbability': 0, 'temperature': 14.11, 'apparentTemperature': 14.11, 'dewPoint': 5.4, 'humidity': 0.56, 'pressure': 1024.69, 'windSpeed': 1.46, 'windGust': 2.63, 'windBearing': 250, 'cloudCover': 0.2, 'uvIndex': 2, 'visibility': 16.09, 'ozone': 352.04}, {'time': 1559980800, 'summary': 'Clear', 'icon': 'clear-day', 'precipIntensity': 0, 'precipProbability': 0, 'temperature': 16.02, 'apparentTemperature': 16.02, 'dewPoint': 4.14, 'humidity': 0.45, 'pressure': 1024.56, 'windSpeed': 1.56, 'windGust': 2.59, 'windBearing': 258, 'cloudCover': 0.07, 'uvIndex': 4, 'visibility': 16.09, 'ozone': 351.78}, {'time': 1559984400, 'summary': 'Clear', 'icon': 'clear-day', 'precipIntensity': 0, 'precipProbability': 0, 'temperature': 17.73, 'apparentTemperature': 17.73, 'dewPoint': 3.14, 'humidity': 0.38, 'pressure': 1024.32, 'windSpeed': 1.62, 'windGust': 2.64, 'windBearing': 257, 'cloudCover': 0, 'uvIndex': 5, 'visibility': 16.09, 'ozone': 351.02}, {'time': 1559988000, 'summary': 'Clear', 'icon': 'clear-day', 'precipIntensity': 0, 'precipProbability': 0, 'temperature': 19.26, 'apparentTemperature': 19.26, 'dewPoint': 2.66, 'humidity': 0.33, 'pressure': 1024.01, 'windSpeed': 1.69, 'windGust': 2.86, 'windBearing': 216, 'cloudCover': 0.01, 'uvIndex': 7, 'visibility': 16.09, 'ozone': 349.3}, {'time': 1559991600, 'summary': 'Clear', 'icon': 'clear-day', 'precipIntensity': 0, 'precipProbability': 0, 'temperature': 20.68, 'apparentTemperature': 20.68, 'dewPoint': 2.39, 'humidity': 0.3, 'pressure': 1023.61, 'windSpeed': 1.77, 'windGust': 3.17, 'windBearing': 319, 'cloudCover': 0.04, 'uvIndex': 8, 'visibility': 16.09, 'ozone': 347.1}, {'time': 1559995200, 'summary': 'Clear', 'icon': 'clear-day', 'precipIntensity': 0, 'precipProbability': 0, 'temperature': 21.99, 'apparentTemperature': 21.99, 'dewPoint': 2.23, 'humidity': 0.27, 'pressure': 1023.22, 'windSpeed': 1.81, 'windGust': 3.3, 'windBearing': 268, 'cloudCover': 0.12, 'uvIndex': 8, 'visibility': 16.09, 'ozone': 345.41}, {'time': 1559998800, 'summary': 'Partly Cloudy', 'icon': 'partly-cloudy-day', 'precipIntensity': 0, 'precipProbability': 0, 'temperature': 23.22, 'apparentTemperature': 23.22, 'dewPoint': 2.01, 'humidity': 0.25, 'pressure': 1022.83, 'windSpeed': 1.74, 'windGust': 3.11, 'windBearing': 200, 'cloudCover': 0.25, 'uvIndex': 6, 'visibility': 16.09, 'ozone': 344.62}, {'time': 1560002400, 'summary': 'Partly Cloudy', 'icon': 'partly-cloudy-day', 'precipIntensity': 0, 'precipProbability': 0, 'temperature': 24.06, 'apparentTemperature': 24.06, 'dewPoint': 1.87, 'humidity': 0.23, 'pressure': 1022.45, 'windSpeed': 1.63, 'windGust': 2.75, 'windBearing': 340, 'cloudCover': 0.4, 'uvIndex': 5, 'visibility': 16.09, 'ozone': 344.3}, {'time': 1560006000, 'summary': 'Partly Cloudy', 'icon': 'partly-cloudy-day', 'precipIntensity': 0, 'precipProbability': 0, 'temperature': 24.03, 'apparentTemperature': 24.03, 'dewPoint': 2.04, 'humidity': 0.24, 'pressure': 1022.2, 'windSpeed': 1.54, 'windGust': 2.42, 'windBearing': 299, 'cloudCover': 0.5, 'uvIndex': 3, 'visibility': 16.09, 'ozone': 344.07}, {'time': 1560009600, 'summary': 'Partly Cloudy', 'icon': 'partly-cloudy-day', 'precipIntensity': 0, 'precipProbability': 0, 'temperature': 23.38, 'apparentTemperature': 23.38, 'dewPoint': 2.77, 'humidity': 0.26, 'pressure': 1022.06, 'windSpeed': 1.49, 'windGust': 2.16, 'windBearing': 304, 'cloudCover': 0.48, 'uvIndex': 2, 'visibility': 16.09, 'ozone': 343.97}, {'time': 1560013200, 'summary': 'Partly Cloudy', 'icon': 'partly-cloudy-day', 'precipIntensity': 0, 'precipProbability': 0, 'temperature': 22.09, 'apparentTemperature': 22.09, 'dewPoint': 3.79, 'humidity': 0.3, 'pressure': 1022.07, 'windSpeed': 1.47, 'windGust': 1.94, 'windBearing': 333, 'cloudCover': 0.39, 'uvIndex': 1, 'visibility': 16.09, 'ozone': 343.95}, {'time': 1560016800, 'summary': 'Partly Cloudy', 'icon': 'partly-cloudy-day', 'precipIntensity': 0, 'precipProbability': 0, 'temperature': 20.44, 'apparentTemperature': 20.44, 'dewPoint': 4.49, 'humidity': 0.35, 'pressure': 1022.24, 'windSpeed': 1.49, 'windGust': 1.89, 'windBearing': 359, 'cloudCover': 0.32, 'uvIndex': 0, 'visibility': 16.09, 'ozone': 343.54}, {'time': 1560020400, 'summary': 'Partly Cloudy', 'icon': 'partly-cloudy-day', 'precipIntensity': 0, 'precipProbability': 0, 'temperature': 18.26, 'apparentTemperature': 18.26, 'dewPoint': 4.56, 'humidity': 0.4, 'pressure': 1022.77, 'windSpeed': 1.62, 'windGust': 2.19, 'windBearing': 10, 'cloudCover': 0.27, 'uvIndex': 0, 'visibility': 16.09, 'ozone': 342.6}, {'time': 1560024000, 'summary': 'Clear', 'icon': 'clear-night', 'precipIntensity': 0, 'precipProbability': 0, 'temperature': 15.64, 'apparentTemperature': 15.64, 'dewPoint': 4.28, 'humidity': 0.47, 'pressure': 1023.5, 'windSpeed': 1.8, 'windGust': 2.69, 'windBearing': 19, 'cloudCover': 0.24, 'uvIndex': 0, 'visibility': 16.09, 'ozone': 341.39}, {'time': 1560027600, 'summary': 'Clear', 'icon': 'clear-night', 'precipIntensity': 0, 'precipProbability': 0, 'temperature': 13.36, 'apparentTemperature': 13.36, 'dewPoint': 4.11, 'humidity': 0.53, 'pressure': 1024, 'windSpeed': 1.89, 'windGust': 3.02, 'windBearing': 28, 'cloudCover': 0.22, 'uvIndex': 0, 'visibility': 16.09, 'ozone': 339.77}, {'time': 1560031200, 'summary': 'Clear', 'icon': 'clear-night', 'precipIntensity': 0, 'precipProbability': 0, 'temperature': 11.96, 'apparentTemperature': 11.96, 'dewPoint': 4.32, 'humidity': 0.6, 'pressure': 1024.08, 'windSpeed': 1.82, 'windGust': 3.02, 'windBearing': 35, 'cloudCover': 0.23, 'uvIndex': 0, 'visibility': 16.09, 'ozone': 337.69}, {'time': 1560034800, 'summary': 'Partly Cloudy', 'icon': 'partly-cloudy-night', 'precipIntensity': 0, 'precipProbability': 0, 'temperature': 11.06, 'apparentTemperature': 11.06, 'dewPoint': 4.68, 'humidity': 0.65, 'pressure': 1023.92, 'windSpeed': 1.69, 'windGust': 2.85, 'windBearing': 41, 'cloudCover': 0.26, 'uvIndex': 0, 'visibility': 16.09, 'ozone': 335.38}, {'time': 1560038400, 'summary': 'Partly Cloudy', 'icon': 'partly-cloudy-night', 'precipIntensity': 0, 'precipProbability': 0, 'temperature': 10.59, 'apparentTemperature': 10.59, 'dewPoint': 4.96, 'humidity': 0.68, 'pressure': 1023.68, 'windSpeed': 1.56, 'windGust': 2.67, 'windBearing': 46, 'cloudCover': 0.29, 'uvIndex': 0, 'visibility': 16.09, 'ozone': 333.21}, {'time': 1560042000, 'summary': 'Partly Cloudy', 'icon': 'partly-cloudy-night', 'precipIntensity': 0, 'precipProbability': 0, 'temperature': 10.18, 'apparentTemperature': 10.18, 'dewPoint': 4.99, 'humidity': 0.7, 'pressure': 1023.32, 'windSpeed': 1.52, 'windGust': 2.51, 'windBearing': 49, 'cloudCover': 0.35, 'uvIndex': 0, 'visibility': 16.09, 'ozone': 331.62}, {'time': 1560045600, 'summary': 'Partly Cloudy', 'icon': 'partly-cloudy-night', 'precipIntensity': 0, 'precipProbability': 0, 'temperature': 9.92, 'apparentTemperature': 9.56, 'dewPoint': 4.93, 'humidity': 0.71, 'pressure': 1022.87, 'windSpeed': 1.5, 'windGust': 2.34, 'windBearing': 50, 'cloudCover': 0.43, 'uvIndex': 0, 'visibility': 16.09, 'ozone': 330.24}, {'time': 1560049200, 'summary': 'Partly Cloudy', 'icon': 'partly-cloudy-night', 'precipIntensity': 0, 'precipProbability': 0, 'temperature': 9.91, 'apparentTemperature': 9.56, 'dewPoint': 4.99, 'humidity': 0.71, 'pressure': 1022.46, 'windSpeed': 1.49, 'windGust': 2.33, 'windBearing': 53, 'cloudCover': 0.49, 'uvIndex': 0, 'visibility': 16.09, 'ozone': 328.86}, {'time': 1560052800, 'summary': 'Partly Cloudy', 'icon': 'partly-cloudy-day', 'precipIntensity': 0.0076, 'precipProbability': 0.01, 'precipType': 'rain', 'temperature': 10.46, 'apparentTemperature': 10.46, 'dewPoint': 5.24, 'humidity': 0.7, 'pressure': 1022.14, 'windSpeed': 1.51, 'windGust': 2.65, 'windBearing': 60, 'cloudCover': 0.5, 'uvIndex': 0, 'visibility': 16.09, 'ozone': 327.56}, {'time': 1560056400, 'summary': 'Partly Cloudy', 'icon': 'partly-cloudy-day', 'precipIntensity': 0.0203, 'precipProbability': 0.01, 'precipType': 'rain', 'temperature': 11.71, 'apparentTemperature': 11.71, 'dewPoint': 5.61, 'humidity': 0.66, 'pressure': 1021.88, 'windSpeed': 1.54, 'windGust': 3.13, 'windBearing': 68, 'cloudCover': 0.5, 'uvIndex': 0, 'visibility': 16.09, 'ozone': 326.08}, {'time': 1560060000, 'summary': 'Partly Cloudy', 'icon': 'partly-cloudy-day', 'precipIntensity': 0.033, 'precipProbability': 0.01, 'precipType': 'rain', 'temperature': 13.53, 'apparentTemperature': 13.53, 'dewPoint': 6.03, 'humidity': 0.61, 'pressure': 1021.56, 'windSpeed': 1.58, 'windGust': 3.4, 'windBearing': 72, 'cloudCover': 0.52, 'uvIndex': 1, 'visibility': 16.09, 'ozone': 324.66}, {'time': 1560063600, 'summary': 'Partly Cloudy', 'icon': 'partly-cloudy-day', 'precipIntensity': 0.0406, 'precipProbability': 0.02, 'precipType': 'rain', 'temperature': 15.67, 'apparentTemperature': 15.67, 'dewPoint': 6.53, 'humidity': 0.55, 'pressure': 1021.1, 'windSpeed': 1.62, 'windGust': 3.25, 'windBearing': 66, 'cloudCover': 0.58, 'uvIndex': 2, 'visibility': 16.09, 'ozone': 323.15}, {'time': 1560067200, 'summary': 'Mostly Cloudy', 'icon': 'partly-cloudy-day', 'precipIntensity': 0.0432, 'precipProbability': 0.02, 'precipType': 'rain', 'temperature': 18.27, 'apparentTemperature': 18.27, 'dewPoint': 7.09, 'humidity': 0.48, 'pressure': 1020.59, 'windSpeed': 1.66, 'windGust': 2.9, 'windBearing': 57, 'cloudCover': 0.65, 'uvIndex': 3, 'visibility': 16.09, 'ozone': 321.5}, {'time': 1560070800, 'summary': 'Mostly Cloudy', 'icon': 'partly-cloudy-day', 'precipIntensity': 0.0432, 'precipProbability': 0.02, 'precipType': 'rain', 'temperature': 20.48, 'apparentTemperature': 20.48, 'dewPoint': 7.72, 'humidity': 0.44, 'pressure': 1020.19, 'windSpeed': 1.7, 'windGust': 2.64, 'windBearing': 50, 'cloudCover': 0.72, 'uvIndex': 4, 'visibility': 16.09, 'ozone': 320.35}, {'time': 1560074400, 'summary': 'Mostly Cloudy', 'icon': 'partly-cloudy-day', 'precipIntensity': 0.0381, 'precipProbability': 0.03, 'precipType': 'rain', 'temperature': 21.92, 'apparentTemperature': 21.92, 'dewPoint': 8.49, 'humidity': 0.42, 'pressure': 1019.98, 'windSpeed': 1.77, 'windGust': 2.66, 'windBearing': 47, 'cloudCover': 0.77, 'uvIndex': 5, 'visibility': 16.09, 'ozone': 319.58}, {'time': 1560078000, 'summary': 'Mostly Cloudy', 'icon': 'partly-cloudy-day', 'precipIntensity': 0.0305, 'precipProbability': 0.03, 'precipType': 'rain', 'temperature': 22.8, 'apparentTemperature': 22.8, 'dewPoint': 9.35, 'humidity': 0.42, 'pressure': 1019.86, 'windSpeed': 1.8, 'windGust': 2.78, 'windBearing': 42, 'cloudCover': 0.81, 'uvIndex': 5, 'visibility': 16.09, 'ozone': 319.23}, {'time': 1560081600, 'summary': 'Mostly Cloudy', 'icon': 'partly-cloudy-day', 'precipIntensity': 0.0279, 'precipProbability': 0.04, 'precipType': 'rain', 'temperature': 23.11, 'apparentTemperature': 23.11, 'dewPoint': 10.02, 'humidity': 0.44, 'pressure': 1019.73, 'windSpeed': 1.14, 'windGust': 2.79, 'windBearing': 29, 'cloudCover': 0.86, 'uvIndex': 5, 'visibility': 16.09, 'ozone': 319.21}, {'time': 1560085200, 'summary': 'Mostly Cloudy', 'icon': 'partly-cloudy-day', 'precipIntensity': 0.0406, 'precipProbability': 0.06, 'precipType': 'rain', 'temperature': 23.17, 'apparentTemperature': 23.17, 'dewPoint': 10.27, 'humidity': 0.44, 'pressure': 1019.51, 'windSpeed': 0.87, 'windGust': 2.57, 'windBearing': 336, 'cloudCover': 0.91, 'uvIndex': 4, 'visibility': 16.09, 'ozone': 319.71}, {'time': 1560088800, 'summary': 'Overcast', 'icon': 'cloudy', 'precipIntensity': 0.066, 'precipProbability': 0.08, 'precipType': 'rain', 'temperature': 22.73, 'apparentTemperature': 22.73, 'dewPoint': 10.31, 'humidity': 0.45, 'pressure': 1019.3, 'windSpeed': 1.75, 'windGust': 2.25, 'windBearing': 273, 'cloudCover': 0.96, 'uvIndex': 4, 'visibility': 16.09, 'ozone': 320.56}, {'time': 1560092400, 'summary': 'Overcast', 'icon': 'cloudy', 'precipIntensity': 0.0965, 'precipProbability': 0.1, 'precipType': 'rain', 'temperature': 21.91, 'apparentTemperature': 21.91, 'dewPoint': 10.46, 'humidity': 0.48, 'pressure': 1019.08, 'windSpeed': 1.53, 'windGust': 2.03, 'windBearing': 288, 'cloudCover': 0.99, 'uvIndex': 3, 'visibility': 16.09, 'ozone': 321.08}, {'time': 1560096000, 'summary': 'Overcast', 'icon': 'cloudy', 'precipIntensity': 0.1372, 'precipProbability': 0.14, 'precipType': 'rain', 'temperature': 20.88, 'apparentTemperature': 20.88, 'dewPoint': 10.91, 'humidity': 0.53, 'pressure': 1018.85, 'windSpeed': 1.09, 'windGust': 1.99, 'windBearing': 49, 'cloudCover': 1, 'uvIndex': 2, 'visibility': 16.09, 'ozone': 321.16}]}, 'daily': {'summary': 'Light rain on Sunday through Wednesday, with high temperatures falling to 14°C on Tuesday.', 'icon': 'rain', 'data': [{'time': 1559858400, 'summary': 'Mostly cloudy throughout the day and breezy starting in the afternoon, continuing until evening.', 'icon': 'wind', 'sunriseTime': 1559879172, 'sunsetTime': 1559935516, 'moonPhase': 0.14, 'precipIntensity': 0.0203, 'precipIntensityMax': 0.1829, 'precipIntensityMaxTime': 1559941200, 'precipProbability': 0.11, 'precipType': 'rain', 'temperatureHigh': 27.53, 'temperatureHighTime': 1559916000, 'temperatureLow': 10.31, 'temperatureLowTime': 1559962800, 'apparentTemperatureHigh': 27.53, 'apparentTemperatureHighTime': 1559916000, 'apparentTemperatureLow': 10.31, 'apparentTemperatureLowTime': 1559962800, 'dewPoint': 8.19, 'humidity': 0.62, 'pressure': 1012.77, 'windSpeed': 1.48, 'windGust': 17.2, 'windGustTime': 1559919600, 'windBearing': 230, 'cloudCover': 0.48, 'uvIndex': 7, 'uvIndexTime': 1559901600, 'visibility': 10.38, 'ozone': 345.43, 'temperatureMin': 9.97, 'temperatureMinTime': 1559872800, 'temperatureMax': 27.53, 'temperatureMaxTime': 1559916000, 'apparentTemperatureMin': 9.97, 'apparentTemperatureMinTime': 1559872800, 'apparentTemperatureMax': 27.53, 'apparentTemperatureMaxTime': 1559916000}, {'time': 1559944800, 'summary': 'Partly cloudy starting in the afternoon, continuing until evening.', 'icon': 'partly-cloudy-day', 'sunriseTime': 1559965552, 'sunsetTime': 1560021958, 'moonPhase': 0.18, 'precipIntensity': 0.033, 'precipIntensityMax': 0.2057, 'precipIntensityMaxTime': 1559948400, 'precipProbability': 0.18, 'precipType': 'rain', 'temperatureHigh': 24.06, 'temperatureHighTime': 1560002400, 'temperatureLow': 9.91, 'temperatureLowTime': 1560049200, 'apparentTemperatureHigh': 24.06, 'apparentTemperatureHighTime': 1560002400, 'apparentTemperatureLow': 9.56, 'apparentTemperatureLowTime': 1560049200, 'dewPoint': 4.48, 'humidity': 0.49, 'pressure': 1023.2, 'windSpeed': 0.88, 'windGust': 6.64, 'windGustTime': 1559952000, 'windBearing': 247, 'cloudCover': 0.42, 'uvIndex': 8, 'uvIndexTime': 1559991600, 'visibility': 15.64, 'ozone': 349.39, 'temperatureMin': 10.31, 'temperatureMinTime': 1559962800, 'temperatureMax': 24.06, 'temperatureMaxTime': 1560002400, 'apparentTemperatureMin': 10.31, 'apparentTemperatureMinTime': 1559962800, 'apparentTemperatureMax': 24.06, 'apparentTemperatureMaxTime': 1560002400}, {'time': 1560031200, 'summary': 'Mostly cloudy throughout the day.', 'icon': 'partly-cloudy-day', 'sunriseTime': 1560051934, 'sunsetTime': 1560108398, 'moonPhase': 0.22, 'precipIntensity': 0.1067, 'precipIntensityMax': 0.5486, 'precipIntensityMaxTime': 1560114000, 'precipProbability': 0.6, 'precipType': 'rain', 'temperatureHigh': 23.17, 'temperatureHighTime': 1560085200, 'temperatureLow': 14.05, 'temperatureLowTime': 1560139200, 'apparentTemperatureHigh': 23.17, 'apparentTemperatureHighTime': 1560085200, 'apparentTemperatureLow': 14.05, 'apparentTemperatureLowTime': 1560139200, 'dewPoint': 8.19, 'humidity': 0.59, 'pressure': 1020.73, 'windSpeed': 1.15, 'windGust': 3.4, 'windGustTime': 1560060000, 'windBearing': 47, 'cloudCover': 0.69, 'uvIndex': 5, 'uvIndexTime': 1560074400, 'visibility': 15.19, 'ozone': 324.71, 'temperatureMin': 9.91, 'temperatureMinTime': 1560049200, 'temperatureMax': 23.17, 'temperatureMaxTime': 1560085200, 'apparentTemperatureMin': 9.56, 'apparentTemperatureMinTime': 1560049200, 'apparentTemperatureMax': 23.17, 'apparentTemperatureMaxTime': 1560085200}, {'time': 1560117600, 'summary': 'Rain starting in the afternoon.', 'icon': 'rain', 'sunriseTime': 1560138318, 'sunsetTime': 1560194837, 'moonPhase': 0.26, 'precipIntensity': 0.7874, 'precipIntensityMax': 1.8491, 'precipIntensityMaxTime': 1560171600, 'precipProbability': 0.92, 'precipType': 'rain', 'temperatureHigh': 18.13, 'temperatureHighTime': 1560157200, 'temperatureLow': 12.24, 'temperatureLowTime': 1560225600, 'apparentTemperatureHigh': 18.13, 'apparentTemperatureHighTime': 1560157200, 'apparentTemperatureLow': 12.24, 'apparentTemperatureLowTime': 1560225600, 'dewPoint': 12.17, 'humidity': 0.8, 'pressure': 1016.08, 'windSpeed': 0.53, 'windGust': 2.77, 'windGustTime': 1560171600, 'windBearing': 308, 'cloudCover': 0.73, 'uvIndex': 5, 'uvIndexTime': 1560160800, 'visibility': 8.4, 'ozone': 340.36, 'temperatureMin': 14.05, 'temperatureMinTime': 1560139200, 'temperatureMax': 18.13, 'temperatureMaxTime': 1560157200, 'apparentTemperatureMin': 14.05, 'apparentTemperatureMinTime': 1560139200, 'apparentTemperatureMax': 18.13, 'apparentTemperatureMaxTime': 1560157200}, {'time': 1560204000, 'summary': 'Mostly cloudy throughout the day.', 'icon': 'partly-cloudy-day', 'sunriseTime': 1560224705, 'sunsetTime': 1560281273, 'moonPhase': 0.29, 'precipIntensity': 0.2921, 'precipIntensityMax': 0.9093, 'precipIntensityMaxTime': 1560214800, 'precipProbability': 0.76, 'precipType': 'rain', 'temperatureHigh': 13.98, 'temperatureHighTime': 1560243600, 'temperatureLow': 8.33, 'temperatureLowTime': 1560308400, 'apparentTemperatureHigh': 13.98, 'apparentTemperatureHighTime': 1560243600, 'apparentTemperatureLow': 8.33, 'apparentTemperatureLowTime': 1560308400, 'dewPoint': 8.96, 'humidity': 0.78, 'pressure': 1013.18, 'windSpeed': 1.05, 'windGust': 4.45, 'windGustTime': 1560218400, 'windBearing': 312, 'cloudCover': 0.82, 'uvIndex': 4, 'uvIndexTime': 1560247200, 'visibility': 10.01, 'ozone': 357.18, 'temperatureMin': 10.85, 'temperatureMinTime': 1560286800, 'temperatureMax': 13.98, 'temperatureMaxTime': 1560243600, 'apparentTemperatureMin': 10.85, 'apparentTemperatureMinTime': 1560286800, 'apparentTemperatureMax': 13.98, 'apparentTemperatureMaxTime': 1560243600}, {'time': 1560290400, 'summary': 'Rain in the morning.', 'icon': 'rain', 'sunriseTime': 1560311094, 'sunsetTime': 1560367707, 'moonPhase': 0.33, 'precipIntensity': 0.3378, 'precipIntensityMax': 1.7297, 'precipIntensityMaxTime': 1560312000, 'precipProbability': 0.68, 'precipType': 'rain', 'temperatureHigh': 18.94, 'temperatureHighTime': 1560351600, 'temperatureLow': 8.22, 'temperatureLowTime': 1560394800, 'apparentTemperatureHigh': 18.94, 'apparentTemperatureHighTime': 1560351600, 'apparentTemperatureLow': 8.22, 'apparentTemperatureLowTime': 1560394800, 'dewPoint': 6.72, 'humidity': 0.67, 'pressure': 1013.7, 'windSpeed': 0.58, 'windGust': 4.42, 'windGustTime': 1560351600, 'windBearing': 225, 'cloudCover': 0.42, 'uvIndex': 5, 'uvIndexTime': 1560333600, 'visibility': 15.11, 'ozone': 367.71, 'temperatureMin': 8.33, 'temperatureMinTime': 1560308400, 'temperatureMax': 18.94, 'temperatureMaxTime': 1560351600, 'apparentTemperatureMin': 8.33, 'apparentTemperatureMinTime': 1560308400, 'apparentTemperatureMax': 18.94, 'apparentTemperatureMaxTime': 1560351600}, {'time': 1560376800, 'summary': 'Clear throughout the day.', 'icon': 'clear-day', 'sunriseTime': 1560397485, 'sunsetTime': 1560454139, 'moonPhase': 0.37, 'precipIntensity': 0.0102, 'precipIntensityMax': 0.0686, 'precipIntensityMaxTime': 1560416400, 'precipProbability': 0.07, 'precipType': 'rain', 'temperatureHigh': 23.24, 'temperatureHighTime': 1560438000, 'temperatureLow': 10.2, 'temperatureLowTime': 1560481200, 'apparentTemperatureHigh': 23.24, 'apparentTemperatureHighTime': 1560438000, 'apparentTemperatureLow': 10.2, 'apparentTemperatureLowTime': 1560481200, 'dewPoint': 7.34, 'humidity': 0.6, 'pressure': 1016.84, 'windSpeed': 0.98, 'windGust': 3.59, 'windGustTime': 1560448800, 'windBearing': 57, 'cloudCover': 0.04, 'uvIndex': 8, 'uvIndexTime': 1560423600, 'visibility': 16.08, 'ozone': 350.61, 'temperatureMin': 8.22, 'temperatureMinTime': 1560394800, 'temperatureMax': 23.24, 'temperatureMaxTime': 1560438000, 'apparentTemperatureMin': 8.22, 'apparentTemperatureMinTime': 1560394800, 'apparentTemperatureMax': 23.24, 'apparentTemperatureMaxTime': 1560438000}, {'time': 1560463200, 'summary': 'Mostly cloudy throughout the day.', 'icon': 'partly-cloudy-day', 'sunriseTime': 1560483879, 'sunsetTime': 1560540569, 'moonPhase': 0.4, 'precipIntensity': 0.0737, 'precipIntensityMax': 0.2997, 'precipIntensityMaxTime': 1560535200, 'precipProbability': 0.56, 'precipType': 'rain', 'temperatureHigh': 22.69, 'temperatureHighTime': 1560524400, 'temperatureLow': 13.64, 'temperatureLowTime': 1560567600, 'apparentTemperatureHigh': 22.69, 'apparentTemperatureHighTime': 1560524400, 'apparentTemperatureLow': 13.64, 'apparentTemperatureLowTime': 1560567600, 'dewPoint': 9.88, 'humidity': 0.64, 'pressure': 1016.92, 'windSpeed': 0.97, 'windGust': 3.77, 'windGustTime': 1560524400, 'windBearing': 33, 'cloudCover': 0.76, 'uvIndex': 4, 'uvIndexTime': 1560502800, 'visibility': 14.97, 'ozone': 321.19, 'temperatureMin': 10.2, 'temperatureMinTime': 1560481200, 'temperatureMax': 22.69, 'temperatureMaxTime': 1560524400, 'apparentTemperatureMin': 10.2, 'apparentTemperatureMinTime': 1560481200, 'apparentTemperatureMax': 22.69, 'apparentTemperatureMaxTime': 1560524400}]}, 'alerts': [{'title': 'Moderate Wind Warning', 'regions': ['Ain', 'Aisne', 'Allier', 'Ardennes', 'Aube', 'Calvados', 'Charente', 'Cher', 'Corrèze', 'Creuse', \"Côte d'Or\", \"Côtes d'Armor\", 'Doubs', 'Drôme', 'Essonne', 'Eure', 'Eure et Loir', 'Finistère', 'Gironde', 'Haute Marne', 'Haute Savoie', 'Haute Saône', 'Haute Vienne', 'Ille et Vilaine', 'Isère', 'Jura', 'Loire', 'Loiret', 'Manche', 'Marne', 'Mayenne', 'Meurthe et Moselle', 'Meuse', 'Morbihan', 'Moselle', 'Nièvre', 'Nord', 'Oise', 'Orne', 'Paris et Petite Ceinture', 'Pas de Calais', 'Puy de Dôme', 'Rhône', 'Savoie', 'Saône et Loire', 'Seine Maritime', 'Seine et Marne', 'Somme', 'Territoire de Belfort', \"Val d'Oise\", 'Vosges', 'Yonne', 'Yvelines'], 'severity': 'warning', 'time': 1559916000, 'expires': 1560002400, 'description': 'Although rather usual in this region, locally or potentially dangerous phenomena are expected. (such as local winds, summer thunderstorms, rising streams or high waves)\\n', 'uri': 'http://vigilance.meteofrance.com/'}], 'flags': {'sources': ['meteoalarm', 'cmc', 'gfs', 'icon', 'isd', 'madis'], 'meteoalarm-license': 'Based on data from EUMETNET - MeteoAlarm [https://www.meteoalarm.eu/]. Time delays between this website and the MeteoAlarm website are possible; for the most up to date information about alert levels as published by the participating National Meteorological Services please use the MeteoAlarm website.', 'nearest-station': 4.569, 'units': 'si'}, 'offset': 2}\n"
     ]
    }
   ],
   "source": [
    "print (data)"
   ]
  },
  {
   "cell_type": "markdown",
   "metadata": {},
   "source": [
    "## 2) What's the current wind speed? How much warmer does it feel than it actually is?\n",
    "\n",
    "- *Tip: You can do this by browsing through the dictionaries, but it might be easier to read the documentation*\n",
    "- *Tip: For the second half: it **is** one temperature, and it **feels** a different temperature. Calculate the difference.*"
   ]
  },
  {
   "cell_type": "code",
   "execution_count": 211,
   "metadata": {},
   "outputs": [
    {
     "data": {
      "text/plain": [
       "dict_keys(['latitude', 'longitude', 'timezone', 'currently', 'hourly', 'daily', 'alerts', 'flags', 'offset'])"
      ]
     },
     "execution_count": 211,
     "metadata": {},
     "output_type": "execute_result"
    }
   ],
   "source": [
    "data.keys()"
   ]
  },
  {
   "cell_type": "code",
   "execution_count": 212,
   "metadata": {},
   "outputs": [
    {
     "data": {
      "text/plain": [
       "{'time': 1559925472,\n",
       " 'summary': 'Breezy and Partly Cloudy',\n",
       " 'icon': 'wind',\n",
       " 'precipIntensity': 0.0127,\n",
       " 'precipProbability': 0.02,\n",
       " 'precipType': 'rain',\n",
       " 'temperature': 23.52,\n",
       " 'apparentTemperature': 23.52,\n",
       " 'dewPoint': 5.62,\n",
       " 'humidity': 0.31,\n",
       " 'pressure': 1013.61,\n",
       " 'windSpeed': 10.64,\n",
       " 'windGust': 13.17,\n",
       " 'windBearing': 238,\n",
       " 'cloudCover': 0.48,\n",
       " 'uvIndex': 1,\n",
       " 'visibility': 11.62,\n",
       " 'ozone': 344.56}"
      ]
     },
     "execution_count": 212,
     "metadata": {},
     "output_type": "execute_result"
    }
   ],
   "source": [
    "data['currently']"
   ]
  },
  {
   "cell_type": "code",
   "execution_count": 213,
   "metadata": {},
   "outputs": [
    {
     "name": "stdout",
     "output_type": "stream",
     "text": [
      "10.64\n"
     ]
    }
   ],
   "source": [
    "print (data['currently']['windSpeed'])"
   ]
  },
  {
   "cell_type": "markdown",
   "metadata": {},
   "source": [
    "## 3) Today's forecast is the FIRST daily forecast. For the place you decided on above, how much of the moon is currently visible?\n",
    "\n",
    "- *Tip: This does **not** use the `currently` key.*\n",
    "- *Tip: It might be helpful to save the forecast into its own variable*"
   ]
  },
  {
   "cell_type": "code",
   "execution_count": 214,
   "metadata": {},
   "outputs": [
    {
     "name": "stdout",
     "output_type": "stream",
     "text": [
      "0.14\n"
     ]
    }
   ],
   "source": [
    "#print (data['daily']['data'])\n",
    "MoonPhases = []\n",
    "dailyinfos = (data['daily']['data'])\n",
    "#print (dailyinfos)\n",
    "for info in dailyinfos:\n",
    "    MoonPhases.append(info['moonPhase'])\n",
    "print (MoonPhases[0])\n",
    "\n"
   ]
  },
  {
   "cell_type": "code",
   "execution_count": null,
   "metadata": {},
   "outputs": [],
   "source": []
  },
  {
   "cell_type": "code",
   "execution_count": null,
   "metadata": {},
   "outputs": [],
   "source": []
  },
  {
   "cell_type": "markdown",
   "metadata": {},
   "source": [
    "## 4) What's the difference between the high and low temperatures for today?"
   ]
  },
  {
   "cell_type": "code",
   "execution_count": 215,
   "metadata": {},
   "outputs": [
    {
     "name": "stdout",
     "output_type": "stream",
     "text": [
      "17\n"
     ]
    }
   ],
   "source": [
    "HighTemp = []\n",
    "LowTemps = []\n",
    "#print (data['daily']['data'])\n",
    "dailyinfos = (data['daily']['data'])\n",
    "for info in dailyinfos:\n",
    "    HighTemp.append(int(info['temperatureHigh']))\n",
    "    LowTemps.append(int(info['temperatureLow']))\n",
    "diff = int(HighTemp[0]) - int(LowTemps[0])\n",
    "print(diff)"
   ]
  },
  {
   "cell_type": "code",
   "execution_count": null,
   "metadata": {},
   "outputs": [],
   "source": []
  },
  {
   "cell_type": "code",
   "execution_count": null,
   "metadata": {},
   "outputs": [],
   "source": []
  },
  {
   "cell_type": "markdown",
   "metadata": {},
   "source": [
    "## 5) Go through the daily forecasts, printing out the next week's worth of predictions.\n",
    "\n",
    "I'd like to know the **high temperature** for each day, and whether it's **hot, warm, or cold** (based on what temperatures you think are hot, warm or cold).\n",
    "\n",
    "- *Tip: Is it returning F or C? You can change them by adding `?units=us` or `?units=si` onto the end of the URL.*\n",
    "- *Tip: You'll need to use an `if` statement to say whether it is hot, warm or cold.*"
   ]
  },
  {
   "cell_type": "code",
   "execution_count": 216,
   "metadata": {},
   "outputs": [
    {
     "name": "stdout",
     "output_type": "stream",
     "text": [
      " In day 1, it's hot.\n",
      " In day 2, it's warm.\n",
      " In day 3, it's warm.\n",
      " In day 4, it's warm.\n",
      " In day 5, it's cold.\n",
      " In day 6, it's warm.\n",
      " In day 7, it's warm.\n",
      " In day 8, it's warm.\n"
     ]
    }
   ],
   "source": [
    "#dailyinfos = (data['daily']['data'])\n",
    "#for info in dailyinfos:\n",
    "#    HighTemp.append(info['temperatureHigh'])\n",
    "#    LowTemps.append(info['temperatureLow'])\n",
    "day = 0\n",
    "#print (HighTemp)\n",
    "for temps in HighTemp:\n",
    "    day = day + 1\n",
    "    if temps < 15:\n",
    "        print (f\" In day {day}, it's cold.\")\n",
    "    elif temps > 25:\n",
    "        print (f\" In day {day}, it's hot.\")\n",
    "    elif temps > 15 and temps < 25:\n",
    "        print (f\" In day {day}, it's warm.\")"
   ]
  },
  {
   "cell_type": "code",
   "execution_count": null,
   "metadata": {},
   "outputs": [],
   "source": []
  },
  {
   "cell_type": "code",
   "execution_count": null,
   "metadata": {},
   "outputs": [],
   "source": []
  },
  {
   "cell_type": "markdown",
   "metadata": {},
   "source": [
    "# 6) What will be the hottest day in the next week? What is the high temperature on that day?\n",
    "\n",
    "It's okay if your result looks like `1453363200`. If you want to be extra-fancy, though, format it as a **real date** - the weird number is called a **UNIX timestamp**, which might help in googling.\n",
    "\n",
    "- *Tip: It's okay to skip this if it seems too difficult!*"
   ]
  },
  {
   "cell_type": "code",
   "execution_count": 217,
   "metadata": {},
   "outputs": [
    {
     "name": "stdout",
     "output_type": "stream",
     "text": [
      " The hottest day is 06 June 2019, with the highest temperature of 27.53\n"
     ]
    }
   ],
   "source": [
    "#print (HighTemp)\n",
    "import time\n",
    "import datetime\n",
    "dailyinfos = (data['daily']['data'])\n",
    "#print(dailyinfos)\n",
    "for info in dailyinfos:\n",
    "    timestamp = info['time']\n",
    "    value = datetime.datetime.fromtimestamp(timestamp)\n",
    "    exact_time = value.strftime('%d %B %Y')\n",
    "    if int(info['temperatureHigh']) == max(HighTemp):\n",
    "        print (f\" The hottest day is {exact_time}, with the highest temperature of {info['temperatureHigh']}\")"
   ]
  },
  {
   "cell_type": "code",
   "execution_count": null,
   "metadata": {},
   "outputs": [],
   "source": []
  },
  {
   "cell_type": "code",
   "execution_count": null,
   "metadata": {},
   "outputs": [],
   "source": []
  },
  {
   "cell_type": "markdown",
   "metadata": {},
   "source": [
    "## 7) What's the weather looking like for the next 24+ hours in Miami, Florida?\n",
    "\n",
    "I'd like to know the temperature for every hour, and if it's going to have cloud cover of more than 50% say \"{temperature} and cloudy\" instead of just the temperature. \n",
    "\n",
    "\n",
    "- *Tip: Be sure to remember how latitude and longitude are done with positive and negative numbers*\n",
    "- *Tip: How do you represent \"50%\" for cloud cover?*"
   ]
  },
  {
   "cell_type": "code",
   "execution_count": 218,
   "metadata": {},
   "outputs": [],
   "source": [
    "y = (f\"https://api.darksky.net/forecast/{API_DARKSKY_KEY}/25.77427, -80.19366?units=si\")\n",
    "import requests\n",
    "response = requests.get (y)\n",
    "data = response.json()"
   ]
  },
  {
   "cell_type": "code",
   "execution_count": 239,
   "metadata": {},
   "outputs": [
    {
     "name": "stdout",
     "output_type": "stream",
     "text": [
      " At 12h, there will be a temperature fo 31.33c°.\n",
      " At 13h, there will be a temperature fo 32.49c°.\n",
      " At 14h, there will be a temperature fo 32.83c°.\n",
      " At 15h, there will be a temperature fo 32.19c°.\n",
      " At 16h, there will be a temperature fo 31.58c°.\n",
      " At 17h, there will be a temperature fo 30.92c°.\n",
      " At 18h, there will be a temperature fo 30.28c°.\n",
      " At 19h, there will be a temperature fo 29.67c°.\n",
      " At 20h, there will be a temperature fo 28.91c°.\n",
      " At 21h, there will be a temperature fo 28.28c°.\n",
      " At 22h, there will be a temperature fo 28.04c°.\n",
      " At 23h, there will be a temperature fo 27.84c°.\n",
      " At 00h, there will be a temperature fo 27.65c°.\n",
      " At 01h, there will be a temperature fo 27.41c°.\n",
      " At 02h, there will be a temperature fo 26.45c°.\n",
      " At 03h, there will be a temperature fo 25.36c°.\n",
      " At 04h, there will be a temperature fo 24.97c°.\n",
      " At 05h, there will be a temperature fo 24.88c°.\n",
      " At 06h, there will be a temperature fo 25.05c°.\n",
      " At 07h, there will be a temperature fo 25.43c°.\n",
      " At 08h, there will be a temperature fo 26.33c°.\n",
      " At 09h, there will be a temperature fo 27.83c°.\n",
      " At 10h, there will be a temperature fo 29.18c°.\n",
      " At 11h, there will be a temperature fo 30.18c°.\n",
      " At 12h, there will be a temperature fo 30.96c°.\n",
      " At 13h, there will be a temperature fo 32.37c°.\n",
      " At 14h, there will be a temperature fo 33.1c°.\n",
      " At 15h, there will be a temperature fo 32.86c°.\n",
      " At 16h, there will be a temperature fo 32.28c°.\n",
      " At 17h, there will be a temperature fo 31.47c°.\n",
      " At 18h, there will be a temperature fo 30.84c°.\n",
      " At 19h, there will be a temperature fo 30.12c°.\n",
      " At 20h, there will be a temperature fo 29.57c°.\n",
      " At 21h, there will be a temperature fo 29.07c°.\n",
      " At 22h, there will be a temperature fo 28.66c°.\n",
      " At 23h, there will be a temperature fo 28.36c°.\n",
      " At 00h, there will be a temperature fo 28.06c°.\n",
      " At 01h, there will be a temperature fo 27.78c°.\n",
      " At 02h, there will be a temperature fo 26.69c°.\n",
      " At 03h, there will be a temperature fo 25.51c°.\n",
      " At 04h, there will be a temperature fo 25.16c°.\n",
      " At 05h, there will be a temperature fo 25.16c°.\n",
      " At 06h, there will be a temperature fo 25.46c°.\n",
      " At 07h, there will be a temperature fo 26.01c°.\n",
      " At 08h, there will be a temperature fo 26.94c°.\n",
      " At 09h, there will be a temperature fo 28.18c°.\n",
      " At 10h, there will be a temperature fo 29.04c°.\n",
      " At 11h, there will be a temperature fo 29.76c°.\n",
      " At 12h, there will be a temperature fo 30.46c°.\n",
      "It's gonna be cloudy most of the day...\n"
     ]
    }
   ],
   "source": [
    "hourlyinfos = (data['hourly']['data'])\n",
    "#print (hourlyinfos)\n",
    "import statistics\n",
    "cloudy = []\n",
    "for info in hourlyinfos:\n",
    "    cloudy.append(float(info['cloudCover']))\n",
    "    timestamp = info['time']\n",
    "    value = datetime.datetime.fromtimestamp(timestamp)\n",
    "    exact_hour = value.strftime('%H')\n",
    "    print (f\" At {exact_hour}h, there will be a temperature of {info['temperature']}c°.\")\n",
    "if statistics.mean(cloudy) > 0.5:\n",
    "    print (f\"It's gonna be cloudy most of the day...\")\n",
    "                           \n"
   ]
  },
  {
   "cell_type": "code",
   "execution_count": null,
   "metadata": {
    "collapsed": true
   },
   "outputs": [],
   "source": []
  },
  {
   "cell_type": "markdown",
   "metadata": {},
   "source": [
    "# 8) For the next 24-ish hours in Miami, what percent of the time is the temperature above 85 degrees?\n",
    "\n",
    "If they give you 48 hours instead of 24, that's okay.\n",
    "\n",
    "- *Tip: You might want to read up on [looping patterns](http://jonathansoma.com/lede/foundations-2017/classes/data%20structures/looping-patterns/)*"
   ]
  },
  {
   "cell_type": "code",
   "execution_count": 240,
   "metadata": {},
   "outputs": [
    {
     "name": "stdout",
     "output_type": "stream",
     "text": [
      "[{'time': 1559923200, 'summary': 'Humid and Mostly Cloudy', 'icon': 'partly-cloudy-day', 'precipIntensity': 0, 'precipProbability': 0, 'temperature': 31.33, 'apparentTemperature': 35.74, 'dewPoint': 22.81, 'humidity': 0.61, 'pressure': 1012.99, 'windSpeed': 3.54, 'windGust': 3.69, 'windBearing': 191, 'cloudCover': 0.6, 'uvIndex': 7, 'visibility': 16.09, 'ozone': 284.92}, {'time': 1559926800, 'summary': 'Humid and Mostly Cloudy', 'icon': 'partly-cloudy-day', 'precipIntensity': 0.0229, 'precipProbability': 0.27, 'precipType': 'rain', 'temperature': 32.49, 'apparentTemperature': 37.49, 'dewPoint': 23.04, 'humidity': 0.58, 'pressure': 1012.89, 'windSpeed': 3.89, 'windGust': 4.04, 'windBearing': 187, 'cloudCover': 0.61, 'uvIndex': 8, 'visibility': 16.09, 'ozone': 284.92}, {'time': 1559930400, 'summary': 'Humid and Mostly Cloudy', 'icon': 'partly-cloudy-day', 'precipIntensity': 0.0762, 'precipProbability': 0.05, 'precipType': 'rain', 'temperature': 32.83, 'apparentTemperature': 38.14, 'dewPoint': 23.24, 'humidity': 0.57, 'pressure': 1012.64, 'windSpeed': 4.65, 'windGust': 4.83, 'windBearing': 179, 'cloudCover': 0.71, 'uvIndex': 7, 'visibility': 16.09, 'ozone': 284.83}, {'time': 1559934000, 'summary': 'Humid and Mostly Cloudy', 'icon': 'partly-cloudy-day', 'precipIntensity': 0.3785, 'precipProbability': 0.12, 'precipType': 'rain', 'temperature': 32.19, 'apparentTemperature': 37.46, 'dewPoint': 23.37, 'humidity': 0.6, 'pressure': 1012.13, 'windSpeed': 5.11, 'windGust': 6.37, 'windBearing': 179, 'cloudCover': 0.6, 'uvIndex': 7, 'visibility': 16.09, 'ozone': 284.78}, {'time': 1559937600, 'summary': 'Humid and Mostly Cloudy', 'icon': 'partly-cloudy-day', 'precipIntensity': 0.3581, 'precipProbability': 0.12, 'precipType': 'rain', 'temperature': 31.58, 'apparentTemperature': 36.52, 'dewPoint': 23.24, 'humidity': 0.61, 'pressure': 1011.69, 'windSpeed': 4.34, 'windGust': 5.02, 'windBearing': 191, 'cloudCover': 0.71, 'uvIndex': 5, 'visibility': 16.09, 'ozone': 284.63}, {'time': 1559941200, 'summary': 'Humid and Mostly Cloudy', 'icon': 'partly-cloudy-day', 'precipIntensity': 0.4394, 'precipProbability': 0.15, 'precipType': 'rain', 'temperature': 30.92, 'apparentTemperature': 35.94, 'dewPoint': 23.53, 'humidity': 0.65, 'pressure': 1011.42, 'windSpeed': 4.46, 'windGust': 4.98, 'windBearing': 173, 'cloudCover': 0.8, 'uvIndex': 3, 'visibility': 16.09, 'ozone': 284.42}, {'time': 1559944800, 'summary': 'Humid and Mostly Cloudy', 'icon': 'partly-cloudy-day', 'precipIntensity': 0.381, 'precipProbability': 0.17, 'precipType': 'rain', 'temperature': 30.28, 'apparentTemperature': 35.09, 'dewPoint': 23.56, 'humidity': 0.67, 'pressure': 1011.16, 'windSpeed': 4.29, 'windGust': 5.01, 'windBearing': 177, 'cloudCover': 0.75, 'uvIndex': 2, 'visibility': 16.09, 'ozone': 284.26}, {'time': 1559948400, 'summary': 'Humid and Mostly Cloudy', 'icon': 'partly-cloudy-day', 'precipIntensity': 0.1346, 'precipProbability': 0.13, 'precipType': 'rain', 'temperature': 29.67, 'apparentTemperature': 34.18, 'dewPoint': 23.53, 'humidity': 0.7, 'pressure': 1011.29, 'windSpeed': 4.09, 'windGust': 4.87, 'windBearing': 179, 'cloudCover': 0.72, 'uvIndex': 0, 'visibility': 16.09, 'ozone': 284.06}, {'time': 1559952000, 'summary': 'Humid and Mostly Cloudy', 'icon': 'partly-cloudy-day', 'precipIntensity': 0.1016, 'precipProbability': 0.09, 'precipType': 'rain', 'temperature': 28.91, 'apparentTemperature': 33.09, 'dewPoint': 23.57, 'humidity': 0.73, 'pressure': 1011.6, 'windSpeed': 3.77, 'windGust': 4.33, 'windBearing': 178, 'cloudCover': 0.66, 'uvIndex': 0, 'visibility': 16.09, 'ozone': 283.78}, {'time': 1559955600, 'summary': 'Humid and Mostly Cloudy', 'icon': 'partly-cloudy-night', 'precipIntensity': 0.1905, 'precipProbability': 0.11, 'precipType': 'rain', 'temperature': 28.28, 'apparentTemperature': 32.14, 'dewPoint': 23.63, 'humidity': 0.76, 'pressure': 1012.12, 'windSpeed': 3.73, 'windGust': 4.28, 'windBearing': 187, 'cloudCover': 0.62, 'uvIndex': 0, 'visibility': 16.09, 'ozone': 283.29}, {'time': 1559959200, 'summary': 'Humid and Mostly Cloudy', 'icon': 'partly-cloudy-night', 'precipIntensity': 0.0305, 'precipProbability': 0.07, 'precipType': 'rain', 'temperature': 28.04, 'apparentTemperature': 31.82, 'dewPoint': 23.73, 'humidity': 0.78, 'pressure': 1012.71, 'windSpeed': 3.65, 'windGust': 4.56, 'windBearing': 174, 'cloudCover': 0.64, 'uvIndex': 0, 'visibility': 16.09, 'ozone': 282.73}, {'time': 1559962800, 'summary': 'Humid and Mostly Cloudy', 'icon': 'partly-cloudy-night', 'precipIntensity': 0, 'precipProbability': 0, 'temperature': 27.84, 'apparentTemperature': 31.57, 'dewPoint': 23.86, 'humidity': 0.79, 'pressure': 1013.1, 'windSpeed': 3.79, 'windGust': 5.16, 'windBearing': 183, 'cloudCover': 0.67, 'uvIndex': 0, 'visibility': 16.09, 'ozone': 282.54}, {'time': 1559966400, 'summary': 'Humid and Partly Cloudy', 'icon': 'partly-cloudy-night', 'precipIntensity': 0.0102, 'precipProbability': 0.05, 'precipType': 'rain', 'temperature': 27.65, 'apparentTemperature': 31.26, 'dewPoint': 23.91, 'humidity': 0.8, 'pressure': 1013.15, 'windSpeed': 4, 'windGust': 5.26, 'windBearing': 181, 'cloudCover': 0.59, 'uvIndex': 0, 'visibility': 16.09, 'ozone': 282.91}, {'time': 1559970000, 'summary': 'Humid and Partly Cloudy', 'icon': 'partly-cloudy-night', 'precipIntensity': 0.0178, 'precipProbability': 0.02, 'precipType': 'rain', 'temperature': 27.41, 'apparentTemperature': 30.84, 'dewPoint': 23.96, 'humidity': 0.82, 'pressure': 1013.14, 'windSpeed': 3.95, 'windGust': 5.21, 'windBearing': 186, 'cloudCover': 0.5, 'uvIndex': 0, 'visibility': 16.09, 'ozone': 283.69}, {'time': 1559973600, 'summary': 'Humid and Mostly Cloudy', 'icon': 'partly-cloudy-night', 'precipIntensity': 0.0432, 'precipProbability': 0.02, 'precipType': 'rain', 'temperature': 26.45, 'apparentTemperature': 28.87, 'dewPoint': 23.67, 'humidity': 0.85, 'pressure': 1012.61, 'windSpeed': 4.26, 'windGust': 5.16, 'windBearing': 188, 'cloudCover': 0.76, 'uvIndex': 0, 'visibility': 16.09, 'ozone': 284.36}, {'time': 1559977200, 'summary': 'Humid and Mostly Cloudy', 'icon': 'partly-cloudy-night', 'precipIntensity': 0.0457, 'precipProbability': 0.02, 'precipType': 'rain', 'temperature': 25.36, 'apparentTemperature': 26.32, 'dewPoint': 23.71, 'humidity': 0.91, 'pressure': 1012.5, 'windSpeed': 4.24, 'windGust': 5.23, 'windBearing': 189, 'cloudCover': 0.78, 'uvIndex': 0, 'visibility': 16.09, 'ozone': 284.73}, {'time': 1559980800, 'summary': 'Humid and Mostly Cloudy', 'icon': 'partly-cloudy-night', 'precipIntensity': 0.066, 'precipProbability': 0.02, 'precipType': 'rain', 'temperature': 24.97, 'apparentTemperature': 25.94, 'dewPoint': 23.73, 'humidity': 0.93, 'pressure': 1012.4, 'windSpeed': 4.21, 'windGust': 5.31, 'windBearing': 188, 'cloudCover': 0.81, 'uvIndex': 0, 'visibility': 16.09, 'ozone': 285.1}, {'time': 1559984400, 'summary': 'Humid and Mostly Cloudy', 'icon': 'partly-cloudy-night', 'precipIntensity': 0.0813, 'precipProbability': 0.02, 'precipType': 'rain', 'temperature': 24.88, 'apparentTemperature': 25.86, 'dewPoint': 23.73, 'humidity': 0.93, 'pressure': 1012.42, 'windSpeed': 4.18, 'windGust': 5.43, 'windBearing': 190, 'cloudCover': 0.83, 'uvIndex': 0, 'visibility': 16.09, 'ozone': 285.43}, {'time': 1559988000, 'summary': 'Humid and Mostly Cloudy', 'icon': 'partly-cloudy-night', 'precipIntensity': 0.0635, 'precipProbability': 0.05, 'precipType': 'rain', 'temperature': 25.05, 'apparentTemperature': 26.02, 'dewPoint': 23.72, 'humidity': 0.92, 'pressure': 1012.65, 'windSpeed': 4.22, 'windGust': 5.65, 'windBearing': 193, 'cloudCover': 0.76, 'uvIndex': 0, 'visibility': 16.09, 'ozone': 285.71}, {'time': 1559991600, 'summary': 'Humid and Mostly Cloudy', 'icon': 'partly-cloudy-day', 'precipIntensity': 0.0508, 'precipProbability': 0.06, 'precipType': 'rain', 'temperature': 25.43, 'apparentTemperature': 26.38, 'dewPoint': 23.69, 'humidity': 0.9, 'pressure': 1012.99, 'windSpeed': 4.27, 'windGust': 5.89, 'windBearing': 199, 'cloudCover': 0.66, 'uvIndex': 0, 'visibility': 16.09, 'ozone': 286.05}, {'time': 1559995200, 'summary': 'Humid and Partly Cloudy', 'icon': 'partly-cloudy-day', 'precipIntensity': 0.0533, 'precipProbability': 0.06, 'precipType': 'rain', 'temperature': 26.33, 'apparentTemperature': 28.61, 'dewPoint': 23.59, 'humidity': 0.85, 'pressure': 1013.38, 'windSpeed': 4.25, 'windGust': 5.91, 'windBearing': 201, 'cloudCover': 0.58, 'uvIndex': 1, 'visibility': 16.09, 'ozone': 286.32}, {'time': 1559998800, 'summary': 'Humid and Partly Cloudy', 'icon': 'partly-cloudy-day', 'precipIntensity': 0.0254, 'precipProbability': 0.05, 'precipType': 'rain', 'temperature': 27.83, 'apparentTemperature': 31.2, 'dewPoint': 23.33, 'humidity': 0.77, 'pressure': 1013.85, 'windSpeed': 4.03, 'windGust': 5.54, 'windBearing': 201, 'cloudCover': 0.52, 'uvIndex': 2, 'visibility': 16.09, 'ozone': 286.77}, {'time': 1560002400, 'summary': 'Humid and Partly Cloudy', 'icon': 'partly-cloudy-day', 'precipIntensity': 0, 'precipProbability': 0, 'temperature': 29.18, 'apparentTemperature': 33.04, 'dewPoint': 23.02, 'humidity': 0.69, 'pressure': 1014.36, 'windSpeed': 3.73, 'windGust': 4.94, 'windBearing': 198, 'cloudCover': 0.47, 'uvIndex': 4, 'visibility': 16.09, 'ozone': 287.23}, {'time': 1560006000, 'summary': 'Humid and Partly Cloudy', 'icon': 'partly-cloudy-day', 'precipIntensity': 0, 'precipProbability': 0, 'temperature': 30.18, 'apparentTemperature': 34.22, 'dewPoint': 22.79, 'humidity': 0.65, 'pressure': 1014.63, 'windSpeed': 3.63, 'windGust': 4.52, 'windBearing': 193, 'cloudCover': 0.45, 'uvIndex': 6, 'visibility': 16.09, 'ozone': 287.78}, {'time': 1560009600, 'summary': 'Humid and Partly Cloudy', 'icon': 'partly-cloudy-day', 'precipIntensity': 0.0813, 'precipProbability': 0.05, 'precipType': 'rain', 'temperature': 30.96, 'apparentTemperature': 35.19, 'dewPoint': 22.73, 'humidity': 0.62, 'pressure': 1014.61, 'windSpeed': 3.95, 'windGust': 4.53, 'windBearing': 186, 'cloudCover': 0.49, 'uvIndex': 8, 'visibility': 16.09, 'ozone': 288.31}, {'time': 1560013200, 'summary': 'Humid and Partly Cloudy', 'icon': 'partly-cloudy-day', 'precipIntensity': 0.4369, 'precipProbability': 0.08, 'precipType': 'rain', 'temperature': 32.37, 'apparentTemperature': 37.05, 'dewPoint': 22.77, 'humidity': 0.57, 'pressure': 1014.35, 'windSpeed': 4.48, 'windGust': 4.75, 'windBearing': 176, 'cloudCover': 0.57, 'uvIndex': 8, 'visibility': 16.09, 'ozone': 288.86}, {'time': 1560016800, 'summary': 'Possible Light Rain', 'icon': 'rain', 'precipIntensity': 0.9042, 'precipProbability': 0.13, 'precipType': 'rain', 'temperature': 33.1, 'apparentTemperature': 38.06, 'dewPoint': 22.84, 'humidity': 0.55, 'pressure': 1014.05, 'windSpeed': 4.92, 'windGust': 5.04, 'windBearing': 170, 'cloudCover': 0.64, 'uvIndex': 7, 'visibility': 16.09, 'ozone': 289.29}, {'time': 1560020400, 'summary': 'Possible Light Rain', 'icon': 'rain', 'precipIntensity': 1.2624, 'precipProbability': 0.19, 'precipType': 'rain', 'temperature': 32.86, 'apparentTemperature': 37.87, 'dewPoint': 22.96, 'humidity': 0.56, 'pressure': 1013.67, 'windSpeed': 5.15, 'windGust': 5.31, 'windBearing': 171, 'cloudCover': 0.69, 'uvIndex': 6, 'visibility': 16.09, 'ozone': 289.32}, {'time': 1560024000, 'summary': 'Rain', 'icon': 'rain', 'precipIntensity': 1.6205, 'precipProbability': 0.29, 'precipType': 'rain', 'temperature': 32.28, 'apparentTemperature': 37.26, 'dewPoint': 23.08, 'humidity': 0.58, 'pressure': 1013.25, 'windSpeed': 5.29, 'windGust': 5.66, 'windBearing': 176, 'cloudCover': 0.72, 'uvIndex': 5, 'visibility': 13.08, 'ozone': 289.26}, {'time': 1560027600, 'summary': 'Rain', 'icon': 'rain', 'precipIntensity': 1.7577, 'precipProbability': 0.32, 'precipType': 'rain', 'temperature': 31.47, 'apparentTemperature': 36.32, 'dewPoint': 23.19, 'humidity': 0.62, 'pressure': 1013.05, 'windSpeed': 5.27, 'windGust': 5.82, 'windBearing': 177, 'cloudCover': 0.72, 'uvIndex': 3, 'visibility': 10.85, 'ozone': 289.09}, {'time': 1560031200, 'summary': 'Rain', 'icon': 'rain', 'precipIntensity': 1.4097, 'precipProbability': 0.3, 'precipType': 'rain', 'temperature': 30.84, 'apparentTemperature': 35.55, 'dewPoint': 23.25, 'humidity': 0.64, 'pressure': 1013.21, 'windSpeed': 5.01, 'windGust': 5.61, 'windBearing': 173, 'cloudCover': 0.67, 'uvIndex': 2, 'visibility': 10.9, 'ozone': 288.93}, {'time': 1560034800, 'summary': 'Possible Light Rain', 'icon': 'rain', 'precipIntensity': 1.0998, 'precipProbability': 0.25, 'precipType': 'rain', 'temperature': 30.12, 'apparentTemperature': 34.59, 'dewPoint': 23.28, 'humidity': 0.67, 'pressure': 1013.6, 'windSpeed': 4.61, 'windGust': 5.25, 'windBearing': 166, 'cloudCover': 0.61, 'uvIndex': 0, 'visibility': 12.23, 'ozone': 288.69}, {'time': 1560038400, 'summary': 'Possible Light Rain', 'icon': 'rain', 'precipIntensity': 0.9931, 'precipProbability': 0.22, 'precipType': 'rain', 'temperature': 29.57, 'apparentTemperature': 33.84, 'dewPoint': 23.33, 'humidity': 0.69, 'pressure': 1014.02, 'windSpeed': 4.33, 'windGust': 5.02, 'windBearing': 163, 'cloudCover': 0.56, 'uvIndex': 0, 'visibility': 13.86, 'ozone': 288.65}, {'time': 1560042000, 'summary': 'Humid and Mostly Cloudy', 'icon': 'partly-cloudy-night', 'precipIntensity': 0.6553, 'precipProbability': 0.19, 'precipType': 'rain', 'temperature': 29.07, 'apparentTemperature': 33.17, 'dewPoint': 23.37, 'humidity': 0.71, 'pressure': 1014.5, 'windSpeed': 4.22, 'windGust': 4.98, 'windBearing': 164, 'cloudCover': 0.6, 'uvIndex': 0, 'visibility': 15.82, 'ozone': 288.85}, {'time': 1560045600, 'summary': 'Humid and Mostly Cloudy', 'icon': 'partly-cloudy-night', 'precipIntensity': 0.2946, 'precipProbability': 0.14, 'precipType': 'rain', 'temperature': 28.66, 'apparentTemperature': 32.59, 'dewPoint': 23.43, 'humidity': 0.73, 'pressure': 1015.02, 'windSpeed': 4.16, 'windGust': 4.99, 'windBearing': 167, 'cloudCover': 0.65, 'uvIndex': 0, 'visibility': 16.09, 'ozone': 289.17}, {'time': 1560049200, 'summary': 'Humid and Mostly Cloudy', 'icon': 'partly-cloudy-night', 'precipIntensity': 0.1575, 'precipProbability': 0.1, 'precipType': 'rain', 'temperature': 28.36, 'apparentTemperature': 32.16, 'dewPoint': 23.48, 'humidity': 0.75, 'pressure': 1015.33, 'windSpeed': 4.08, 'windGust': 5.03, 'windBearing': 171, 'cloudCover': 0.68, 'uvIndex': 0, 'visibility': 16.09, 'ozone': 289.58}, {'time': 1560052800, 'summary': 'Humid and Mostly Cloudy', 'icon': 'partly-cloudy-night', 'precipIntensity': 0.127, 'precipProbability': 0.08, 'precipType': 'rain', 'temperature': 28.06, 'apparentTemperature': 31.73, 'dewPoint': 23.56, 'humidity': 0.77, 'pressure': 1015.25, 'windSpeed': 4.02, 'windGust': 5.1, 'windBearing': 172, 'cloudCover': 0.67, 'uvIndex': 0, 'visibility': 16.09, 'ozone': 290.2}, {'time': 1560056400, 'summary': 'Humid and Mostly Cloudy', 'icon': 'partly-cloudy-night', 'precipIntensity': 0.1321, 'precipProbability': 0.08, 'precipType': 'rain', 'temperature': 27.78, 'apparentTemperature': 31.29, 'dewPoint': 23.62, 'humidity': 0.78, 'pressure': 1015, 'windSpeed': 3.98, 'windGust': 5.21, 'windBearing': 176, 'cloudCover': 0.64, 'uvIndex': 0, 'visibility': 16.09, 'ozone': 290.91}, {'time': 1560060000, 'summary': 'Humid and Mostly Cloudy', 'icon': 'partly-cloudy-night', 'precipIntensity': 0.1372, 'precipProbability': 0.08, 'precipType': 'rain', 'temperature': 26.69, 'apparentTemperature': 29.34, 'dewPoint': 23.67, 'humidity': 0.84, 'pressure': 1014.75, 'windSpeed': 3.92, 'windGust': 5.27, 'windBearing': 179, 'cloudCover': 0.61, 'uvIndex': 0, 'visibility': 16.09, 'ozone': 291.59}, {'time': 1560063600, 'summary': 'Humid and Mostly Cloudy', 'icon': 'partly-cloudy-night', 'precipIntensity': 0.1067, 'precipProbability': 0.07, 'precipType': 'rain', 'temperature': 25.51, 'apparentTemperature': 26.47, 'dewPoint': 23.73, 'humidity': 0.9, 'pressure': 1014.58, 'windSpeed': 3.78, 'windGust': 5.19, 'windBearing': 182, 'cloudCover': 0.61, 'uvIndex': 0, 'visibility': 16.09, 'ozone': 292.22}, {'time': 1560067200, 'summary': 'Humid and Mostly Cloudy', 'icon': 'partly-cloudy-night', 'precipIntensity': 0.0762, 'precipProbability': 0.06, 'precipType': 'rain', 'temperature': 25.16, 'apparentTemperature': 26.13, 'dewPoint': 23.78, 'humidity': 0.92, 'pressure': 1014.46, 'windSpeed': 3.62, 'windGust': 5.07, 'windBearing': 186, 'cloudCover': 0.6, 'uvIndex': 0, 'visibility': 16.09, 'ozone': 292.72}, {'time': 1560070800, 'summary': 'Humid and Mostly Cloudy', 'icon': 'partly-cloudy-night', 'precipIntensity': 0.0533, 'precipProbability': 0.06, 'precipType': 'rain', 'temperature': 25.16, 'apparentTemperature': 26.14, 'dewPoint': 23.81, 'humidity': 0.92, 'pressure': 1014.44, 'windSpeed': 3.5, 'windGust': 5.01, 'windBearing': 189, 'cloudCover': 0.6, 'uvIndex': 0, 'visibility': 16.09, 'ozone': 293.44}, {'time': 1560074400, 'summary': 'Humid and Partly Cloudy', 'icon': 'partly-cloudy-night', 'precipIntensity': 0.0279, 'precipProbability': 0.06, 'precipType': 'rain', 'temperature': 25.46, 'apparentTemperature': 26.43, 'dewPoint': 23.82, 'humidity': 0.91, 'pressure': 1014.65, 'windSpeed': 3.45, 'windGust': 5.11, 'windBearing': 191, 'cloudCover': 0.55, 'uvIndex': 0, 'visibility': 16.09, 'ozone': 294.55}, {'time': 1560078000, 'summary': 'Humid and Partly Cloudy', 'icon': 'partly-cloudy-day', 'precipIntensity': 0.0076, 'precipProbability': 0.06, 'precipType': 'rain', 'temperature': 26.01, 'apparentTemperature': 27.98, 'dewPoint': 23.82, 'humidity': 0.88, 'pressure': 1014.97, 'windSpeed': 3.44, 'windGust': 5.25, 'windBearing': 192, 'cloudCover': 0.49, 'uvIndex': 0, 'visibility': 16.09, 'ozone': 295.93}, {'time': 1560081600, 'summary': 'Humid and Partly Cloudy', 'icon': 'partly-cloudy-day', 'precipIntensity': 0.0051, 'precipProbability': 0.06, 'precipType': 'rain', 'temperature': 26.94, 'apparentTemperature': 29.86, 'dewPoint': 23.72, 'humidity': 0.83, 'pressure': 1015.36, 'windSpeed': 3.5, 'windGust': 5.3, 'windBearing': 190, 'cloudCover': 0.42, 'uvIndex': 1, 'visibility': 16.09, 'ozone': 296.86}, {'time': 1560085200, 'summary': 'Humid and Partly Cloudy', 'icon': 'partly-cloudy-day', 'precipIntensity': 0.0305, 'precipProbability': 0.06, 'precipType': 'rain', 'temperature': 28.18, 'apparentTemperature': 31.87, 'dewPoint': 23.48, 'humidity': 0.76, 'pressure': 1015.81, 'windSpeed': 3.65, 'windGust': 5.09, 'windBearing': 186, 'cloudCover': 0.32, 'uvIndex': 2, 'visibility': 16.09, 'ozone': 297.12}, {'time': 1560088800, 'summary': 'Humid', 'icon': 'clear-day', 'precipIntensity': 0.0965, 'precipProbability': 0.07, 'precipType': 'rain', 'temperature': 29.04, 'apparentTemperature': 32.95, 'dewPoint': 23.16, 'humidity': 0.71, 'pressure': 1016.29, 'windSpeed': 3.89, 'windGust': 4.78, 'windBearing': 178, 'cloudCover': 0.2, 'uvIndex': 5, 'visibility': 16.09, 'ozone': 297.07}, {'time': 1560092400, 'summary': 'Humid', 'icon': 'clear-day', 'precipIntensity': 0.1473, 'precipProbability': 0.08, 'precipType': 'rain', 'temperature': 29.76, 'apparentTemperature': 33.74, 'dewPoint': 22.91, 'humidity': 0.67, 'pressure': 1016.62, 'windSpeed': 4.18, 'windGust': 4.66, 'windBearing': 172, 'cloudCover': 0.13, 'uvIndex': 7, 'visibility': 16.09, 'ozone': 296.79}, {'time': 1560096000, 'summary': 'Humid', 'icon': 'clear-day', 'precipIntensity': 0.1041, 'precipProbability': 0.1, 'precipType': 'rain', 'temperature': 30.46, 'apparentTemperature': 34.62, 'dewPoint': 22.83, 'humidity': 0.64, 'pressure': 1016.72, 'windSpeed': 4.51, 'windGust': 4.88, 'windBearing': 169, 'cloudCover': 0.19, 'uvIndex': 9, 'visibility': 16.09, 'ozone': 296.29}]\n"
     ]
    }
   ],
   "source": [
    "#85F = 29,4C\n",
    "hourlyinfos = (data['hourly']['data'])\n",
    "#print (hourlyinfos)\n"
   ]
  },
  {
   "cell_type": "code",
   "execution_count": 251,
   "metadata": {},
   "outputs": [
    {
     "name": "stdout",
     "output_type": "stream",
     "text": [
      "The temperature will be above 85 degrees 41% of the time.\n"
     ]
    }
   ],
   "source": [
    "import statistics\n",
    "temp_miami = []\n",
    "time = 0\n",
    "time_above = 0\n",
    "for info in hourlyinfos:\n",
    "    temp_miami.append(float(info['temperature']))\n",
    "    time = time + 1\n",
    "    if float(info['temperature']) > 29.4:\n",
    "        time_above = time_above + 1\n",
    "#print (time)\n",
    "#print (time_above)\n",
    "percentage = (time_above * 100)/49\n",
    "print (f\"The temperature will be above 85 degrees {round(percentage)}% of the time.\")"
   ]
  },
  {
   "cell_type": "code",
   "execution_count": null,
   "metadata": {
    "collapsed": true
   },
   "outputs": [],
   "source": []
  },
  {
   "cell_type": "markdown",
   "metadata": {},
   "source": [
    "## 9) What was the temperature in Central Park on Christmas Day, 2012? How about 2007? 2005? How far back does the API allow you to go?\n",
    "\n",
    "- *Tip: You'll need to use UNIX time, which is the number of seconds since January 1, 1970. Google can help you convert a normal date!*\n",
    "- *Tip: You'll want to use Forecast.io's \"time machine\" API, [documentation here](https://darksky.net/dev/docs/time-machine)*"
   ]
  },
  {
   "cell_type": "code",
   "execution_count": 293,
   "metadata": {},
   "outputs": [],
   "source": [
    "#https://api.darksky.net/forecast/[key]/[latitude],[longitude],[time]\n",
    "#12/25/2012, 12h = 1356436800\n",
    "#12/25/2007, 12h = 1198584000\n",
    "#12/25/2005, 12h = 1135512000\n",
    "#central park = 40.785091, -73.968285.\n",
    "c2012 = (f\"https://api.darksky.net/forecast/{API_DARKSKY_KEY}/40.785091,-73.968285,1356436800?exclude=currently\")\n",
    "c2007 = (f\"https://api.darksky.net/forecast/{API_DARKSKY_KEY}/40.785091,-73.968285,1198584000??exclude=currently\")\n",
    "c2005 = (f\"https://api.darksky.net/forecast/{API_DARKSKY_KEY}/40.785091,-73.968285,1135512000??exclude=currently\")\n",
    "import requests\n",
    "response = requests.get(c2012)\n",
    "data2012 = response.json()\n",
    "import requests\n",
    "response = requests.get(c2007)\n",
    "data2007 = response.json()\n",
    "import requests\n",
    "response = requests.get(c2005)\n",
    "data2005 = response.json()"
   ]
  },
  {
   "cell_type": "code",
   "execution_count": 297,
   "metadata": {},
   "outputs": [
    {
     "name": "stdout",
     "output_type": "stream",
     "text": [
      "The temperature in Central Park on Christmas Day, 2012 at 12h was 35.16F.\n"
     ]
    }
   ],
   "source": [
    "xday2012 = data2012['hourly']['data']\n",
    "#print (xday2012)\n",
    "mid_temp = []\n",
    "for info in xday2012:\n",
    "    if info['time'] == 1356436800:\n",
    "        print (f\"The temperature in Central Park on Christmas Day, 2012 at 12h was {info['apparentTemperature']}F.\")"
   ]
  },
  {
   "cell_type": "code",
   "execution_count": 298,
   "metadata": {},
   "outputs": [
    {
     "name": "stdout",
     "output_type": "stream",
     "text": [
      "The temperature in Central Park on Christmas Day, 2007 at 12h was 30.27F.\n"
     ]
    }
   ],
   "source": [
    "xday2007 = data2007['hourly']['data']\n",
    "mid_temp = []\n",
    "for info in xday2007:\n",
    "    if info['time'] == 1198584000:\n",
    "        print (f\"The temperature in Central Park on Christmas Day, 2007 at 12h was {info['apparentTemperature']}F.\")"
   ]
  },
  {
   "cell_type": "code",
   "execution_count": 299,
   "metadata": {},
   "outputs": [],
   "source": [
    "xday2005 = data2005['daily']['data']\n",
    "for info in xday2005:\n",
    "    if info['time'] == 1135512000:\n",
    "        print (f\"The temperature in Central Park on Christmas Day, 2005 at 12h was {info['apparentTemperature']}F.\")"
   ]
  },
  {
   "cell_type": "code",
   "execution_count": null,
   "metadata": {},
   "outputs": [],
   "source": []
  },
  {
   "cell_type": "code",
   "execution_count": null,
   "metadata": {},
   "outputs": [],
   "source": []
  }
 ],
 "metadata": {
  "kernelspec": {
   "display_name": "Python 3",
   "language": "python",
   "name": "python3"
  },
  "language_info": {
   "codemirror_mode": {
    "name": "ipython",
    "version": 3
   },
   "file_extension": ".py",
   "mimetype": "text/x-python",
   "name": "python",
   "nbconvert_exporter": "python",
   "pygments_lexer": "ipython3",
   "version": "3.7.1"
  }
 },
 "nbformat": 4,
 "nbformat_minor": 1
}
